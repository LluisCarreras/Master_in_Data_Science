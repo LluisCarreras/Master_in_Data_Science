{
 "metadata": {
  "kernelspec": {
   "display_name": "Python 2",
   "language": "python",
   "name": "python2"
  },
  "language_info": {
   "codemirror_mode": {
    "name": "ipython",
    "version": 2
   },
   "file_extension": ".py",
   "mimetype": "text/x-python",
   "name": "python",
   "nbconvert_exporter": "python",
   "pygments_lexer": "ipython2",
   "version": "2.7.12"
  },
  "name": "",
  "signature": "sha256:c70ffde340aac0f24cc5610f4b33eb42a73669524b7347fcdd6db35bec3b3ac3"
 },
 "nbformat": 3,
 "nbformat_minor": 0,
 "worksheets": [
  {
   "cells": [
    {
     "cell_type": "heading",
     "level": 1,
     "metadata": {},
     "source": [
      "Programaci\u00f3n para *Data Science*"
     ]
    },
    {
     "cell_type": "markdown",
     "metadata": {},
     "source": [
      "Unidad 4: Librer\u00edas cient\u00edficas en Python - NumPy - Ejercicios\n",
      "-------------------------------------------------"
     ]
    },
    {
     "cell_type": "markdown",
     "metadata": {},
     "source": [
      "Ejercicios y preguntas te\u00f3ricas\n",
      "-------------------------------"
     ]
    },
    {
     "cell_type": "markdown",
     "metadata": {},
     "source": [
      "### Ejercicio 1\n",
      "Cread una matriz de 8x8 que tenga un patr\u00f3n 0 (blancas) / 1 (negras) como si se tratara de un tablero de ajedrez. **(0.5 puntos)**"
     ]
    },
    {
     "cell_type": "code",
     "collapsed": false,
     "input": [
      "import numpy as np\n"
     ],
     "language": "python",
     "metadata": {},
     "outputs": [],
     "prompt_number": 52
    },
    {
     "cell_type": "code",
     "collapsed": false,
     "input": [
      "tablero = np.array([[(i+j)%2 for i in range(8)] for j in range(8)])\n",
      "tablero"
     ],
     "language": "python",
     "metadata": {},
     "outputs": [
      {
       "metadata": {},
       "output_type": "pyout",
       "prompt_number": 53,
       "text": [
        "array([[0, 1, 0, 1, 0, 1, 0, 1],\n",
        "       [1, 0, 1, 0, 1, 0, 1, 0],\n",
        "       [0, 1, 0, 1, 0, 1, 0, 1],\n",
        "       [1, 0, 1, 0, 1, 0, 1, 0],\n",
        "       [0, 1, 0, 1, 0, 1, 0, 1],\n",
        "       [1, 0, 1, 0, 1, 0, 1, 0],\n",
        "       [0, 1, 0, 1, 0, 1, 0, 1],\n",
        "       [1, 0, 1, 0, 1, 0, 1, 0]])"
       ]
      }
     ],
     "prompt_number": 53
    },
    {
     "cell_type": "markdown",
     "metadata": {},
     "source": [
      "### Ejercicio 2\n",
      "Cread dos matrices de tama\u00f1o 3x2 y 2x2 con n\u00fameros reales aleatorios y obtened la matriz resultado de multiplicar la primera por la segunda. **(0.5 puntos)**"
     ]
    },
    {
     "cell_type": "code",
     "collapsed": false,
     "input": [
      "A = np.random.randint(0, 2, (3, 2))\n",
      "A"
     ],
     "language": "python",
     "metadata": {},
     "outputs": [
      {
       "metadata": {},
       "output_type": "pyout",
       "prompt_number": 54,
       "text": [
        "array([[1, 1],\n",
        "       [1, 1],\n",
        "       [0, 0]])"
       ]
      }
     ],
     "prompt_number": 54
    },
    {
     "cell_type": "code",
     "collapsed": false,
     "input": [
      "B = np.random.randint(0, 2, (2, 2))\n",
      "B"
     ],
     "language": "python",
     "metadata": {},
     "outputs": [
      {
       "metadata": {},
       "output_type": "pyout",
       "prompt_number": 55,
       "text": [
        "array([[0, 0],\n",
        "       [1, 0]])"
       ]
      }
     ],
     "prompt_number": 55
    },
    {
     "cell_type": "code",
     "collapsed": false,
     "input": [
      "C = A.dot(B)\n",
      "C"
     ],
     "language": "python",
     "metadata": {},
     "outputs": [
      {
       "metadata": {},
       "output_type": "pyout",
       "prompt_number": 56,
       "text": [
        "array([[1, 0],\n",
        "       [1, 0],\n",
        "       [0, 0]])"
       ]
      }
     ],
     "prompt_number": 56
    },
    {
     "cell_type": "markdown",
     "metadata": {},
     "source": [
      "### Ejercicio 3\n",
      "Calculad la media y la desviaci\u00f3n est\u00e1ndar de un vector aleatorio de 100 posiciones. **(0.5 puntos)**"
     ]
    },
    {
     "cell_type": "code",
     "collapsed": false,
     "input": [
      "vector100 = np.array([np.random.randint(0, 2) for _ in range(100)])"
     ],
     "language": "python",
     "metadata": {},
     "outputs": [],
     "prompt_number": 57
    },
    {
     "cell_type": "code",
     "collapsed": false,
     "input": [
      "print \"Media: %f\" % np.mean(vector100)"
     ],
     "language": "python",
     "metadata": {},
     "outputs": [
      {
       "output_type": "stream",
       "stream": "stdout",
       "text": [
        "Media: 0.510000\n"
       ]
      }
     ],
     "prompt_number": 58
    },
    {
     "cell_type": "code",
     "collapsed": false,
     "input": [
      "print \"Desviaci\u00f3n est\u00e1ndar: %f\" %np.std(vector100)"
     ],
     "language": "python",
     "metadata": {},
     "outputs": [
      {
       "output_type": "stream",
       "stream": "stdout",
       "text": [
        "Desviaci\u00f3n est\u00e1ndar: 0.499900\n"
       ]
      }
     ],
     "prompt_number": 59
    },
    {
     "cell_type": "markdown",
     "metadata": {},
     "source": [
      "### Ejercicio 4\n",
      "Evaluad las funciones coseno y seno en el intervalo [0,1] y con paso (resoluci\u00f3n) de 0.05 y guardadlas en dos _arrays_. **(0.5 puntos)**"
     ]
    },
    {
     "cell_type": "code",
     "collapsed": false,
     "input": [
      "seno = np.array([np.sin(i) for i in np.arange(0, 1.05, 0.05)])\n",
      "seno"
     ],
     "language": "python",
     "metadata": {},
     "outputs": [
      {
       "metadata": {},
       "output_type": "pyout",
       "prompt_number": 60,
       "text": [
        "array([ 0.        ,  0.04997917,  0.09983342,  0.14943813,  0.19866933,\n",
        "        0.24740396,  0.29552021,  0.34289781,  0.38941834,  0.43496553,\n",
        "        0.47942554,  0.52268723,  0.56464247,  0.60518641,  0.64421769,\n",
        "        0.68163876,  0.71735609,  0.75128041,  0.78332691,  0.8134155 ,\n",
        "        0.84147098])"
       ]
      }
     ],
     "prompt_number": 60
    },
    {
     "cell_type": "code",
     "collapsed": false,
     "input": [
      "coseno = np.array([np.cos(i) for i in np.arange(0, 1.05, 0.05)])\n",
      "coseno"
     ],
     "language": "python",
     "metadata": {},
     "outputs": [
      {
       "metadata": {},
       "output_type": "pyout",
       "prompt_number": 61,
       "text": [
        "array([ 1.        ,  0.99875026,  0.99500417,  0.98877108,  0.98006658,\n",
        "        0.96891242,  0.95533649,  0.93937271,  0.92106099,  0.9004471 ,\n",
        "        0.87758256,  0.85252452,  0.82533561,  0.7960838 ,  0.76484219,\n",
        "        0.73168887,  0.69670671,  0.65998315,  0.62160997,  0.58168309,\n",
        "        0.54030231])"
       ]
      }
     ],
     "prompt_number": 61
    },
    {
     "cell_type": "markdown",
     "metadata": {},
     "source": [
      "### Pregunta 1\n",
      "\u00bfC\u00f3mo se pueden ordenar los valores de una matriz bidimensional? \u00bfC\u00f3mo podemos ordenar por un determinado eje? Poned un ejemplo de c\u00f3mo ordenar una matriz bidimensional cualquiera. **(0.5 puntos)**"
     ]
    },
    {
     "cell_type": "markdown",
     "metadata": {},
     "source": [
      "#### Respuesta:\n",
      "Las matrices tienen la funci\u00f3n sort() que permite ordenarlas. Si se especifica un eje en concreto la matriz se ordena\u00e1 seg\u00fan ese eje. Veamos unos ejemplos:"
     ]
    },
    {
     "cell_type": "code",
     "collapsed": false,
     "input": [
      "matriz = np.arange(9)\n",
      "np.random.shuffle(matriz)\n",
      "matriz = matriz.reshape(3, 3)\n",
      "print matriz"
     ],
     "language": "python",
     "metadata": {},
     "outputs": [
      {
       "output_type": "stream",
       "stream": "stdout",
       "text": [
        "[[2 8 4]\n",
        " [6 7 3]\n",
        " [0 1 5]]\n"
       ]
      }
     ],
     "prompt_number": 62
    },
    {
     "cell_type": "markdown",
     "metadata": {},
     "source": [
      "Veamos qu\u00e9 pasa al aplicarle la funci\u00f3n sort() sin ning\u00fan argumento:"
     ]
    },
    {
     "cell_type": "code",
     "collapsed": false,
     "input": [
      "matriz.sort()\n",
      "print matriz"
     ],
     "language": "python",
     "metadata": {},
     "outputs": [
      {
       "output_type": "stream",
       "stream": "stdout",
       "text": [
        "[[2 4 8]\n",
        " [3 6 7]\n",
        " [0 1 5]]\n"
       ]
      }
     ],
     "prompt_number": 63
    },
    {
     "cell_type": "markdown",
     "metadata": {},
     "source": [
      "Vemos que se ordenan los valores en cada fila. Veamos qu\u00e9 pasa si especificamos el eje 0:"
     ]
    },
    {
     "cell_type": "code",
     "collapsed": false,
     "input": [
      "matriz.sort(axis=0)\n",
      "print matriz"
     ],
     "language": "python",
     "metadata": {},
     "outputs": [
      {
       "output_type": "stream",
       "stream": "stdout",
       "text": [
        "[[0 1 5]\n",
        " [2 4 7]\n",
        " [3 6 8]]\n"
       ]
      }
     ],
     "prompt_number": 64
    },
    {
     "cell_type": "markdown",
     "metadata": {},
     "source": [
      "Vemos que respecto al \u00faltimo valor de la \u00faltima matriz, se ordenan los valores en cada columna. Veamos ahora si especificamos el eje 1:"
     ]
    },
    {
     "cell_type": "code",
     "collapsed": false,
     "input": [
      "matriz.sort(axis=1)\n",
      "print matriz"
     ],
     "language": "python",
     "metadata": {},
     "outputs": [
      {
       "output_type": "stream",
       "stream": "stdout",
       "text": [
        "[[0 1 5]\n",
        " [2 4 7]\n",
        " [3 6 8]]\n"
       ]
      }
     ],
     "prompt_number": 65
    },
    {
     "cell_type": "markdown",
     "metadata": {},
     "source": [
      "Parece que no haya hecho nada, pero esto es debido a que la matriz ya ha sido ordenada por filas y por columnas. Empecemos con un nuevo ejemplo para ver qu\u00e9 pasa al especificar el eje 1:"
     ]
    },
    {
     "cell_type": "code",
     "collapsed": false,
     "input": [
      "matriz = np.arange(9)\n",
      "np.random.shuffle(matriz)\n",
      "matriz = matriz.reshape(3, 3)\n",
      "print matriz"
     ],
     "language": "python",
     "metadata": {},
     "outputs": [
      {
       "output_type": "stream",
       "stream": "stdout",
       "text": [
        "[[6 0 1]\n",
        " [5 3 2]\n",
        " [8 4 7]]\n"
       ]
      }
     ],
     "prompt_number": 66
    },
    {
     "cell_type": "code",
     "collapsed": false,
     "input": [
      "matriz.sort(axis=1)\n",
      "print matriz"
     ],
     "language": "python",
     "metadata": {},
     "outputs": [
      {
       "output_type": "stream",
       "stream": "stdout",
       "text": [
        "[[0 1 6]\n",
        " [2 3 5]\n",
        " [4 7 8]]\n"
       ]
      }
     ],
     "prompt_number": 67
    },
    {
     "cell_type": "markdown",
     "metadata": {},
     "source": [
      "Vemos que, efectivamente, se ordenan los valores en cada fila. As\u00ed pues, sort() y sort(axis=1) hacen lo mismo, ordenan seg\u00fan las filas, por lo que axis=1 es el valor por defecto."
     ]
    },
    {
     "cell_type": "markdown",
     "metadata": {},
     "source": [
      "### Pregunta 2\n",
      "\u00bfC\u00f3mo podemos comparar dos arrays de la misma dimensi\u00f3n? Poned un ejemplo. **(0.5 puntos)**"
     ]
    },
    {
     "cell_type": "markdown",
     "metadata": {},
     "source": [
      "#### Respuesta: \n",
      "Se pueden comparar de dos maneras, o bien elemento a elemento o bien toda la matriz a la vez. Veamos un ejemplo de cada tipo. Primero, veamos una comparaci\u00f3n elemento a elemento."
     ]
    },
    {
     "cell_type": "code",
     "collapsed": false,
     "input": [
      "a = np.array([(1, 2, 3), (4, 5, 6)])\n",
      "b = np.array([(1, 3, 4), (2, 5, 6)])\n",
      "a == b"
     ],
     "language": "python",
     "metadata": {},
     "outputs": [
      {
       "metadata": {},
       "output_type": "pyout",
       "prompt_number": 70,
       "text": [
        "array([[ True, False, False],\n",
        "       [False,  True,  True]], dtype=bool)"
       ]
      }
     ],
     "prompt_number": 70
    },
    {
     "cell_type": "markdown",
     "metadata": {},
     "source": [
      "Vemos que el resultado es el esperado. Veamos ahora el otro tipo de comparaci\u00f3n:"
     ]
    },
    {
     "cell_type": "code",
     "collapsed": false,
     "input": [
      "np.array_equal(a, b)"
     ],
     "language": "python",
     "metadata": {},
     "outputs": [
      {
       "metadata": {},
       "output_type": "pyout",
       "prompt_number": 71,
       "text": [
        "False"
       ]
      }
     ],
     "prompt_number": 71
    },
    {
     "cell_type": "markdown",
     "metadata": {},
     "source": [
      "Los dos arrays no son iguales, por lo que el resultado es False. Veamos ahora qu\u00e9 pasa con dos arrays iguales:"
     ]
    },
    {
     "cell_type": "code",
     "collapsed": false,
     "input": [
      "a = np.array([(1, 2, 3), (4, 5, 6)])\n",
      "b = np.array([(1, 2, 3), (4, 5, 6)])\n",
      "np.array_equal(a, b)"
     ],
     "language": "python",
     "metadata": {},
     "outputs": [
      {
       "metadata": {},
       "output_type": "pyout",
       "prompt_number": 72,
       "text": [
        "True"
       ]
      }
     ],
     "prompt_number": 72
    },
    {
     "cell_type": "markdown",
     "metadata": {},
     "source": [
      "Al ser los dos arrays iguales, ahora s\u00ed que elresultado es True."
     ]
    },
    {
     "cell_type": "markdown",
     "metadata": {},
     "source": [
      "### Pregunta 3\n",
      "\u00bfPara qu\u00e9 sirve la herramienta *f2py* incluida en la librer\u00eda NumPy? **(0.5 puntos)**"
     ]
    },
    {
     "cell_type": "markdown",
     "metadata": {},
     "source": [
      "#### Respuesta:\n",
      "El prop\u00f3sito de la herramienta f2py incluida en la librer\u00eda NumPy es proporcionar una conexi\u00f3n entre Python y los lenguajes Fortran. f2py significa, precisamente, *Fortran To Python interface generator*. Es una extensi\u00f3n para crear m\u00f3dulos API en C o Fortran.\n",
      "\n",
      "El proceso para *envolver* funciones en Fortran o C hacia Python consiste en los siguientes pasos:\n",
      "-  Crear lo que se conoce como fichero de signatura que contiene descripciones de *envolturas* para funciones en Fortran o C, tambi\u00e9n llamados *signaturas de las funciones*. En el caso de rutinas en Fortran, f2py puede crear un fichero de signatura inicial escaneando el c\u00f3digo Fortran y recogiendo toda la informaci\u00f3n relevante necesaria para crear funciones envoltura.\n",
      "-  Opcionalmente, los ficheros de signatura creados con f2py pueden ser editados para optimizar las funciones envoltura, hacerlas m\u00e1s pythonicas y bien hechas. f2py lee un fichero de signatura y escribe un m\u00f3dulo Python para C o API conteniendo enlaces Fortran/C/Python.\n",
      "-  f2py compila todos los ficheros fuente y crea un m\u00f3dulo de extensi\u00f3n que contiene las envolturas. Para construir estos m\u00f3dulos, f2py utiliza *spipy_distutils* que soporta un n\u00famero de compiladores de Fortran 77/90/95, incluidos los compiladores para Gnu, Intel, Sun Fortre, SGI MIPSpro, Absoft, NAG, Compaq, etc.\n",
      "\n",
      "Dependiendo de la situaci\u00f3n particular, estos pasos pueden ser llevados a cabo en un solo comando o bien paso a paso, algunos pasos pueden omitirse o pueden combinarse."
     ]
    }
   ],
   "metadata": {}
  }
 ]
}