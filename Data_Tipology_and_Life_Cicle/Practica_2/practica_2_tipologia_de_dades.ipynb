{
 "cells": [
  {
   "cell_type": "markdown",
   "metadata": {},
   "source": [
    "# Pràctica 2"
   ]
  },
  {
   "cell_type": "markdown",
   "metadata": {},
   "source": [
    "## Presentació ##\n",
    "En aquesta pràctica s’elabora un cas pràctic orientat a aprendre a identificar les dades\n",
    "rellevants per un projecte analític i usar les eines d’integració, neteja, validació i anàlisi\n",
    "de les mateixes. Per fer aquesta pràctica haureu de treballar en grups de fins a 3\n",
    "persones, o si preferiu, també podeu fer-ho de manera individual. Haureu de lliurar un\n",
    "sol fitxer amb l’enllaç Github (https://github.com) on hi hagi les solucions incloent els\n",
    "noms dels components de l’equip. Podeu utilitzar la Wiki de Github per descriure el\n",
    "vostre equip i els diferents arxius que corresponen la vostra entrega. Cada membre de\n",
    "l’equip haurà de contribuir amb el seu usuari Github. Podeu utilitzar aquests exemples\n",
    "com guia:\n",
    "* Exemple: https://github.com/Bengis/nba-gap-cleaning\n",
    "* Exemple complex (fitxer adjunt)."
   ]
  },
  {
   "cell_type": "markdown",
   "metadata": {},
   "source": [
    "## Competències ##\n",
    "En aquesta pràctica es desenvolupen les següents competències del Màster de Data\n",
    "Science:\n",
    "* Capacitat d'analitzar un problema en el nivell d'abstracció adequat a cada situació i aplicar les habilitats i coneixements adquirits per abordar-lo i resoldre'l.\n",
    "* Capacitat per aplicar les tècniques específiques de tractament de dades (integració, transformació, neteja i validació) per al seu posterior anàlisi."
   ]
  },
  {
   "cell_type": "markdown",
   "metadata": {},
   "source": [
    "## Objectius ##\n",
    "Els objectius concrets d’aquesta pràctica són:\n",
    "* Aprendre a aplicar els coneixements adquirits i la seva capacitat de resolució de problemes en entorns nous o poc coneguts dintre de contextos més amplis o multidisciplinaris.\n",
    "* Saber identificar les dades rellevants i els tractaments necessaris (integració, neteja i validació) per dur a terme un projecte analític.\n",
    "* Aprendre a analitzar les dades adequadament per abordar la informació contiguda en les dades.\n",
    "* Identificar la millor representació dels resultats per tal d’aportar conclusions sobre el problema plantejat en el procés analític.\n",
    "* Actuar amb els principis ètics i legals relacionats amb la manipulació de dades en funció de l'àmbit d'aplicació.\n",
    "* Desenvolupar les habilitats d'aprenentatge que els permetin continuar estudiant d'una manera que haurà de ser en gran manera autodirigida o autònoma.\n",
    "* Desenvolupar la capacitat de cerca, gestió i ús d'informació i recursos en l'àmbit de la ciència de dades."
   ]
  },
  {
   "cell_type": "markdown",
   "metadata": {},
   "source": [
    "## Descripció de la Pràctica a realitzar ##\n",
    "L’objectiu d’aquesta activitat serà el tractament d’un dataset, que pot ser el creat a la\n",
    "pràctica 1 o bé qualsevol dataset lliure disponible a Kaggle (https://www.kaggle.com).\n",
    "Alguns exemples de dataset amb els que podeu treballar són:\n",
    "* Red Wine Quality (https://www.kaggle.com/uciml/red-wine-quality-cortez-et-al- 2009).\n",
    "* Titanic: Machine Learning from Disaster (https://www.kaggle.com/c/titanic ).\n",
    "* Predict Future Sales (https://www.kaggle.com/c/competitive-data-sciencepredict-future-sales/).\n",
    "\n",
    "Els últims dos exemples corresponen a competicions actives a Kaggle de manera que,\n",
    "opcionalment, podrieu aprofitar el treball realitzat durant la pràctica per entrar en\n",
    "alguna d’aquestes competicions.\n",
    "Seguint les principals etapes d’un projecte analític, les diferents tasques a realitzar (i\n",
    "justificar) són les següents:\n",
    "\n",
    "1. Descripció del dataset. Perquè és important i quina pregunta/problema pretèn respondre?\n",
    "2. Integració i selecció de les dades d’interès a analitzar.\n",
    "3. Neteja de les dades.\n",
    "  * 3.1. Les dades contenen zeros o elements buits? Com gestionaries aquests casos?\n",
    "  * 3.2. Identificació i tractament de valors extrems. \n",
    "4. Anàlisi de les dades.\n",
    "  * 4.1. Selecció dels grups de dades que es volen analitzar/comparar (planificació dels anàlisis a aplicar).\n",
    "  * 4.2. Comprovació de la normalitat i homogeneïtat de la variància.\n",
    "  * 4.3. Aplicació de proves estadístiques per comparar els grups de dades. En funció de les dades i de l’objectiu de l’estudi, aplicar proves de contrast d’hipòtesis, correlacions, regressions, etc.\n",
    "5. Representació dels resultats a partir de taules i gràfiques.\n",
    "6. Resolució del problema. A partir dels resultats obtinguts, quines són les conclusions? Els resultats permeten respondre al problema?\n",
    "7. Codi: Cal adjuntar el codi, preferiblement en R, amb el que s’ha realitzat la neteja, anàlisi i representació de les dades. Si ho preferiu, també podeu treballar en Python."
   ]
  },
  {
   "cell_type": "markdown",
   "metadata": {},
   "source": [
    "## Recursos ##\n",
    "Els següents recursos són d’utilitat per la realització de la pràctica:\n",
    "* Megan Squire (2015). Clean Data. Packt Publishing Ltd.\n",
    "* Jiawei Han, Micheine Kamber, Jian Pei (2012). Data mining: concepts and techniques. Morgan Kaufmann.\n",
    "* Jason W. Osborne (2010). Data Cleaning Basics: Best Practices in Dealing with Extreme Scores. Newborn and Infant Nursing Reviews; 10 (1): pp. 1527-3369.\n",
    "* Peter Dalgaard (2008). Introductory statistics with R. Springer Science & Business Media.\n",
    "* Wes McKinney (2012). Python for Data Analysis. O’Reilley Media, Inc.\n",
    "* Tutorial de Github https://guides.github.com/activities/hello-world."
   ]
  },
  {
   "cell_type": "markdown",
   "metadata": {},
   "source": [
    "## Criteris de valoració ##\n",
    "Tots els apartat són obligatoris. La ponderació dels exercicis és la següent:\n",
    "* Els apartats 1, 2 i 6 valen 0,5 punts.\n",
    "* Els apartats 3,5 i 7 valen 2 punts.\n",
    "* L’apartat 4 val 2,5 punts.\n",
    "Es valorarà la idoneïtat de les respostes, que han de ser clares i completes. Les\n",
    "diferents etapes han d’estar ben justificades i acompanyades del codi corresponent.\n",
    "També es valorarà la síntesi i claredat, a través de l’ús de comentaris, del codi\n",
    "resultant, així com la qualitat de les dades finals analitzades."
   ]
  },
  {
   "cell_type": "markdown",
   "metadata": {},
   "source": [
    "## Format i data de lliurament ##\n",
    "Durant la setmana del 14 de maig el grup podrà lliurar al professor una entrega parcial\n",
    "opcional. Aquesta entrega parcial és molt recomanable per tal de rebre assessorament\n",
    "sobre la pràctica i verificar que la direcció presa és la correcta. Es lliuraran comentaris\n",
    "als estudiants que hagin efectuat l’entrega parcial però no comptarà per la nota de la\n",
    "pràctica. En l’entrega parcial els estudiants hauran de lliurar per correu electrònic\n",
    "(mcalvogonza@uoc.edu) l’enllaç al repositori Github amb el que hagin avançat.\n",
    "Pel que fa a l’entrega final, cal lliurar un únic fitxer que contingui l’enllaç a Github on hi hagi:\n",
    "1. Una Wiki on hi hagi els noms dels components del grup i una descripció dels fitxers.\n",
    "2. Un document Word, Open Office o PDF amb les respostes a les preguntes i els noms dels components del grup.\n",
    "3. Una carpeta amb el codi generat per analitzar les dades.\n",
    "4. El fitxer CSV amb les dades originals.\n",
    "5. El fitxer CSV amb les dades finals analitzades.\n",
    "Aquest document de l’entrega final de la Pràctica 2 s’ha de lliurar a l’espai de Lliurament i Registre d’AC de l’aula abans de les 23:59 del dia 11 de juny. No s’acceptaran lliuraments fora de termini."
   ]
  },
  {
   "cell_type": "markdown",
   "metadata": {},
   "source": [
    "# 1. Descripció del dataset. Perquè és important i quina pregunta/problema pretèn respondre? #"
   ]
  },
  {
   "cell_type": "markdown",
   "metadata": {},
   "source": [
    "Per a la realització d'aquesta pràctica faré servir el dataset que vaig crear a la Pràctica 1. Aquest dataset conté informació sobre el nomenclàtor de la ciutat de Barcelona. Hem de tenir en compte que els noms dels carrers han anat evolucionant amb el temps i són un fidel reflex dels diversos esdeveniments tant històrics com socials, econòmics, polítics i culturals ocorreguts en aquesta ciutat. A més, la seva evolució ve marcada per diferents factors, tant de físics, tals com l’urbanisme i els diferents canvis territorials, com socials, tals com els canvis de govern o l'evolució de la pròpia societat. \n",
    "\n",
    "La informació del dataset es troba emmagatzemada en un fitxer CSV, en el que cada fila està identificada per un índex que és únic per a cada carrer i que segueix la codificació utilitzada per l’Ajuntament de Barcelona. \n",
    "\n",
    "Per a cada carrer s’especifiquen els següents camps:\n",
    "* Codi.\n",
    "* Nom oficial del carrer.\n",
    "* Nom curt del carrer.\n",
    "* Descripció de l’origen i història del carrer.\n",
    "* Data d’aprovació.\n",
    "* Noms anteriors del carrer.\n",
    "* Districtes en els que el carrer està contingut.\n",
    "\n",
    "En el seu moment la idea que vaig tenir per crear aquest dataset va ser fer-lo servir per desenvolupar una aplicació de mòbil per donar informació sobre la història dels carrers de Barcelona, però en vistes a realitzar aquesta pràctica li he vist una nova possible aplicació: estudiar l'evolució de l'assignació de noms a carrers en referència als carrers dedicats a personatges i, dintre d'aquest conjunt, els que estan dedicats a personatges femenins i masculins. Considero interessant poder estudiar l'evolució de l'assignació de noms de carrers a personatges femenins, i a partir d'aquí proposo una hipòtesi que serà la que intentaré confirmar o descartar a partir de l'estudi de les dades: a mesura que la societat ha anat evolucionant i s'ha anat donant visibilitat a la població femenina, intueixo que es deuen haver assignat més noms de carrers a personatges femenins. \n",
    "\n",
    "Anem, doncs, a estudiar les dades per poder valorar la consistència d'aquesta hipòtesi. En cas de que quedi confirmada, pot servir per confirmar la tendència a l'assoliment de la igualtat entre sexes; en cas contrari, pot servir com a prova per animar als responsables polítics per tenir en compte la igualtat de sexes en l'assignació dels noms dels carrers.\n",
    "\n",
    "Faré servir Jupyter amb Python, ja que aquesta combinació la trobo molt còmode per treballar en l'anàlisi i representació de les dades i per afegir l'explicació del que es va fent, de manera seqüencial."
   ]
  },
  {
   "cell_type": "markdown",
   "metadata": {},
   "source": [
    "# 2. Integració i selecció de les dades d’interès a analitzar. #"
   ]
  },
  {
   "cell_type": "markdown",
   "metadata": {},
   "source": [
    "Anem a veure, primer de tot, les dades que vam obtenir a la Pràctica 1. Primer de tot, importem algunes llibreries que farem servir, i forcem les gràfiques a que es vegin incrustades en aquest full de Jupyter."
   ]
  },
  {
   "cell_type": "code",
   "execution_count": 1,
   "metadata": {
    "collapsed": true
   },
   "outputs": [],
   "source": [
    "import pandas as pd\n",
    "import numpy as np\n",
    "import matplotlib.pyplot as plt\n",
    "\n",
    "%matplotlib inline"
   ]
  },
  {
   "cell_type": "markdown",
   "metadata": {},
   "source": [
    "Importem el dataset generat a la Pràctica 1 i l'emmagatzamem en un dataframe de pandas."
   ]
  },
  {
   "cell_type": "code",
   "execution_count": 2,
   "metadata": {
    "collapsed": false
   },
   "outputs": [],
   "source": [
    "nomenclator_df = pd.read_csv(\"BCN_nomenclator.csv\", encoding=\"utf8\", sep='\\t') "
   ]
  },
  {
   "cell_type": "markdown",
   "metadata": {},
   "source": [
    "Anem a veure l'aspecte d'aquestes dades."
   ]
  },
  {
   "cell_type": "code",
   "execution_count": 3,
   "metadata": {
    "collapsed": false,
    "scrolled": false
   },
   "outputs": [
    {
     "data": {
      "text/html": [
       "<div>\n",
       "<table border=\"1\" class=\"dataframe\">\n",
       "  <thead>\n",
       "    <tr style=\"text-align: right;\">\n",
       "      <th></th>\n",
       "      <th>Unnamed: 0</th>\n",
       "      <th>CODI_VIA</th>\n",
       "      <th>TIPUS_VIA</th>\n",
       "      <th>NOM_OFICIAL</th>\n",
       "      <th>NOM_CURT</th>\n",
       "      <th>DESCRIPCIO</th>\n",
       "      <th>DATA_APROVACIO</th>\n",
       "      <th>NOMS_ANTERIORS</th>\n",
       "      <th>DISTRICTES</th>\n",
       "    </tr>\n",
       "  </thead>\n",
       "  <tbody>\n",
       "    <tr>\n",
       "      <th>0</th>\n",
       "      <td>0</td>\n",
       "      <td>102</td>\n",
       "      <td>C</td>\n",
       "      <td>Carrer dels Llebrencs</td>\n",
       "      <td>Llebrencs</td>\n",
       "      <td>Nom popular que es dóna als nascuts a Vallvidr...</td>\n",
       "      <td>29/06/1987</td>\n",
       "      <td>Lletra A (Vallvidrera)</td>\n",
       "      <td>SARRIÀ-SANT GERVASI (05)</td>\n",
       "    </tr>\n",
       "    <tr>\n",
       "      <th>1</th>\n",
       "      <td>1</td>\n",
       "      <td>180</td>\n",
       "      <td>C</td>\n",
       "      <td>Carrer A Zona Franca</td>\n",
       "      <td>A</td>\n",
       "      <td>Carrer del polígon industrial del Consorci de ...</td>\n",
       "      <td>16/02/1968</td>\n",
       "      <td>NaN</td>\n",
       "      <td>SANTS-MONTJUÏC (03)</td>\n",
       "    </tr>\n",
       "    <tr>\n",
       "      <th>2</th>\n",
       "      <td>2</td>\n",
       "      <td>204</td>\n",
       "      <td>C</td>\n",
       "      <td>Carrer de Guerau de Liost</td>\n",
       "      <td>Guerau de Liost</td>\n",
       "      <td>Jaume Bofill i Mates (Olot, 1878 - Barcelona, ...</td>\n",
       "      <td>29/07/1987</td>\n",
       "      <td>Ptge. lletra A (Vallvidrera)</td>\n",
       "      <td>SARRIÀ-SANT GERVASI (05)</td>\n",
       "    </tr>\n",
       "    <tr>\n",
       "      <th>3</th>\n",
       "      <td>3</td>\n",
       "      <td>306</td>\n",
       "      <td>C</td>\n",
       "      <td>Carrer de l'Abat Odó</td>\n",
       "      <td>Abat Odó</td>\n",
       "      <td>Abat Odó (? - 1010). Bisbe de Girona (995) i a...</td>\n",
       "      <td>(Abans de 1940)</td>\n",
       "      <td>Otto, 1939; Abat Odó, 1934; Otto, 1907; Santa ...</td>\n",
       "      <td>SANT ANDREU (09)</td>\n",
       "    </tr>\n",
       "    <tr>\n",
       "      <th>4</th>\n",
       "      <td>4</td>\n",
       "      <td>408</td>\n",
       "      <td>C</td>\n",
       "      <td>Carrer de l'Abat Samsó</td>\n",
       "      <td>Abat Samsó</td>\n",
       "      <td>Miquel Samsó (Girona, 1430 - ?). Abat de Sant ...</td>\n",
       "      <td>07/03/1939</td>\n",
       "      <td>Bernat Cavaller, 1931; Abat Samsó, 1927; Berna...</td>\n",
       "      <td>SARRIÀ-SANT GERVASI (05)</td>\n",
       "    </tr>\n",
       "  </tbody>\n",
       "</table>\n",
       "</div>"
      ],
      "text/plain": [
       "   Unnamed: 0  CODI_VIA TIPUS_VIA                NOM_OFICIAL         NOM_CURT  \\\n",
       "0           0       102         C      Carrer dels Llebrencs        Llebrencs   \n",
       "1           1       180         C       Carrer A Zona Franca                A   \n",
       "2           2       204         C  Carrer de Guerau de Liost  Guerau de Liost   \n",
       "3           3       306         C       Carrer de l'Abat Odó         Abat Odó   \n",
       "4           4       408         C     Carrer de l'Abat Samsó       Abat Samsó   \n",
       "\n",
       "                                          DESCRIPCIO    DATA_APROVACIO  \\\n",
       "0  Nom popular que es dóna als nascuts a Vallvidr...        29/06/1987   \n",
       "1  Carrer del polígon industrial del Consorci de ...        16/02/1968   \n",
       "2  Jaume Bofill i Mates (Olot, 1878 - Barcelona, ...        29/07/1987   \n",
       "3  Abat Odó (? - 1010). Bisbe de Girona (995) i a...   (Abans de 1940)   \n",
       "4  Miquel Samsó (Girona, 1430 - ?). Abat de Sant ...        07/03/1939   \n",
       "\n",
       "                                      NOMS_ANTERIORS                DISTRICTES  \n",
       "0                             Lletra A (Vallvidrera)  SARRIÀ-SANT GERVASI (05)  \n",
       "1                                                NaN       SANTS-MONTJUÏC (03)  \n",
       "2                       Ptge. lletra A (Vallvidrera)  SARRIÀ-SANT GERVASI (05)  \n",
       "3  Otto, 1939; Abat Odó, 1934; Otto, 1907; Santa ...          SANT ANDREU (09)  \n",
       "4  Bernat Cavaller, 1931; Abat Samsó, 1927; Berna...  SARRIÀ-SANT GERVASI (05)  "
      ]
     },
     "execution_count": 3,
     "metadata": {},
     "output_type": "execute_result"
    }
   ],
   "source": [
    "nomenclator_df.head(5)"
   ]
  },
  {
   "cell_type": "markdown",
   "metadata": {},
   "source": [
    "Per a fer el nostre estudi necessitem saber quin carrers estan dedicats a persones, i també necessitem saber el sexe d'aquestes persones. Com podem fer-ho per aconseguir aquesta informació? \n",
    "\n",
    "A la fila 2 veiem un cas de carrer dedicat a una persona. Anem a veure el camp _DESCRIPCIO_."
   ]
  },
  {
   "cell_type": "code",
   "execution_count": 4,
   "metadata": {
    "collapsed": false
   },
   "outputs": [
    {
     "data": {
      "text/plain": [
       "'Jaume Bofill i Mates (Olot, 1878 - Barcelona, 1933). Poeta, polític i periodista conegut amb el pseudònim de Guerau de Liost.'"
      ]
     },
     "execution_count": 4,
     "metadata": {},
     "output_type": "execute_result"
    }
   ],
   "source": [
    "nomenclator_df.at[2, 'DESCRIPCIO']"
   ]
  },
  {
   "cell_type": "markdown",
   "metadata": {},
   "source": [
    "Aquest camp comença amb el nom de la persona i, entre parèntesi, apareix la informació sobre lloc i data de naixement i mort. Per tant, considero que el que podem fer és aprofitar aquesta informació per fer les següents tasques:\n",
    "* Detectar les files que corresponen a carrers dedicats a persones.\n",
    "* Extreure el nom de la persona i afegir al dataset un nou camp pel nom de la persona: _NOM_P_.\n",
    "* Buscar per internet algun llistat de noms de persones i el seu sexe, i a partir d'aquestes dades, generar un altre camp _SEXE_P_ amb el sexe de la persona a la que es dedica el nom.\n",
    "* Extreure la informació de l'any en que es va aprovar el nom del carrer, a partir del camp _DATA_APROVACIO_.\n",
    "\n",
    "Així doncs, primer de tot realitzarem la neteja de les dades (apartat 3) i la seva anàlisi (apartat 4), que inclouran aquestes tasques que acabem d'esmentar."
   ]
  },
  {
   "cell_type": "markdown",
   "metadata": {},
   "source": [
    "# 3. Neteja de les dades.\n",
    "##     3.1. Les dades contenen zeros o elements buits? Com gestionaries aquests casos?\n",
    "##     3.2. Identificació i tractament de valors extrems."
   ]
  },
  {
   "cell_type": "markdown",
   "metadata": {},
   "source": [
    "Primer de tot, anem a veure quantes files tenim al dataframe:"
   ]
  },
  {
   "cell_type": "code",
   "execution_count": 5,
   "metadata": {
    "collapsed": false
   },
   "outputs": [
    {
     "data": {
      "text/plain": [
       "4622"
      ]
     },
     "execution_count": 5,
     "metadata": {},
     "output_type": "execute_result"
    }
   ],
   "source": [
    "len(nomenclator_df)"
   ]
  },
  {
   "cell_type": "markdown",
   "metadata": {},
   "source": [
    "Molt bé, tenim 4622 registres."
   ]
  },
  {
   "cell_type": "markdown",
   "metadata": {},
   "source": [
    "Ara, anem a el·liminar les columnes que considerem que no són necessàries pel nostre estudi: _Unnamed: 0_, _CODI_VIA_, _TIPUS_VIA_, _NOMS_ANTERIORS_ i _DISTRICTES_."
   ]
  },
  {
   "cell_type": "code",
   "execution_count": 6,
   "metadata": {
    "collapsed": true
   },
   "outputs": [],
   "source": [
    "nomenclator_df = nomenclator_df.drop(['Unnamed: 0', 'CODI_VIA', 'TIPUS_VIA', 'NOMS_ANTERIORS', 'DISTRICTES'], axis=1)"
   ]
  },
  {
   "cell_type": "code",
   "execution_count": 7,
   "metadata": {
    "collapsed": false
   },
   "outputs": [
    {
     "data": {
      "text/html": [
       "<div>\n",
       "<table border=\"1\" class=\"dataframe\">\n",
       "  <thead>\n",
       "    <tr style=\"text-align: right;\">\n",
       "      <th></th>\n",
       "      <th>NOM_OFICIAL</th>\n",
       "      <th>NOM_CURT</th>\n",
       "      <th>DESCRIPCIO</th>\n",
       "      <th>DATA_APROVACIO</th>\n",
       "    </tr>\n",
       "  </thead>\n",
       "  <tbody>\n",
       "    <tr>\n",
       "      <th>0</th>\n",
       "      <td>Carrer dels Llebrencs</td>\n",
       "      <td>Llebrencs</td>\n",
       "      <td>Nom popular que es dóna als nascuts a Vallvidr...</td>\n",
       "      <td>29/06/1987</td>\n",
       "    </tr>\n",
       "    <tr>\n",
       "      <th>1</th>\n",
       "      <td>Carrer A Zona Franca</td>\n",
       "      <td>A</td>\n",
       "      <td>Carrer del polígon industrial del Consorci de ...</td>\n",
       "      <td>16/02/1968</td>\n",
       "    </tr>\n",
       "    <tr>\n",
       "      <th>2</th>\n",
       "      <td>Carrer de Guerau de Liost</td>\n",
       "      <td>Guerau de Liost</td>\n",
       "      <td>Jaume Bofill i Mates (Olot, 1878 - Barcelona, ...</td>\n",
       "      <td>29/07/1987</td>\n",
       "    </tr>\n",
       "    <tr>\n",
       "      <th>3</th>\n",
       "      <td>Carrer de l'Abat Odó</td>\n",
       "      <td>Abat Odó</td>\n",
       "      <td>Abat Odó (? - 1010). Bisbe de Girona (995) i a...</td>\n",
       "      <td>(Abans de 1940)</td>\n",
       "    </tr>\n",
       "    <tr>\n",
       "      <th>4</th>\n",
       "      <td>Carrer de l'Abat Samsó</td>\n",
       "      <td>Abat Samsó</td>\n",
       "      <td>Miquel Samsó (Girona, 1430 - ?). Abat de Sant ...</td>\n",
       "      <td>07/03/1939</td>\n",
       "    </tr>\n",
       "  </tbody>\n",
       "</table>\n",
       "</div>"
      ],
      "text/plain": [
       "                 NOM_OFICIAL         NOM_CURT  \\\n",
       "0      Carrer dels Llebrencs        Llebrencs   \n",
       "1       Carrer A Zona Franca                A   \n",
       "2  Carrer de Guerau de Liost  Guerau de Liost   \n",
       "3       Carrer de l'Abat Odó         Abat Odó   \n",
       "4     Carrer de l'Abat Samsó       Abat Samsó   \n",
       "\n",
       "                                          DESCRIPCIO    DATA_APROVACIO  \n",
       "0  Nom popular que es dóna als nascuts a Vallvidr...        29/06/1987  \n",
       "1  Carrer del polígon industrial del Consorci de ...        16/02/1968  \n",
       "2  Jaume Bofill i Mates (Olot, 1878 - Barcelona, ...        29/07/1987  \n",
       "3  Abat Odó (? - 1010). Bisbe de Girona (995) i a...   (Abans de 1940)  \n",
       "4  Miquel Samsó (Girona, 1430 - ?). Abat de Sant ...        07/03/1939  "
      ]
     },
     "execution_count": 7,
     "metadata": {},
     "output_type": "execute_result"
    }
   ],
   "source": [
    "nomenclator_df.head(5)"
   ]
  },
  {
   "cell_type": "markdown",
   "metadata": {},
   "source": [
    "Anem a veure primer les dades estadístiques del dataframe:"
   ]
  },
  {
   "cell_type": "code",
   "execution_count": 8,
   "metadata": {
    "collapsed": false
   },
   "outputs": [
    {
     "data": {
      "text/html": [
       "<div>\n",
       "<table border=\"1\" class=\"dataframe\">\n",
       "  <thead>\n",
       "    <tr style=\"text-align: right;\">\n",
       "      <th></th>\n",
       "      <th>NOM_OFICIAL</th>\n",
       "      <th>NOM_CURT</th>\n",
       "      <th>DESCRIPCIO</th>\n",
       "      <th>DATA_APROVACIO</th>\n",
       "    </tr>\n",
       "  </thead>\n",
       "  <tbody>\n",
       "    <tr>\n",
       "      <th>count</th>\n",
       "      <td>4622</td>\n",
       "      <td>4622</td>\n",
       "      <td>4489</td>\n",
       "      <td>3888</td>\n",
       "    </tr>\n",
       "    <tr>\n",
       "      <th>unique</th>\n",
       "      <td>4622</td>\n",
       "      <td>4622</td>\n",
       "      <td>4308</td>\n",
       "      <td>751</td>\n",
       "    </tr>\n",
       "    <tr>\n",
       "      <th>top</th>\n",
       "      <td>Plaça de Boyeros</td>\n",
       "      <td>Plta Pedraforca</td>\n",
       "      <td>Carrer del polígon industrial del Consorci de ...</td>\n",
       "      <td>(Abans de 1900)</td>\n",
       "    </tr>\n",
       "    <tr>\n",
       "      <th>freq</th>\n",
       "      <td>1</td>\n",
       "      <td>1</td>\n",
       "      <td>30</td>\n",
       "      <td>420</td>\n",
       "    </tr>\n",
       "  </tbody>\n",
       "</table>\n",
       "</div>"
      ],
      "text/plain": [
       "             NOM_OFICIAL         NOM_CURT  \\\n",
       "count               4622             4622   \n",
       "unique              4622             4622   \n",
       "top     Plaça de Boyeros  Plta Pedraforca   \n",
       "freq                   1                1   \n",
       "\n",
       "                                               DESCRIPCIO    DATA_APROVACIO  \n",
       "count                                                4489              3888  \n",
       "unique                                               4308               751  \n",
       "top     Carrer del polígon industrial del Consorci de ...   (Abans de 1900)  \n",
       "freq                                                   30               420  "
      ]
     },
     "execution_count": 8,
     "metadata": {},
     "output_type": "execute_result"
    }
   ],
   "source": [
    "nomenclator_df.describe()"
   ]
  },
  {
   "cell_type": "markdown",
   "metadata": {},
   "source": [
    "Veiem que de les 4622 files, tenim que a les columnes _NOM_OFICIAL_ i _NOM_CURT_ tenim 4622, és a dir, que no tenim valors buits. En canvi, a la columna _DESCRIPCIO_ tenim 4489 registres i a _DATA_APROVACIO_ en tenim 3888, la qual cosa ens diu que aquestes columnes tenen valors buits. Anem a confirmar-ho:"
   ]
  },
  {
   "cell_type": "code",
   "execution_count": 9,
   "metadata": {
    "collapsed": false
   },
   "outputs": [
    {
     "name": "stdout",
     "output_type": "stream",
     "text": [
      "133\n",
      "734\n"
     ]
    }
   ],
   "source": [
    "print(len(nomenclator_df[nomenclator_df['DESCRIPCIO'].isnull()]))\n",
    "print(len(nomenclator_df[nomenclator_df['DATA_APROVACIO'].isnull()]))"
   ]
  },
  {
   "cell_type": "markdown",
   "metadata": {},
   "source": [
    "Efectivament, tenim 133 files amb el camp _DESCRIPCIO_ buit i  734 amb el camp _DATA_APROVACIO_ buit. Com que ens interessa veure l'evolució en el temps de l'assignació dels noms de carrers a persones, necessitem considerar només els registres que tenen valors en aquests dos camps. Per tant, decideixo sel·leccionar només els registres que tenen aquests dos camps no buits:"
   ]
  },
  {
   "cell_type": "code",
   "execution_count": 10,
   "metadata": {
    "collapsed": false
   },
   "outputs": [],
   "source": [
    "nomenclator_df = nomenclator_df[nomenclator_df['DESCRIPCIO'].notnull() & nomenclator_df['DATA_APROVACIO'].notnull()]"
   ]
  },
  {
   "cell_type": "code",
   "execution_count": 11,
   "metadata": {
    "collapsed": false
   },
   "outputs": [
    {
     "data": {
      "text/html": [
       "<div>\n",
       "<table border=\"1\" class=\"dataframe\">\n",
       "  <thead>\n",
       "    <tr style=\"text-align: right;\">\n",
       "      <th></th>\n",
       "      <th>NOM_OFICIAL</th>\n",
       "      <th>NOM_CURT</th>\n",
       "      <th>DESCRIPCIO</th>\n",
       "      <th>DATA_APROVACIO</th>\n",
       "    </tr>\n",
       "  </thead>\n",
       "  <tbody>\n",
       "    <tr>\n",
       "      <th>count</th>\n",
       "      <td>3876</td>\n",
       "      <td>3876</td>\n",
       "      <td>3876</td>\n",
       "      <td>3876</td>\n",
       "    </tr>\n",
       "    <tr>\n",
       "      <th>unique</th>\n",
       "      <td>3876</td>\n",
       "      <td>3876</td>\n",
       "      <td>3749</td>\n",
       "      <td>748</td>\n",
       "    </tr>\n",
       "    <tr>\n",
       "      <th>top</th>\n",
       "      <td>Carrer de Saldes</td>\n",
       "      <td>Peracamps</td>\n",
       "      <td>Carrer del polígon industrial del Consorci de ...</td>\n",
       "      <td>(Abans de 1900)</td>\n",
       "    </tr>\n",
       "    <tr>\n",
       "      <th>freq</th>\n",
       "      <td>1</td>\n",
       "      <td>1</td>\n",
       "      <td>19</td>\n",
       "      <td>420</td>\n",
       "    </tr>\n",
       "  </tbody>\n",
       "</table>\n",
       "</div>"
      ],
      "text/plain": [
       "             NOM_OFICIAL   NOM_CURT  \\\n",
       "count               3876       3876   \n",
       "unique              3876       3876   \n",
       "top     Carrer de Saldes  Peracamps   \n",
       "freq                   1          1   \n",
       "\n",
       "                                               DESCRIPCIO    DATA_APROVACIO  \n",
       "count                                                3876              3876  \n",
       "unique                                               3749               748  \n",
       "top     Carrer del polígon industrial del Consorci de ...   (Abans de 1900)  \n",
       "freq                                                   19               420  "
      ]
     },
     "execution_count": 11,
     "metadata": {},
     "output_type": "execute_result"
    }
   ],
   "source": [
    "nomenclator_df.describe()"
   ]
  },
  {
   "cell_type": "markdown",
   "metadata": {},
   "source": [
    "Perfecte, ara veiem que ja tenim només registres en els que els camps _DESCRIPCIO_ i _DATA_APROVACIO_ no són buits."
   ]
  },
  {
   "cell_type": "markdown",
   "metadata": {},
   "source": [
    "A continuació, hauriem de veure si tenim valors extrems. Tal com tenim les dades en aquest moment no tenim possibilitat de saber si tenim valors extrems, ja que no tenim camps numèrics. Més endavant, al següent apartat, afegirem alguns camps nous, dels quals n'hi ha un, el de l'any d'aprovació del nom del carrer, que serà numèric. Per tant, deixo la detecció de valors extrems pel moment en que haguem afegit aquesta nova columna."
   ]
  },
  {
   "cell_type": "markdown",
   "metadata": {},
   "source": [
    "# 4. Anàlisi de les dades.\n",
    "## 4.1. Selecció dels grups de dades que es volen analitzar/comparar (planificació dels anàlisis a aplicar).\n",
    "## 4.2. Comprovació de la normalitat i homogeneïtat de la variància.\n",
    "## 4.3. Aplicació de proves estadístiques per comparar els grups de dades. En funció de les dades i de l’objectiu de l’estudi, aplicar proves de contrast d’hipòtesis, correlacions, regressions, etc."
   ]
  },
  {
   "cell_type": "markdown",
   "metadata": {},
   "source": [
    "Primer de tot, anem a afegir les 3 columnes que haviem esmentat abans:"
   ]
  },
  {
   "cell_type": "code",
   "execution_count": 12,
   "metadata": {
    "collapsed": true
   },
   "outputs": [],
   "source": [
    "nomenclator_df = nomenclator_df.append(pd.DataFrame(columns=[\"ANY\"], dtype=int))"
   ]
  },
  {
   "cell_type": "code",
   "execution_count": 13,
   "metadata": {
    "collapsed": true
   },
   "outputs": [],
   "source": [
    "nomenclator_df = nomenclator_df.append(pd.DataFrame(columns=[\"NOM_P\"], dtype=str))"
   ]
  },
  {
   "cell_type": "code",
   "execution_count": 14,
   "metadata": {
    "collapsed": true
   },
   "outputs": [],
   "source": [
    "nomenclator_df = nomenclator_df.append(pd.DataFrame(columns=[\"SEXE_P\"], dtype=str))"
   ]
  },
  {
   "cell_type": "markdown",
   "metadata": {},
   "source": [
    "Un cop creades, les omplim amb valors per defecte:"
   ]
  },
  {
   "cell_type": "code",
   "execution_count": 15,
   "metadata": {
    "collapsed": true
   },
   "outputs": [],
   "source": [
    "nomenclator_df[\"ANY\"] = np.NaN"
   ]
  },
  {
   "cell_type": "code",
   "execution_count": 16,
   "metadata": {
    "collapsed": true
   },
   "outputs": [],
   "source": [
    "nomenclator_df[\"NOM_P\"] = \"\""
   ]
  },
  {
   "cell_type": "code",
   "execution_count": 17,
   "metadata": {
    "collapsed": true
   },
   "outputs": [],
   "source": [
    "nomenclator_df[\"SEXE_P\"] = \"\""
   ]
  },
  {
   "cell_type": "markdown",
   "metadata": {},
   "source": [
    "Anem a veure un exemple del que tenim fins ara:"
   ]
  },
  {
   "cell_type": "code",
   "execution_count": 18,
   "metadata": {
    "collapsed": false
   },
   "outputs": [
    {
     "data": {
      "text/html": [
       "<div>\n",
       "<table border=\"1\" class=\"dataframe\">\n",
       "  <thead>\n",
       "    <tr style=\"text-align: right;\">\n",
       "      <th></th>\n",
       "      <th>ANY</th>\n",
       "      <th>DATA_APROVACIO</th>\n",
       "      <th>DESCRIPCIO</th>\n",
       "      <th>NOM_CURT</th>\n",
       "      <th>NOM_OFICIAL</th>\n",
       "      <th>NOM_P</th>\n",
       "      <th>SEXE_P</th>\n",
       "    </tr>\n",
       "  </thead>\n",
       "  <tbody>\n",
       "    <tr>\n",
       "      <th>0</th>\n",
       "      <td>NaN</td>\n",
       "      <td>29/06/1987</td>\n",
       "      <td>Nom popular que es dóna als nascuts a Vallvidr...</td>\n",
       "      <td>Llebrencs</td>\n",
       "      <td>Carrer dels Llebrencs</td>\n",
       "      <td></td>\n",
       "      <td></td>\n",
       "    </tr>\n",
       "    <tr>\n",
       "      <th>1</th>\n",
       "      <td>NaN</td>\n",
       "      <td>16/02/1968</td>\n",
       "      <td>Carrer del polígon industrial del Consorci de ...</td>\n",
       "      <td>A</td>\n",
       "      <td>Carrer A Zona Franca</td>\n",
       "      <td></td>\n",
       "      <td></td>\n",
       "    </tr>\n",
       "    <tr>\n",
       "      <th>2</th>\n",
       "      <td>NaN</td>\n",
       "      <td>29/07/1987</td>\n",
       "      <td>Jaume Bofill i Mates (Olot, 1878 - Barcelona, ...</td>\n",
       "      <td>Guerau de Liost</td>\n",
       "      <td>Carrer de Guerau de Liost</td>\n",
       "      <td></td>\n",
       "      <td></td>\n",
       "    </tr>\n",
       "    <tr>\n",
       "      <th>3</th>\n",
       "      <td>NaN</td>\n",
       "      <td>(Abans de 1940)</td>\n",
       "      <td>Abat Odó (? - 1010). Bisbe de Girona (995) i a...</td>\n",
       "      <td>Abat Odó</td>\n",
       "      <td>Carrer de l'Abat Odó</td>\n",
       "      <td></td>\n",
       "      <td></td>\n",
       "    </tr>\n",
       "    <tr>\n",
       "      <th>4</th>\n",
       "      <td>NaN</td>\n",
       "      <td>07/03/1939</td>\n",
       "      <td>Miquel Samsó (Girona, 1430 - ?). Abat de Sant ...</td>\n",
       "      <td>Abat Samsó</td>\n",
       "      <td>Carrer de l'Abat Samsó</td>\n",
       "      <td></td>\n",
       "      <td></td>\n",
       "    </tr>\n",
       "  </tbody>\n",
       "</table>\n",
       "</div>"
      ],
      "text/plain": [
       "   ANY    DATA_APROVACIO                                         DESCRIPCIO  \\\n",
       "0  NaN        29/06/1987  Nom popular que es dóna als nascuts a Vallvidr...   \n",
       "1  NaN        16/02/1968  Carrer del polígon industrial del Consorci de ...   \n",
       "2  NaN        29/07/1987  Jaume Bofill i Mates (Olot, 1878 - Barcelona, ...   \n",
       "3  NaN   (Abans de 1940)  Abat Odó (? - 1010). Bisbe de Girona (995) i a...   \n",
       "4  NaN        07/03/1939  Miquel Samsó (Girona, 1430 - ?). Abat de Sant ...   \n",
       "\n",
       "          NOM_CURT                NOM_OFICIAL NOM_P SEXE_P  \n",
       "0        Llebrencs      Carrer dels Llebrencs               \n",
       "1                A       Carrer A Zona Franca               \n",
       "2  Guerau de Liost  Carrer de Guerau de Liost               \n",
       "3         Abat Odó       Carrer de l'Abat Odó               \n",
       "4       Abat Samsó     Carrer de l'Abat Samsó               "
      ]
     },
     "execution_count": 18,
     "metadata": {},
     "output_type": "execute_result"
    }
   ],
   "source": [
    "nomenclator_df.head(5)"
   ]
  },
  {
   "cell_type": "markdown",
   "metadata": {},
   "source": [
    "A continuació, anem a emplenar la columna _ANY_ a partir de les dades que tenim a la columna _DATA_APROVACIO_:"
   ]
  },
  {
   "cell_type": "code",
   "execution_count": 19,
   "metadata": {
    "collapsed": false
   },
   "outputs": [],
   "source": [
    "for index, row in nomenclator_df.iterrows():\n",
    "    try:\n",
    "        any = row['DATA_APROVACIO'].split('/')[2]\n",
    "        nomenclator_df.at[index, 'ANY'] = int(any)\n",
    "    except:\n",
    "        pass\n",
    "    try:\n",
    "        any = nomenclator_df.at[3, 'DATA_APROVACIO'].split(' ')[2]\n",
    "        nomenclator_df.at[3, 'ANY',] = any[:-1]\n",
    "    except:\n",
    "        pass"
   ]
  },
  {
   "cell_type": "code",
   "execution_count": 20,
   "metadata": {
    "collapsed": false,
    "scrolled": true
   },
   "outputs": [
    {
     "data": {
      "text/html": [
       "<div>\n",
       "<table border=\"1\" class=\"dataframe\">\n",
       "  <thead>\n",
       "    <tr style=\"text-align: right;\">\n",
       "      <th></th>\n",
       "      <th>ANY</th>\n",
       "      <th>DATA_APROVACIO</th>\n",
       "      <th>DESCRIPCIO</th>\n",
       "      <th>NOM_CURT</th>\n",
       "      <th>NOM_OFICIAL</th>\n",
       "      <th>NOM_P</th>\n",
       "      <th>SEXE_P</th>\n",
       "    </tr>\n",
       "  </thead>\n",
       "  <tbody>\n",
       "    <tr>\n",
       "      <th>0</th>\n",
       "      <td>1987.0</td>\n",
       "      <td>29/06/1987</td>\n",
       "      <td>Nom popular que es dóna als nascuts a Vallvidr...</td>\n",
       "      <td>Llebrencs</td>\n",
       "      <td>Carrer dels Llebrencs</td>\n",
       "      <td></td>\n",
       "      <td></td>\n",
       "    </tr>\n",
       "    <tr>\n",
       "      <th>1</th>\n",
       "      <td>1968.0</td>\n",
       "      <td>16/02/1968</td>\n",
       "      <td>Carrer del polígon industrial del Consorci de ...</td>\n",
       "      <td>A</td>\n",
       "      <td>Carrer A Zona Franca</td>\n",
       "      <td></td>\n",
       "      <td></td>\n",
       "    </tr>\n",
       "    <tr>\n",
       "      <th>2</th>\n",
       "      <td>1987.0</td>\n",
       "      <td>29/07/1987</td>\n",
       "      <td>Jaume Bofill i Mates (Olot, 1878 - Barcelona, ...</td>\n",
       "      <td>Guerau de Liost</td>\n",
       "      <td>Carrer de Guerau de Liost</td>\n",
       "      <td></td>\n",
       "      <td></td>\n",
       "    </tr>\n",
       "    <tr>\n",
       "      <th>3</th>\n",
       "      <td>1940.0</td>\n",
       "      <td>(Abans de 1940)</td>\n",
       "      <td>Abat Odó (? - 1010). Bisbe de Girona (995) i a...</td>\n",
       "      <td>Abat Odó</td>\n",
       "      <td>Carrer de l'Abat Odó</td>\n",
       "      <td></td>\n",
       "      <td></td>\n",
       "    </tr>\n",
       "    <tr>\n",
       "      <th>4</th>\n",
       "      <td>1939.0</td>\n",
       "      <td>07/03/1939</td>\n",
       "      <td>Miquel Samsó (Girona, 1430 - ?). Abat de Sant ...</td>\n",
       "      <td>Abat Samsó</td>\n",
       "      <td>Carrer de l'Abat Samsó</td>\n",
       "      <td></td>\n",
       "      <td></td>\n",
       "    </tr>\n",
       "  </tbody>\n",
       "</table>\n",
       "</div>"
      ],
      "text/plain": [
       "      ANY    DATA_APROVACIO  \\\n",
       "0  1987.0        29/06/1987   \n",
       "1  1968.0        16/02/1968   \n",
       "2  1987.0        29/07/1987   \n",
       "3  1940.0   (Abans de 1940)   \n",
       "4  1939.0        07/03/1939   \n",
       "\n",
       "                                          DESCRIPCIO         NOM_CURT  \\\n",
       "0  Nom popular que es dóna als nascuts a Vallvidr...        Llebrencs   \n",
       "1  Carrer del polígon industrial del Consorci de ...                A   \n",
       "2  Jaume Bofill i Mates (Olot, 1878 - Barcelona, ...  Guerau de Liost   \n",
       "3  Abat Odó (? - 1010). Bisbe de Girona (995) i a...         Abat Odó   \n",
       "4  Miquel Samsó (Girona, 1430 - ?). Abat de Sant ...       Abat Samsó   \n",
       "\n",
       "                 NOM_OFICIAL NOM_P SEXE_P  \n",
       "0      Carrer dels Llebrencs               \n",
       "1       Carrer A Zona Franca               \n",
       "2  Carrer de Guerau de Liost               \n",
       "3       Carrer de l'Abat Odó               \n",
       "4     Carrer de l'Abat Samsó               "
      ]
     },
     "execution_count": 20,
     "metadata": {},
     "output_type": "execute_result"
    }
   ],
   "source": [
    "nomenclator_df.head(5)"
   ]
  },
  {
   "cell_type": "markdown",
   "metadata": {
    "collapsed": false
   },
   "source": [
    "Un cop hem emplenat la columna _ANY_, anem a veure quants valors diferents hi ha i mostrem també alguns valors estadístics:"
   ]
  },
  {
   "cell_type": "code",
   "execution_count": 21,
   "metadata": {
    "collapsed": false,
    "scrolled": true
   },
   "outputs": [
    {
     "data": {
      "text/plain": [
       "133"
      ]
     },
     "execution_count": 21,
     "metadata": {},
     "output_type": "execute_result"
    }
   ],
   "source": [
    "len(nomenclator_df.groupby('ANY').size())"
   ]
  },
  {
   "cell_type": "code",
   "execution_count": 22,
   "metadata": {
    "collapsed": false
   },
   "outputs": [
    {
     "name": "stderr",
     "output_type": "stream",
     "text": [
      "C:\\Users\\Lluís\\Anaconda35\\lib\\site-packages\\numpy\\lib\\function_base.py:3834: RuntimeWarning: Invalid value encountered in percentile\n",
      "  RuntimeWarning)\n"
     ]
    },
    {
     "data": {
      "text/html": [
       "<div>\n",
       "<table border=\"1\" class=\"dataframe\">\n",
       "  <thead>\n",
       "    <tr style=\"text-align: right;\">\n",
       "      <th></th>\n",
       "      <th>ANY</th>\n",
       "    </tr>\n",
       "  </thead>\n",
       "  <tbody>\n",
       "    <tr>\n",
       "      <th>count</th>\n",
       "      <td>2913.000000</td>\n",
       "    </tr>\n",
       "    <tr>\n",
       "      <th>mean</th>\n",
       "      <td>1960.455887</td>\n",
       "    </tr>\n",
       "    <tr>\n",
       "      <th>std</th>\n",
       "      <td>36.204863</td>\n",
       "    </tr>\n",
       "    <tr>\n",
       "      <th>min</th>\n",
       "      <td>1848.000000</td>\n",
       "    </tr>\n",
       "    <tr>\n",
       "      <th>25%</th>\n",
       "      <td>NaN</td>\n",
       "    </tr>\n",
       "    <tr>\n",
       "      <th>50%</th>\n",
       "      <td>NaN</td>\n",
       "    </tr>\n",
       "    <tr>\n",
       "      <th>75%</th>\n",
       "      <td>NaN</td>\n",
       "    </tr>\n",
       "    <tr>\n",
       "      <th>max</th>\n",
       "      <td>2015.000000</td>\n",
       "    </tr>\n",
       "  </tbody>\n",
       "</table>\n",
       "</div>"
      ],
      "text/plain": [
       "               ANY\n",
       "count  2913.000000\n",
       "mean   1960.455887\n",
       "std      36.204863\n",
       "min    1848.000000\n",
       "25%            NaN\n",
       "50%            NaN\n",
       "75%            NaN\n",
       "max    2015.000000"
      ]
     },
     "execution_count": 22,
     "metadata": {},
     "output_type": "execute_result"
    }
   ],
   "source": [
    "nomenclator_df.describe()"
   ]
  },
  {
   "cell_type": "markdown",
   "metadata": {},
   "source": [
    "Veiem que hi ha valors per 133 anys diferents, però tenim valors NaN. El que farem a continuació serà sel·leccionar només els registres amb valors correctes per l'any:"
   ]
  },
  {
   "cell_type": "code",
   "execution_count": 23,
   "metadata": {
    "collapsed": false
   },
   "outputs": [
    {
     "data": {
      "text/plain": [
       "2913"
      ]
     },
     "execution_count": 23,
     "metadata": {},
     "output_type": "execute_result"
    }
   ],
   "source": [
    "len(nomenclator_df[nomenclator_df['ANY'].notnull()])"
   ]
  },
  {
   "cell_type": "code",
   "execution_count": 24,
   "metadata": {
    "collapsed": false
   },
   "outputs": [
    {
     "data": {
      "text/plain": [
       "963"
      ]
     },
     "execution_count": 24,
     "metadata": {},
     "output_type": "execute_result"
    }
   ],
   "source": [
    "len(nomenclator_df[nomenclator_df['ANY'].isnull()])"
   ]
  },
  {
   "cell_type": "markdown",
   "metadata": {},
   "source": [
    "Veiem que tenim 963 files amb valors nuls i 2913 amb valors no nuls. Sel·leccionem només els no nuls:"
   ]
  },
  {
   "cell_type": "code",
   "execution_count": 25,
   "metadata": {
    "collapsed": true
   },
   "outputs": [],
   "source": [
    "nomenclator_df = nomenclator_df[nomenclator_df['ANY'].notnull()]"
   ]
  },
  {
   "cell_type": "markdown",
   "metadata": {},
   "source": [
    "Anem a veure el valors estadístics un cop hem tret els valor nuls:"
   ]
  },
  {
   "cell_type": "code",
   "execution_count": 26,
   "metadata": {
    "collapsed": false
   },
   "outputs": [
    {
     "data": {
      "text/html": [
       "<div>\n",
       "<table border=\"1\" class=\"dataframe\">\n",
       "  <thead>\n",
       "    <tr style=\"text-align: right;\">\n",
       "      <th></th>\n",
       "      <th>ANY</th>\n",
       "    </tr>\n",
       "  </thead>\n",
       "  <tbody>\n",
       "    <tr>\n",
       "      <th>count</th>\n",
       "      <td>2913.000000</td>\n",
       "    </tr>\n",
       "    <tr>\n",
       "      <th>mean</th>\n",
       "      <td>1960.455887</td>\n",
       "    </tr>\n",
       "    <tr>\n",
       "      <th>std</th>\n",
       "      <td>36.204863</td>\n",
       "    </tr>\n",
       "    <tr>\n",
       "      <th>min</th>\n",
       "      <td>1848.000000</td>\n",
       "    </tr>\n",
       "    <tr>\n",
       "      <th>25%</th>\n",
       "      <td>1932.000000</td>\n",
       "    </tr>\n",
       "    <tr>\n",
       "      <th>50%</th>\n",
       "      <td>1960.000000</td>\n",
       "    </tr>\n",
       "    <tr>\n",
       "      <th>75%</th>\n",
       "      <td>1993.000000</td>\n",
       "    </tr>\n",
       "    <tr>\n",
       "      <th>max</th>\n",
       "      <td>2015.000000</td>\n",
       "    </tr>\n",
       "  </tbody>\n",
       "</table>\n",
       "</div>"
      ],
      "text/plain": [
       "               ANY\n",
       "count  2913.000000\n",
       "mean   1960.455887\n",
       "std      36.204863\n",
       "min    1848.000000\n",
       "25%    1932.000000\n",
       "50%    1960.000000\n",
       "75%    1993.000000\n",
       "max    2015.000000"
      ]
     },
     "execution_count": 26,
     "metadata": {},
     "output_type": "execute_result"
    }
   ],
   "source": [
    "nomenclator_df.describe()"
   ]
  },
  {
   "cell_type": "markdown",
   "metadata": {},
   "source": [
    "Veiem que tenim carrers que se'ls hi ha assignat un nom entre els anys 1848 i 2015. Anem a representar-ho gràficament, aprofitant tota l'amplada del full:"
   ]
  },
  {
   "cell_type": "code",
   "execution_count": 27,
   "metadata": {
    "collapsed": false,
    "scrolled": false
   },
   "outputs": [
    {
     "data": {
      "text/plain": [
       "<matplotlib.axes._subplots.AxesSubplot at 0x2322c0d0cc0>"
      ]
     },
     "execution_count": 27,
     "metadata": {},
     "output_type": "execute_result"
    },
    {
     "data": {
      "image/png": "[encoded data removed]",
      "text/plain": [
       "<matplotlib.figure.Figure at 0x2322ac2b390>"
      ]
     },
     "metadata": {},
     "output_type": "display_data"
    }
   ],
   "source": [
    "plt.rcParams['figure.figsize'] = (12, 6)\n",
    "nomenclator_df.groupby(['ANY']).size().plot.bar(color=['b'], width=0.75)"
   ]
  },
  {
   "cell_type": "markdown",
   "metadata": {},
   "source": [
    "La representació gràfica ja ens dóna una idea de l'aspecte de les dades. A priori, no semble que hi hagi valors extrems, els valors dels anys són compatibles amb la natura de les dades. \n",
    "\n",
    "També veiem com fins a l'any 1908 cada any hi ha pocs noms de carrers nous, a l'any 1908 n'hi ha molts, al voltant de 230, i a partir d'aquesta data ja es veu com hi ha més noms nous de carrers, amb grans fluctuacions."
   ]
  },
  {
   "cell_type": "markdown",
   "metadata": {},
   "source": [
    "Anem ara a emplenar la columna _NOM_P_. El que veig és que el camp _DESCRIPCIO_ té un format concret pel cas en el que el nom del carrer es tracti d'una persona: En la primera frase de la descripció tenim el nom de la persona i, entre parèntesi, el lloc i data de naixement i mort del personatge. Aprofitant això, el que faig és considerar les descripcons que tenen aquest format i, en aquests casos, triar el nom i afegir-lo a la columna _NOM_P_:"
   ]
  },
  {
   "cell_type": "code",
   "execution_count": 28,
   "metadata": {
    "collapsed": false
   },
   "outputs": [],
   "source": [
    "for index, row in nomenclator_df.iterrows():\n",
    "    descripcio = str(row['DESCRIPCIO']).split('). ')\n",
    "    if len(descripcio) > 1:\n",
    "        nom_personatge = descripcio[0].split(\" \")[0]\n",
    "        nomenclator_df.at[index, 'NOM_P'] = nom_personatge"
   ]
  },
  {
   "cell_type": "markdown",
   "metadata": {},
   "source": [
    "A mode d'exemple dels resultats, anem a veure les primeres files:"
   ]
  },
  {
   "cell_type": "code",
   "execution_count": 29,
   "metadata": {
    "collapsed": false
   },
   "outputs": [
    {
     "data": {
      "text/html": [
       "<div>\n",
       "<table border=\"1\" class=\"dataframe\">\n",
       "  <thead>\n",
       "    <tr style=\"text-align: right;\">\n",
       "      <th></th>\n",
       "      <th>ANY</th>\n",
       "      <th>DATA_APROVACIO</th>\n",
       "      <th>DESCRIPCIO</th>\n",
       "      <th>NOM_CURT</th>\n",
       "      <th>NOM_OFICIAL</th>\n",
       "      <th>NOM_P</th>\n",
       "      <th>SEXE_P</th>\n",
       "    </tr>\n",
       "  </thead>\n",
       "  <tbody>\n",
       "    <tr>\n",
       "      <th>0</th>\n",
       "      <td>1987.0</td>\n",
       "      <td>29/06/1987</td>\n",
       "      <td>Nom popular que es dóna als nascuts a Vallvidr...</td>\n",
       "      <td>Llebrencs</td>\n",
       "      <td>Carrer dels Llebrencs</td>\n",
       "      <td></td>\n",
       "      <td></td>\n",
       "    </tr>\n",
       "    <tr>\n",
       "      <th>1</th>\n",
       "      <td>1968.0</td>\n",
       "      <td>16/02/1968</td>\n",
       "      <td>Carrer del polígon industrial del Consorci de ...</td>\n",
       "      <td>A</td>\n",
       "      <td>Carrer A Zona Franca</td>\n",
       "      <td></td>\n",
       "      <td></td>\n",
       "    </tr>\n",
       "    <tr>\n",
       "      <th>2</th>\n",
       "      <td>1987.0</td>\n",
       "      <td>29/07/1987</td>\n",
       "      <td>Jaume Bofill i Mates (Olot, 1878 - Barcelona, ...</td>\n",
       "      <td>Guerau de Liost</td>\n",
       "      <td>Carrer de Guerau de Liost</td>\n",
       "      <td>Jaume</td>\n",
       "      <td></td>\n",
       "    </tr>\n",
       "    <tr>\n",
       "      <th>3</th>\n",
       "      <td>1940.0</td>\n",
       "      <td>(Abans de 1940)</td>\n",
       "      <td>Abat Odó (? - 1010). Bisbe de Girona (995) i a...</td>\n",
       "      <td>Abat Odó</td>\n",
       "      <td>Carrer de l'Abat Odó</td>\n",
       "      <td>Abat</td>\n",
       "      <td></td>\n",
       "    </tr>\n",
       "    <tr>\n",
       "      <th>4</th>\n",
       "      <td>1939.0</td>\n",
       "      <td>07/03/1939</td>\n",
       "      <td>Miquel Samsó (Girona, 1430 - ?). Abat de Sant ...</td>\n",
       "      <td>Abat Samsó</td>\n",
       "      <td>Carrer de l'Abat Samsó</td>\n",
       "      <td>Miquel</td>\n",
       "      <td></td>\n",
       "    </tr>\n",
       "  </tbody>\n",
       "</table>\n",
       "</div>"
      ],
      "text/plain": [
       "      ANY    DATA_APROVACIO  \\\n",
       "0  1987.0        29/06/1987   \n",
       "1  1968.0        16/02/1968   \n",
       "2  1987.0        29/07/1987   \n",
       "3  1940.0   (Abans de 1940)   \n",
       "4  1939.0        07/03/1939   \n",
       "\n",
       "                                          DESCRIPCIO         NOM_CURT  \\\n",
       "0  Nom popular que es dóna als nascuts a Vallvidr...        Llebrencs   \n",
       "1  Carrer del polígon industrial del Consorci de ...                A   \n",
       "2  Jaume Bofill i Mates (Olot, 1878 - Barcelona, ...  Guerau de Liost   \n",
       "3  Abat Odó (? - 1010). Bisbe de Girona (995) i a...         Abat Odó   \n",
       "4  Miquel Samsó (Girona, 1430 - ?). Abat de Sant ...       Abat Samsó   \n",
       "\n",
       "                 NOM_OFICIAL   NOM_P SEXE_P  \n",
       "0      Carrer dels Llebrencs                 \n",
       "1       Carrer A Zona Franca                 \n",
       "2  Carrer de Guerau de Liost   Jaume         \n",
       "3       Carrer de l'Abat Odó    Abat         \n",
       "4     Carrer de l'Abat Samsó  Miquel         "
      ]
     },
     "execution_count": 29,
     "metadata": {},
     "output_type": "execute_result"
    }
   ],
   "source": [
    "nomenclator_df.head(5)"
   ]
  },
  {
   "cell_type": "markdown",
   "metadata": {},
   "source": [
    "Veiem que, efectivament, a la columna _NOM_P_ hi apareixen noms en alguns casos. El que podem fer ara és mirar quants de casos hem trobat en que el carrer està dedicat a una persona:"
   ]
  },
  {
   "cell_type": "code",
   "execution_count": 30,
   "metadata": {
    "collapsed": false
   },
   "outputs": [
    {
     "data": {
      "text/plain": [
       "1277"
      ]
     },
     "execution_count": 30,
     "metadata": {},
     "output_type": "execute_result"
    }
   ],
   "source": [
    "len(nomenclator_df[nomenclator_df['NOM_P'] != \"\"])"
   ]
  },
  {
   "cell_type": "code",
   "execution_count": 31,
   "metadata": {
    "collapsed": false
   },
   "outputs": [
    {
     "data": {
      "text/plain": [
       "1636"
      ]
     },
     "execution_count": 31,
     "metadata": {},
     "output_type": "execute_result"
    }
   ],
   "source": [
    "len(nomenclator_df[nomenclator_df['NOM_P'] == \"\"])"
   ]
  },
  {
   "cell_type": "markdown",
   "metadata": {},
   "source": [
    "Tenim un total de 1277 carrers amb factibles noms de persona i 1636 que no ho són. El que farem serà sel·leccionar només els que contenen noms de persona:"
   ]
  },
  {
   "cell_type": "code",
   "execution_count": 32,
   "metadata": {
    "collapsed": true
   },
   "outputs": [],
   "source": [
    "nomenclator_df = nomenclator_df[nomenclator_df['NOM_P'] != \"\"]"
   ]
  },
  {
   "cell_type": "code",
   "execution_count": 33,
   "metadata": {
    "collapsed": false
   },
   "outputs": [
    {
     "data": {
      "text/html": [
       "<div>\n",
       "<table border=\"1\" class=\"dataframe\">\n",
       "  <thead>\n",
       "    <tr style=\"text-align: right;\">\n",
       "      <th></th>\n",
       "      <th>ANY</th>\n",
       "    </tr>\n",
       "  </thead>\n",
       "  <tbody>\n",
       "    <tr>\n",
       "      <th>count</th>\n",
       "      <td>1277.000000</td>\n",
       "    </tr>\n",
       "    <tr>\n",
       "      <th>mean</th>\n",
       "      <td>1957.371182</td>\n",
       "    </tr>\n",
       "    <tr>\n",
       "      <th>std</th>\n",
       "      <td>36.994408</td>\n",
       "    </tr>\n",
       "    <tr>\n",
       "      <th>min</th>\n",
       "      <td>1863.000000</td>\n",
       "    </tr>\n",
       "    <tr>\n",
       "      <th>25%</th>\n",
       "      <td>1929.000000</td>\n",
       "    </tr>\n",
       "    <tr>\n",
       "      <th>50%</th>\n",
       "      <td>1959.000000</td>\n",
       "    </tr>\n",
       "    <tr>\n",
       "      <th>75%</th>\n",
       "      <td>1993.000000</td>\n",
       "    </tr>\n",
       "    <tr>\n",
       "      <th>max</th>\n",
       "      <td>2014.000000</td>\n",
       "    </tr>\n",
       "  </tbody>\n",
       "</table>\n",
       "</div>"
      ],
      "text/plain": [
       "               ANY\n",
       "count  1277.000000\n",
       "mean   1957.371182\n",
       "std      36.994408\n",
       "min    1863.000000\n",
       "25%    1929.000000\n",
       "50%    1959.000000\n",
       "75%    1993.000000\n",
       "max    2014.000000"
      ]
     },
     "execution_count": 33,
     "metadata": {},
     "output_type": "execute_result"
    }
   ],
   "source": [
    "nomenclator_df.describe()"
   ]
  },
  {
   "cell_type": "markdown",
   "metadata": {},
   "source": [
    "Veiem que ara tenim 1277 registres, en els que l'any va des de 1863 fins a 2014. La mitjana es troba a 1957.37 amb una desviacó estàndard de 36.99. \n",
    "\n",
    "Anem a representar-ho gràficament:"
   ]
  },
  {
   "cell_type": "code",
   "execution_count": 34,
   "metadata": {
    "collapsed": false
   },
   "outputs": [
    {
     "data": {
      "text/plain": [
       "<matplotlib.axes._subplots.AxesSubplot at 0x2322c0577b8>"
      ]
     },
     "execution_count": 34,
     "metadata": {},
     "output_type": "execute_result"
    },
    {
     "data": {
      "image/png": "[encoded data removed]",
      "text/plain": [
       "<matplotlib.figure.Figure at 0x2322c05bf28>"
      ]
     },
     "metadata": {},
     "output_type": "display_data"
    }
   ],
   "source": [
    "plt.rcParams['figure.figsize'] = (12, 6)\n",
    "nomenclator_df.groupby(['ANY']).size().plot.bar(color=['b'], width=0.75)"
   ]
  },
  {
   "cell_type": "markdown",
   "metadata": {},
   "source": [
    "Ara anem a intentar assignar el sexe als personatges a partir del seu nom. Per fer-ho, necessitem algun llistat en el que apareguin noms i el seu corresponent sexe. Buscant per internet he trobat que al web de l'Institut d'Estadística de Catalunya existeixen uns llistats molt adients (https://www.idescat.cat/nadons/) que es poden descarregar i que contenen els noms dels nadons nascuts a Catalunya als darrers anys, especificant el sexe i la freqüencia d'assignació d'aquest nom. Pot ser un bon punt de partida. Veiem que hi ha dades pels anys entre 1997 i 2016. Descarrego el fitxer corresponent a 2016 i l'emmagatzemo en una llista:"
   ]
  },
  {
   "cell_type": "code",
   "execution_count": 35,
   "metadata": {
    "collapsed": true
   },
   "outputs": [],
   "source": [
    "dades_catala = [line.rstrip('\\n') for line in open('s0a0rani1y2016lca.csv')]"
   ]
  },
  {
   "cell_type": "markdown",
   "metadata": {},
   "source": [
    "Anem a veure el seu aspecte:"
   ]
  },
  {
   "cell_type": "code",
   "execution_count": 36,
   "metadata": {
    "collapsed": false
   },
   "outputs": [
    {
     "data": {
      "text/plain": [
       "['Noms dels nadons. 2016;;;;',\n",
       " 'Catalunya;;;;',\n",
       " \"Font: Idescat, a partir de l'estadística de naixements.;;;;\",\n",
       " \"Nota: el ‰ ha estat calculat sobre el total de nascuts vius a l'any i en el lloc de residència seleccionats.;;;;\",\n",
       " 'Nota: Només es mostren els noms de freqüència igual o superior a 4.;;;;',\n",
       " \"Institut d'Estadística de Catalunya;;;;\",\n",
       " 'http://www.idescat.cat/nadons/;;;;',\n",
       " 'Pos.;Sexe;Nom;Rànquing. Freqüència;Rànquing. ‰',\n",
       " '1;H;MARC;832;12,12',\n",
       " '2;D;MARTINA;702;10,23']"
      ]
     },
     "execution_count": 36,
     "metadata": {},
     "output_type": "execute_result"
    }
   ],
   "source": [
    "dades_catala[:10]"
   ]
  },
  {
   "cell_type": "markdown",
   "metadata": {},
   "source": [
    "Veiem com les dades d'interès comenen a partir de la novena fila. Per tant, sel·leccionem les dades d'interès i prescindim de les 8 primeres files:"
   ]
  },
  {
   "cell_type": "code",
   "execution_count": 37,
   "metadata": {
    "collapsed": true
   },
   "outputs": [],
   "source": [
    "dades_catala = dades_catala[8:]"
   ]
  },
  {
   "cell_type": "code",
   "execution_count": 38,
   "metadata": {
    "collapsed": false
   },
   "outputs": [
    {
     "data": {
      "text/plain": [
       "['1;H;MARC;832;12,12',\n",
       " '2;D;MARTINA;702;10,23',\n",
       " '3;H;ÀLEX/ÁLEX;656;9,56',\n",
       " '4;D;JÚLIA/JULIA;649;9,46',\n",
       " '5;D;LAIA;582;8,48',\n",
       " '6;D;LUCÍA;573;8,35',\n",
       " '7;D;MARIA/MARÍA;566;8,25',\n",
       " '8;H;JAN;562;8,19',\n",
       " '9;H;MARTÍ;557;8,12',\n",
       " '10;H;HUGO;553;8,06']"
      ]
     },
     "execution_count": 38,
     "metadata": {},
     "output_type": "execute_result"
    }
   ],
   "source": [
    "dades_catala[:10]"
   ]
  },
  {
   "cell_type": "markdown",
   "metadata": {},
   "source": [
    "En aquesta llista, cada valor conté un string on, separats per \";\", tenim un codi, el sexe (H o D, home o dona), el nom, la freqüència i altres dades sense interès. "
   ]
  },
  {
   "cell_type": "code",
   "execution_count": 39,
   "metadata": {
    "collapsed": false
   },
   "outputs": [
    {
     "data": {
      "text/plain": [
       "1406"
      ]
     },
     "execution_count": 39,
     "metadata": {},
     "output_type": "execute_result"
    }
   ],
   "source": [
    "len(dades_catala)"
   ]
  },
  {
   "cell_type": "markdown",
   "metadata": {},
   "source": [
    "Tenim 1406 noms. Ara el que farem serà obtenir les dades d'interès en el format adequat. El que farem serà crear dues llistes, una per cada sexe, en les que emmagatzemarem els noms per cada sexe. A més, guardarem aquests noms en el mateix format en que apareixen a les nostres dades, en minúscula i amb la primera lletra en majúscula:"
   ]
  },
  {
   "cell_type": "code",
   "execution_count": 40,
   "metadata": {
    "collapsed": true
   },
   "outputs": [],
   "source": [
    "noms_femenins_catala_list = []\n",
    "noms_masculins_catala_list = []"
   ]
  },
  {
   "cell_type": "code",
   "execution_count": 41,
   "metadata": {
    "collapsed": true
   },
   "outputs": [],
   "source": [
    "for line in dades_catala:\n",
    "    line_list = line.split(';')\n",
    "    sexe = line_list[1]\n",
    "    noms = line_list[2].split('/')\n",
    "    for nom in noms:\n",
    "        if sexe == 'D':\n",
    "            noms_femenins_catala_list.append(nom.capitalize())\n",
    "        elif sexe == 'H':\n",
    "            noms_masculins_catala_list.append(nom.capitalize()) "
   ]
  },
  {
   "cell_type": "code",
   "execution_count": 42,
   "metadata": {
    "collapsed": false
   },
   "outputs": [
    {
     "name": "stdout",
     "output_type": "stream",
     "text": [
      "843\n",
      "716\n"
     ]
    }
   ],
   "source": [
    "print(len(noms_femenins_catala_list))\n",
    "print(len(noms_masculins_catala_list))"
   ]
  },
  {
   "cell_type": "markdown",
   "metadata": {},
   "source": [
    "Veiem que tenim 843 noms femenins i 716 de masculins. Anem a veure els primers valors de les llistes creades:"
   ]
  },
  {
   "cell_type": "code",
   "execution_count": 43,
   "metadata": {
    "collapsed": false
   },
   "outputs": [
    {
     "data": {
      "text/plain": [
       "['Martina',\n",
       " 'Júlia',\n",
       " 'Julia',\n",
       " 'Laia',\n",
       " 'Lucía',\n",
       " 'Maria',\n",
       " 'María',\n",
       " 'Emma',\n",
       " 'Noa',\n",
       " 'Paula']"
      ]
     },
     "execution_count": 43,
     "metadata": {},
     "output_type": "execute_result"
    }
   ],
   "source": [
    "noms_femenins_catala_list[:10]"
   ]
  },
  {
   "cell_type": "code",
   "execution_count": 44,
   "metadata": {
    "collapsed": false
   },
   "outputs": [
    {
     "data": {
      "text/plain": [
       "['Marc',\n",
       " 'Àlex',\n",
       " 'Álex',\n",
       " 'Jan',\n",
       " 'Martí',\n",
       " 'Hugo',\n",
       " 'Biel',\n",
       " 'Eric',\n",
       " 'Èric',\n",
       " 'Éric']"
      ]
     },
     "execution_count": 44,
     "metadata": {},
     "output_type": "execute_result"
    }
   ],
   "source": [
    "noms_masculins_catala_list[:10]"
   ]
  },
  {
   "cell_type": "markdown",
   "metadata": {},
   "source": [
    "Creem uns conjunts a partir de les llistes, ja que els conjunts el·liminen duplicats i augmenten la velocitat de lectura de dades:"
   ]
  },
  {
   "cell_type": "code",
   "execution_count": 45,
   "metadata": {
    "collapsed": true
   },
   "outputs": [],
   "source": [
    "noms_femenins_catala_set = set(noms_femenins_catala_list)\n",
    "noms_masculins_catala_set = set(noms_masculins_catala_list)"
   ]
  },
  {
   "cell_type": "markdown",
   "metadata": {},
   "source": [
    "Ara creem una funció qua assigna el sexe a cada nom del nostre dataframe. Si no trobem el nom a cap dels dos conjunts, li assignem el valor \"i\", és a dir, indeterminat:"
   ]
  },
  {
   "cell_type": "code",
   "execution_count": 46,
   "metadata": {
    "collapsed": false
   },
   "outputs": [],
   "source": [
    "def assignar_sexe():\n",
    "    for index, row in nomenclator_df.iterrows():\n",
    "        nom_personatge = row['NOM_P']\n",
    "        if nom_personatge:\n",
    "            nom_personatge = nom_personatge.strip()\n",
    "            \n",
    "            if nom_personatge in noms_femenins_catala_set:\n",
    "                nomenclator_df.at[index, 'SEXE_P'] = 'F'\n",
    "            elif nom_personatge in noms_masculins_catala_set:\n",
    "                nomenclator_df.at[index, 'SEXE_P'] = 'M'\n",
    "            \n",
    "            else:\n",
    "                nomenclator_df.at[index, 'SEXE_P'] = 'i'\n",
    "            \n",
    "assignar_sexe()"
   ]
  },
  {
   "cell_type": "markdown",
   "metadata": {},
   "source": [
    "Visualitzem els resultats obtinguts:"
   ]
  },
  {
   "cell_type": "code",
   "execution_count": 47,
   "metadata": {
    "collapsed": false
   },
   "outputs": [
    {
     "data": {
      "text/html": [
       "<div>\n",
       "<table border=\"1\" class=\"dataframe\">\n",
       "  <thead>\n",
       "    <tr style=\"text-align: right;\">\n",
       "      <th></th>\n",
       "      <th>ANY</th>\n",
       "      <th>DATA_APROVACIO</th>\n",
       "      <th>DESCRIPCIO</th>\n",
       "      <th>NOM_CURT</th>\n",
       "      <th>NOM_OFICIAL</th>\n",
       "      <th>NOM_P</th>\n",
       "      <th>SEXE_P</th>\n",
       "    </tr>\n",
       "  </thead>\n",
       "  <tbody>\n",
       "    <tr>\n",
       "      <th>2</th>\n",
       "      <td>1987.0</td>\n",
       "      <td>29/07/1987</td>\n",
       "      <td>Jaume Bofill i Mates (Olot, 1878 - Barcelona, ...</td>\n",
       "      <td>Guerau de Liost</td>\n",
       "      <td>Carrer de Guerau de Liost</td>\n",
       "      <td>Jaume</td>\n",
       "      <td>M</td>\n",
       "    </tr>\n",
       "    <tr>\n",
       "      <th>3</th>\n",
       "      <td>1940.0</td>\n",
       "      <td>(Abans de 1940)</td>\n",
       "      <td>Abat Odó (? - 1010). Bisbe de Girona (995) i a...</td>\n",
       "      <td>Abat Odó</td>\n",
       "      <td>Carrer de l'Abat Odó</td>\n",
       "      <td>Abat</td>\n",
       "      <td>i</td>\n",
       "    </tr>\n",
       "    <tr>\n",
       "      <th>4</th>\n",
       "      <td>1939.0</td>\n",
       "      <td>07/03/1939</td>\n",
       "      <td>Miquel Samsó (Girona, 1430 - ?). Abat de Sant ...</td>\n",
       "      <td>Abat Samsó</td>\n",
       "      <td>Carrer de l'Abat Samsó</td>\n",
       "      <td>Miquel</td>\n",
       "      <td>M</td>\n",
       "    </tr>\n",
       "    <tr>\n",
       "      <th>6</th>\n",
       "      <td>1931.0</td>\n",
       "      <td>25/09/1931</td>\n",
       "      <td>Sor Sobirana d'Olzet (? - 1336). Primera abade...</td>\n",
       "      <td>Abadessa Olzet</td>\n",
       "      <td>Carrer de l'Abadessa Olzet</td>\n",
       "      <td>Sor</td>\n",
       "      <td>i</td>\n",
       "    </tr>\n",
       "    <tr>\n",
       "      <th>8</th>\n",
       "      <td>1950.0</td>\n",
       "      <td>15/11/1950</td>\n",
       "      <td>Abd el-Kader (Guetna, 1808 - Damasc, 1883). Em...</td>\n",
       "      <td>Abd el-Kader</td>\n",
       "      <td>Carrer d'Abd el-Kader</td>\n",
       "      <td>Abd</td>\n",
       "      <td>i</td>\n",
       "    </tr>\n",
       "    <tr>\n",
       "      <th>9</th>\n",
       "      <td>1922.0</td>\n",
       "      <td>21/06/1922</td>\n",
       "      <td>Abdó Terradas i Pulí (Figueres, 1812 - Medina ...</td>\n",
       "      <td>Abdó Terradas</td>\n",
       "      <td>Carrer d'Abdó Terradas</td>\n",
       "      <td>Abdó</td>\n",
       "      <td>i</td>\n",
       "    </tr>\n",
       "    <tr>\n",
       "      <th>11</th>\n",
       "      <td>1982.0</td>\n",
       "      <td>26/03/1982</td>\n",
       "      <td>Manuel Ballbé i Prunés (Barcelona, 1920 - 1961...</td>\n",
       "      <td>Manuel Ballbé</td>\n",
       "      <td>Carrer de Manuel Ballbé</td>\n",
       "      <td>Manuel</td>\n",
       "      <td>M</td>\n",
       "    </tr>\n",
       "    <tr>\n",
       "      <th>18</th>\n",
       "      <td>1942.0</td>\n",
       "      <td>07/07/1942</td>\n",
       "      <td>Francisco Morano Moreno (Madrid, 1876 - Barcel...</td>\n",
       "      <td>Actor Morano</td>\n",
       "      <td>Carrer de l'Actor Morano</td>\n",
       "      <td>Francisco</td>\n",
       "      <td>M</td>\n",
       "    </tr>\n",
       "    <tr>\n",
       "      <th>19</th>\n",
       "      <td>1942.0</td>\n",
       "      <td>07/07/1942</td>\n",
       "      <td>María Álvarez Tubau (Madrid, 1854 - 1914). Act...</td>\n",
       "      <td>Actriu Tubau</td>\n",
       "      <td>Carrer de l'Actriu Tubau</td>\n",
       "      <td>María</td>\n",
       "      <td>F</td>\n",
       "    </tr>\n",
       "    <tr>\n",
       "      <th>20</th>\n",
       "      <td>1982.0</td>\n",
       "      <td>28/07/1982</td>\n",
       "      <td>Adolf Florensa i Ferrer (Lleida, 1889 - Barcel...</td>\n",
       "      <td>Adolf Florensa</td>\n",
       "      <td>Carrer d'Adolf Florensa</td>\n",
       "      <td>Adolf</td>\n",
       "      <td>i</td>\n",
       "    </tr>\n",
       "  </tbody>\n",
       "</table>\n",
       "</div>"
      ],
      "text/plain": [
       "       ANY    DATA_APROVACIO  \\\n",
       "2   1987.0        29/07/1987   \n",
       "3   1940.0   (Abans de 1940)   \n",
       "4   1939.0        07/03/1939   \n",
       "6   1931.0        25/09/1931   \n",
       "8   1950.0        15/11/1950   \n",
       "9   1922.0        21/06/1922   \n",
       "11  1982.0        26/03/1982   \n",
       "18  1942.0        07/07/1942   \n",
       "19  1942.0        07/07/1942   \n",
       "20  1982.0        28/07/1982   \n",
       "\n",
       "                                           DESCRIPCIO         NOM_CURT  \\\n",
       "2   Jaume Bofill i Mates (Olot, 1878 - Barcelona, ...  Guerau de Liost   \n",
       "3   Abat Odó (? - 1010). Bisbe de Girona (995) i a...         Abat Odó   \n",
       "4   Miquel Samsó (Girona, 1430 - ?). Abat de Sant ...       Abat Samsó   \n",
       "6   Sor Sobirana d'Olzet (? - 1336). Primera abade...   Abadessa Olzet   \n",
       "8   Abd el-Kader (Guetna, 1808 - Damasc, 1883). Em...     Abd el-Kader   \n",
       "9   Abdó Terradas i Pulí (Figueres, 1812 - Medina ...    Abdó Terradas   \n",
       "11  Manuel Ballbé i Prunés (Barcelona, 1920 - 1961...    Manuel Ballbé   \n",
       "18  Francisco Morano Moreno (Madrid, 1876 - Barcel...     Actor Morano   \n",
       "19  María Álvarez Tubau (Madrid, 1854 - 1914). Act...     Actriu Tubau   \n",
       "20  Adolf Florensa i Ferrer (Lleida, 1889 - Barcel...   Adolf Florensa   \n",
       "\n",
       "                   NOM_OFICIAL      NOM_P SEXE_P  \n",
       "2    Carrer de Guerau de Liost      Jaume      M  \n",
       "3         Carrer de l'Abat Odó       Abat      i  \n",
       "4       Carrer de l'Abat Samsó     Miquel      M  \n",
       "6   Carrer de l'Abadessa Olzet        Sor      i  \n",
       "8        Carrer d'Abd el-Kader        Abd      i  \n",
       "9       Carrer d'Abdó Terradas       Abdó      i  \n",
       "11     Carrer de Manuel Ballbé     Manuel      M  \n",
       "18    Carrer de l'Actor Morano  Francisco      M  \n",
       "19    Carrer de l'Actriu Tubau      María      F  \n",
       "20     Carrer d'Adolf Florensa      Adolf      i  "
      ]
     },
     "execution_count": 47,
     "metadata": {},
     "output_type": "execute_result"
    }
   ],
   "source": [
    "nomenclator_df.head(10)"
   ]
  },
  {
   "cell_type": "markdown",
   "metadata": {},
   "source": [
    "Molt bé, ara veiem que la columna_SEXE_P_ ja ha estat emplenada. Anem a agrupar els valors obtinguts segons sexe:"
   ]
  },
  {
   "cell_type": "code",
   "execution_count": 48,
   "metadata": {
    "collapsed": false
   },
   "outputs": [
    {
     "data": {
      "text/plain": [
       "SEXE_P\n",
       "F    102\n",
       "M    773\n",
       "i    402\n",
       "dtype: int64"
      ]
     },
     "execution_count": 48,
     "metadata": {},
     "output_type": "execute_result"
    }
   ],
   "source": [
    "nomenclator_df.groupby(['SEXE_P']).size()"
   ]
  },
  {
   "cell_type": "markdown",
   "metadata": {},
   "source": [
    "Veiem que tenim 102 noms femenins, 773 masculins i 402 indeterminats. Primer de tot, ja veiem un fet prou significatiu: hi ha gairebé 8 vegades més noms masculins que femenins. \n",
    "\n",
    "També veiem que tenim molts de noms indeterminats, què podem fer per reduir aquest valor? Una possible solució podria ser augmentar les llistes de noms masculins i femenins. Buscant per internet he trobat un altre llistat a https://github.com/ferhatelmas/sexmachine, molt interessant, amb noms de tot el món, amb la probabilitat de que el nom sigui masculí o femení. El descarrego i a continuació l'emmagatzemo en una llista:"
   ]
  },
  {
   "cell_type": "code",
   "execution_count": 49,
   "metadata": {
    "collapsed": true
   },
   "outputs": [],
   "source": [
    "dades_internacional = [line.rstrip('\\n') for line in open('nam_dict.txt')]"
   ]
  },
  {
   "cell_type": "markdown",
   "metadata": {},
   "source": [
    "Mirant al fitxer TXT veig que les dades d'interès començen a la fila 363. Agafo només aquestes dades:"
   ]
  },
  {
   "cell_type": "code",
   "execution_count": 50,
   "metadata": {
    "collapsed": false
   },
   "outputs": [],
   "source": [
    "dades_internacional = dades_internacional[362:]"
   ]
  },
  {
   "cell_type": "code",
   "execution_count": 51,
   "metadata": {
    "collapsed": false
   },
   "outputs": [
    {
     "data": {
      "text/plain": [
       "['M  Aad                                  4                                             $',\n",
       " 'M  Aadam                                          1                                   $',\n",
       " 'F  Aadje                                1                                             $',\n",
       " 'M  Ådne                      +                 1                                      $',\n",
       " 'M  Aadu                                           12                                  $',\n",
       " '?F Aaf                                  1                                             $',\n",
       " 'F  Aafke                                4                                             $',\n",
       " '?  Aafke                                 1                                            $',\n",
       " 'F  Aafkea                                1                                            $',\n",
       " 'M  Aafko                                1                                             $']"
      ]
     },
     "execution_count": 51,
     "metadata": {},
     "output_type": "execute_result"
    }
   ],
   "source": [
    "dades_internacional[:10]"
   ]
  },
  {
   "cell_type": "markdown",
   "metadata": {},
   "source": [
    "Veiem que la llista conté strings en els que en cada un, el primer valor és el sexe i el segon és el nom. El sexe pot ser M si es másculí, ?M o 1M si és majoritàriament masculí, F si és femení, ?F o 1F si és majoritàriament femení i ? si és indeterminat. El que faré serà generar dues llistes en les que en una s'hi emmagatzemaran els noms masculins o majoritàriament masculins i en l'altra s'hi emmagatzemaran els noms femenins o majoritàriament masculins:"
   ]
  },
  {
   "cell_type": "code",
   "execution_count": 52,
   "metadata": {
    "collapsed": true
   },
   "outputs": [],
   "source": [
    "noms_femenins_internacional_list = []\n",
    "noms_masculins_internacional_list = []"
   ]
  },
  {
   "cell_type": "markdown",
   "metadata": {},
   "source": [
    "Ara omplim ambdues llistes a partir de les dades obtingudes:"
   ]
  },
  {
   "cell_type": "code",
   "execution_count": 53,
   "metadata": {
    "collapsed": true
   },
   "outputs": [],
   "source": [
    "for line in dades_internacional:\n",
    "    dades_list = line.split(' ')\n",
    "    sexe = dades_list[0]\n",
    "    if dades_list[1]:\n",
    "        nom = dades_list[1]\n",
    "    else:\n",
    "        nom = dades_list[2]\n",
    "    if sexe in [\"F\", \"?F\", \"1F\"]:\n",
    "        noms_femenins_internacional_list.append(nom)\n",
    "    elif sexe in [\"M\", \"?M\", \"1M\"]:\n",
    "        noms_masculins_internacional_list.append(nom) "
   ]
  },
  {
   "cell_type": "code",
   "execution_count": 54,
   "metadata": {
    "collapsed": false
   },
   "outputs": [
    {
     "data": {
      "text/plain": [
       "19181"
      ]
     },
     "execution_count": 54,
     "metadata": {},
     "output_type": "execute_result"
    }
   ],
   "source": [
    "len(noms_femenins_internacional_list)"
   ]
  },
  {
   "cell_type": "code",
   "execution_count": 55,
   "metadata": {
    "collapsed": false
   },
   "outputs": [
    {
     "data": {
      "text/plain": [
       "20288"
      ]
     },
     "execution_count": 55,
     "metadata": {},
     "output_type": "execute_result"
    }
   ],
   "source": [
    "len(noms_masculins_internacional_list)"
   ]
  },
  {
   "cell_type": "markdown",
   "metadata": {},
   "source": [
    "Veiem que tenim 19181 noms femenins i 20288 noms masculins. Creem ara uns conjunts a partir d'aquestes dues llistes que hem creat:"
   ]
  },
  {
   "cell_type": "code",
   "execution_count": 56,
   "metadata": {
    "collapsed": true
   },
   "outputs": [],
   "source": [
    "noms_femenins_internacional_set = set(noms_femenins_internacional_list)\n",
    "noms_masculins_internacional_set = set(noms_masculins_internacional_list)"
   ]
  },
  {
   "cell_type": "code",
   "execution_count": 57,
   "metadata": {
    "collapsed": false
   },
   "outputs": [
    {
     "data": {
      "text/plain": [
       "18594"
      ]
     },
     "execution_count": 57,
     "metadata": {},
     "output_type": "execute_result"
    }
   ],
   "source": [
    "len(noms_femenins_internacional_set)"
   ]
  },
  {
   "cell_type": "code",
   "execution_count": 58,
   "metadata": {
    "collapsed": false
   },
   "outputs": [
    {
     "data": {
      "text/plain": [
       "19692"
      ]
     },
     "execution_count": 58,
     "metadata": {},
     "output_type": "execute_result"
    }
   ],
   "source": [
    "len(noms_masculins_internacional_set)"
   ]
  },
  {
   "cell_type": "markdown",
   "metadata": {},
   "source": [
    "Un cop trets els valors duplicats, tenim 18594 noms femenins i 19692 masculins. Són molts de noms; sembla que poden ser unes dades prou interessants per intentar disminuir el nombre de noms amb sexe indeterminat al nostre dataframe."
   ]
  },
  {
   "cell_type": "markdown",
   "metadata": {},
   "source": [
    "Ara redefinim la funció per assignar el sexe, ara incloent-hi aquests conjunts de noms internacionals. "
   ]
  },
  {
   "cell_type": "code",
   "execution_count": 59,
   "metadata": {
    "collapsed": true
   },
   "outputs": [],
   "source": [
    "def assignar_sexe_2():\n",
    "    for index, row in nomenclator_df.iterrows():\n",
    "        nom_personatge = row['NOM_P']\n",
    "        if nom_personatge:\n",
    "            nom_personatge = nom_personatge.strip()\n",
    "            \n",
    "            if nom_personatge in noms_femenins_catala_set:\n",
    "                nomenclator_df.at[index, 'SEXE_P'] = 'F'\n",
    "            elif nom_personatge in noms_masculins_catala_set:\n",
    "                nomenclator_df.at[index, 'SEXE_P'] = 'M'\n",
    "            elif nom_personatge in noms_femenins_internacional_set:\n",
    "                nomenclator_df.at[index, 'SEXE_P'] = 'F'\n",
    "            elif nom_personatge in noms_masculins_internacional_set:\n",
    "                nomenclator_df.at[index, 'SEXE_P'] = 'M'\n",
    "            else:\n",
    "                nomenclator_df.at[index, 'SEXE_P'] = 'i'      \n",
    "        \n",
    "assignar_sexe_2()"
   ]
  },
  {
   "cell_type": "markdown",
   "metadata": {},
   "source": [
    "En la funció per cada nom primer es mira si es troba en els conjunts amb noms obtinguts a catalunya, i si no es troba, es busca als conjunts amb noms internacionals. He considerat adient fer-ho així per resoldre més satisfactòriament els casos en que un mateix nom pot ser masculí o femení, depenent de la zona geogràfica. Per exemple, \"Joan\" a Catalunya és un nom masculí, però als països de parla anglesa aquest nom és femení. En aquest cas, si prioritzem les dades catalanes enfront de les internacionals, el nom serà assignat al sexe adient, però si es prioritzessin les dades internacionals el sexe quedaria mal assignat: "
   ]
  },
  {
   "cell_type": "code",
   "execution_count": 60,
   "metadata": {
    "collapsed": false
   },
   "outputs": [
    {
     "name": "stdout",
     "output_type": "stream",
     "text": [
      "False\n",
      "True\n",
      "True\n",
      "True\n"
     ]
    }
   ],
   "source": [
    "print('Joan' in noms_femenins_catala_set)\n",
    "print('Joan' in noms_masculins_catala_set)\n",
    "print('Joan' in noms_femenins_internacional_set)\n",
    "print('Joan' in noms_masculins_internacional_set)"
   ]
  },
  {
   "cell_type": "markdown",
   "metadata": {},
   "source": [
    "Anem a veure si hem aconseguit reduir el nombre de valors indeterminats:"
   ]
  },
  {
   "cell_type": "code",
   "execution_count": 61,
   "metadata": {
    "collapsed": false
   },
   "outputs": [
    {
     "data": {
      "text/plain": [
       "SEXE_P\n",
       "F    162\n",
       "M    900\n",
       "i    215\n",
       "dtype: int64"
      ]
     },
     "execution_count": 61,
     "metadata": {},
     "output_type": "execute_result"
    }
   ],
   "source": [
    "nomenclator_df.groupby(['SEXE_P']).size()"
   ]
  },
  {
   "cell_type": "markdown",
   "metadata": {},
   "source": [
    "Efectivament, hem obtingut una millora, hem passat de 102 noms femenins, 773 masculins i 402 indeterminats a 162 noms femenins, 900 masculins i 215 indeterminats. Hem aconseguit reduir a gairebé la meitat el nombre d'indeterminats. Anem a veure aquests indeterminats:"
   ]
  },
  {
   "cell_type": "code",
   "execution_count": 62,
   "metadata": {
    "collapsed": true
   },
   "outputs": [],
   "source": [
    "i_type = nomenclator_df.loc[nomenclator_df['SEXE_P'] == 'i']['NOM_P']"
   ]
  },
  {
   "cell_type": "code",
   "execution_count": 63,
   "metadata": {
    "collapsed": false
   },
   "outputs": [
    {
     "data": {
      "text/plain": [
       "215"
      ]
     },
     "execution_count": 63,
     "metadata": {},
     "output_type": "execute_result"
    }
   ],
   "source": [
    "len(i_type)"
   ]
  },
  {
   "cell_type": "code",
   "execution_count": 64,
   "metadata": {
    "collapsed": false
   },
   "outputs": [
    {
     "data": {
      "text/plain": [
       "136"
      ]
     },
     "execution_count": 64,
     "metadata": {},
     "output_type": "execute_result"
    }
   ],
   "source": [
    "len(set(i_type))"
   ]
  },
  {
   "cell_type": "markdown",
   "metadata": {},
   "source": [
    "Tenim 215 indeterminats que corresponen a 136 valors únics. Anem a veure'ns alguns:"
   ]
  },
  {
   "cell_type": "code",
   "execution_count": 65,
   "metadata": {
    "collapsed": false
   },
   "outputs": [
    {
     "data": {
      "text/plain": [
       "3              Abat\n",
       "6               Sor\n",
       "9              Abdó\n",
       "24            Publi\n",
       "40           Agustí\n",
       "43             Cala\n",
       "60           Ciutat\n",
       "80            Regió\n",
       "83            Illes\n",
       "84          Domènec\n",
       "154             Pic\n",
       "164             Pel\n",
       "216       L'animal.\n",
       "237        Armengol\n",
       "246      Arquímedes\n",
       "280          Ausiàs\n",
       "315         Baldiri\n",
       "337         Caseria\n",
       "375    Coexisteixen\n",
       "380           Marià\n",
       "Name: NOM_P, dtype: object"
      ]
     },
     "execution_count": 65,
     "metadata": {},
     "output_type": "execute_result"
    }
   ],
   "source": [
    "i_type[:20]"
   ]
  },
  {
   "cell_type": "markdown",
   "metadata": {},
   "source": [
    "Veiem que els fet de que siguin indeterminats es deu a diversos motius. En alguns casos, es tracta de noms molt poc comuns o bé antics. En altres casos no es tracta de noms de persona sinó de llocs geogràfics, i això es deu a que el criteri que hem utilitzat per triar el nom a partir de la descripció també tria aquesta mena de noms. Altres casos es tracta de títols nobiliaris o eclessiàstics. Amb només 136 valors, seria factible fer una assignació manual d'aquests casos. Si el que volguéssim fos obtenir dades exactes, això és el que fariem, però com que només volem veure tendències, amb les dades que tenim ja en tenim ben prou."
   ]
  },
  {
   "cell_type": "markdown",
   "metadata": {},
   "source": [
    "Anem ara a emmagatzemar aquestes dades del dataframe en un fitxer CSV:"
   ]
  },
  {
   "cell_type": "code",
   "execution_count": 66,
   "metadata": {
    "collapsed": true
   },
   "outputs": [],
   "source": [
    "nomenclator_df.to_csv('dones_carrers_BCN.csv', sep='\\t', encoding='utf-8')"
   ]
  },
  {
   "cell_type": "markdown",
   "metadata": {},
   "source": [
    "# 5. Representació dels resultats a partir de taules i gràfiques."
   ]
  },
  {
   "cell_type": "markdown",
   "metadata": {},
   "source": [
    "Anem ara a representar gràficament el que hem obtingut:"
   ]
  },
  {
   "cell_type": "code",
   "execution_count": 67,
   "metadata": {
    "collapsed": false
   },
   "outputs": [
    {
     "data": {
      "text/plain": [
       "<matplotlib.axes._subplots.AxesSubplot at 0x2322dc19e10>"
      ]
     },
     "execution_count": 67,
     "metadata": {},
     "output_type": "execute_result"
    },
    {
     "data": {
      "image/png": "[encoded data removed]",
      "text/plain": [
       "<matplotlib.figure.Figure at 0x2322ee442e8>"
      ]
     },
     "metadata": {},
     "output_type": "display_data"
    }
   ],
   "source": [
    "nomen_df = nomenclator_df\n",
    "plt.rcParams['figure.figsize'] = (12, 6)\n",
    "nomen_df.groupby(['ANY','SEXE_P']).size().unstack(fill_value=0).plot.bar(color=['b', 'r', 'y'], width=1)"
   ]
  },
  {
   "cell_type": "markdown",
   "metadata": {},
   "source": [
    "Fem algunes ampliacions d'aquestes gràfiques per veure millor els resultats:"
   ]
  },
  {
   "cell_type": "code",
   "execution_count": 68,
   "metadata": {
    "collapsed": false
   },
   "outputs": [
    {
     "data": {
      "text/plain": [
       "<matplotlib.axes._subplots.AxesSubplot at 0x2322eed4898>"
      ]
     },
     "execution_count": 68,
     "metadata": {},
     "output_type": "execute_result"
    },
    {
     "data": {
      "image/png": "[encoded data removed]",
      "text/plain": [
       "<matplotlib.figure.Figure at 0x2322ee95ba8>"
      ]
     },
     "metadata": {},
     "output_type": "display_data"
    }
   ],
   "source": [
    "nomen_df[(nomen_df['ANY'] > 1900) & (nomen_df['ANY'] < 1970)].groupby(['ANY','SEXE_P']).size().unstack(fill_value=0).plot.bar(color=['b', 'r', 'y'], width=0.75)"
   ]
  },
  {
   "cell_type": "code",
   "execution_count": 69,
   "metadata": {
    "collapsed": false
   },
   "outputs": [
    {
     "data": {
      "text/plain": [
       "<matplotlib.axes._subplots.AxesSubplot at 0x2322f9d6ef0>"
      ]
     },
     "execution_count": 69,
     "metadata": {},
     "output_type": "execute_result"
    },
    {
     "data": {
      "image/png": "[encoded data removed]",
      "text/plain": [
       "<matplotlib.figure.Figure at 0x2322f5595c0>"
      ]
     },
     "metadata": {},
     "output_type": "display_data"
    }
   ],
   "source": [
    "nomen_df[nomen_df['ANY'] >= 1970].groupby(['ANY','SEXE_P']).size().unstack(fill_value=0).plot.bar(color=['b', 'r', 'y'], width=0.75)"
   ]
  },
  {
   "cell_type": "markdown",
   "metadata": {},
   "source": [
    "Mostrem una nova gràfica, amb el rati entre noms de carrers femenins enfront de noms masculins, per cada any. Creem un nou dataframe per poder crear una nova columna a mb el rati:"
   ]
  },
  {
   "cell_type": "code",
   "execution_count": 70,
   "metadata": {
    "collapsed": true
   },
   "outputs": [],
   "source": [
    "any_sexe_df = nomenclator_df.groupby(['ANY', 'SEXE_P']).size().unstack(fill_value=0)\n",
    "any_sexe_df = any_sexe_df[['F', 'M']].astype(float)\n",
    "any_sexe_df = any_sexe_df.append(pd.DataFrame(columns=[\"RATIO\"], dtype=float))"
   ]
  },
  {
   "cell_type": "code",
   "execution_count": 71,
   "metadata": {
    "collapsed": true
   },
   "outputs": [],
   "source": [
    "for index, row in any_sexe_df.iterrows():\n",
    "    num_F = row['F']\n",
    "    num_M = row['M']\n",
    "    if num_F > 0 or num_M > 0:\n",
    "        if num_F == 0:\n",
    "            ratio = 0.0 / num_M\n",
    "        elif num_M == 0:\n",
    "            ratio = num_F / 0.5\n",
    "        else:\n",
    "            ratio = 1.0 * num_F / num_M\n",
    "    else:\n",
    "        ratio = 0\n",
    "    any_sexe_df.at[index, 'RATIO'] = ratio"
   ]
  },
  {
   "cell_type": "markdown",
   "metadata": {},
   "source": [
    "Per poder calcular el rati en els casos en que el nombre de noms masculins sigui zero el que faig és considerar que aquest valor és 0.5."
   ]
  },
  {
   "cell_type": "code",
   "execution_count": 72,
   "metadata": {
    "collapsed": false
   },
   "outputs": [
    {
     "data": {
      "text/plain": [
       "<matplotlib.axes._subplots.AxesSubplot at 0x2322ee782e8>"
      ]
     },
     "execution_count": 72,
     "metadata": {},
     "output_type": "execute_result"
    },
    {
     "data": {
      "image/png": "[encoded data removed]",
      "text/plain": [
       "<matplotlib.figure.Figure at 0x2322fa53a90>"
      ]
     },
     "metadata": {},
     "output_type": "display_data"
    }
   ],
   "source": [
    "any_sexe_df['RATIO'].plot.bar(color=['b'], width=0.75)"
   ]
  },
  {
   "cell_type": "markdown",
   "metadata": {},
   "source": [
    "# 6. Resolució del problema. A partir dels resultats obtinguts, quines són les conclusions? Els resultats permeten respondre al problema?"
   ]
  },
  {
   "cell_type": "markdown",
   "metadata": {},
   "source": [
    "Si observem les gràfiques obtingudes, veiem com les dades referents al segle XIX són poc significatives. A partir del començament del segle XX veiem com les dades ja són més significatives i s'observa com clarament la tendència és que hi hagi molts més carrers dedicats a homes que a dones. És a partir dels voltants de l'any 1990 quan es comença a veure un canvi de tendència, amb un creixement significatiu del nombre de carrers dedicats a dones, que al voltant de l'any 2000 arriba a una situació en que gairebé tenim una paritat en l'assignació de noms de carrers a personatges d'ambdós sexes.\n",
    "\n",
    "Així doncs, podem concloure que es confirma la hipòtesi de que a mesura que la societat evoluciona cap a la igualtat entre ambdós sexes, això es reflecteix en l'assignació dels noms dels carrers a la Ciutat de Barcelona.\n",
    "\n",
    "Si ens fixem en la representació gràfica del rati, observem com, efectivament, es confirmen aquestes tendències que hem observat a partir de l'any 1990."
   ]
  },
  {
   "cell_type": "markdown",
   "metadata": {},
   "source": [
    "# 7. Codi: Cal adjuntar el codi, preferiblement en R, amb el que s’ha realitzat la neteja, anàlisi i representació de les dades. Si ho preferiu, també podeu treballar en Python."
   ]
  },
  {
   "cell_type": "markdown",
   "metadata": {},
   "source": [
    "Aquest mateix full de Jupyter mostra tot el codi utilitzat."
   ]
  }
 ],
 "metadata": {
  "anaconda-cloud": {},
  "kernelspec": {
   "display_name": "Python [default]",
   "language": "python",
   "name": "python3"
  },
  "language_info": {
   "codemirror_mode": {
    "name": "ipython",
    "version": 3
   },
   "file_extension": ".py",
   "mimetype": "text/x-python",
   "name": "python",
   "nbconvert_exporter": "python",
   "pygments_lexer": "ipython3",
   "version": "3.5.2"
  }
 },
 "nbformat": 4,
 "nbformat_minor": 1
}
