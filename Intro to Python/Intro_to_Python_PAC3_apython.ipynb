{
 "cells": [
  {
   "cell_type": "markdown",
   "metadata": {},
   "source": [
    "# Programación para *Data Science*"
   ]
  },
  {
   "cell_type": "markdown",
   "metadata": {},
   "source": [
    "## Unidad 3: Conceptos avanzados de Python"
   ]
  },
  {
   "cell_type": "markdown",
   "metadata": {},
   "source": [
    "Ejercicios y preguntas teóricas\n",
    "-------------------------------\n",
    "\n",
    "A continuación, encontraréis la parte que tenéis que completar en este modulo y las preguntas teóricas a contestar."
   ]
  },
  {
   "cell_type": "markdown",
   "metadata": {},
   "source": [
    "### Ejercicio 1\n",
    "\n",
    "Completad el código necesario para calcular el número de palabras y de espacios de un texto. El número de espacios no tiene que ser necesariamente función del número de palabras. **(1 punto)**"
   ]
  },
  {
   "cell_type": "code",
   "execution_count": 118,
   "metadata": {
    "collapsed": false
   },
   "outputs": [
    {
     "name": "stdout",
     "output_type": "stream",
     "text": [
      "El número de palabras es 23.\n",
      "El número de espacios es 34.\n"
     ]
    }
   ],
   "source": [
    "def contar_palabras_y_espacios(texto):\n",
    "    # Cuenta las palabras contenidas en el string texto y también sus espacios.\n",
    "    num_palabras = 0\n",
    "    num_espacios = 0\n",
    "    \n",
    "    # Código que hay que completar.\n",
    "    \n",
    "    # Para contar las palabras se aplica la función split() al texto, lo cual genera una lista\n",
    "    # con las palabras que hay en el texto y se aplica la función len() para obtener la\n",
    "    # longitud de esta lista.\n",
    "    num_palabras = len(texto.split())\n",
    "    \n",
    "    # Para contar los espacios se define un bucle for que itera sobre una lista que contiene\n",
    "    # los caracteres del texto: para cada carácter, si éste es igual al espacio, se suma una unidad\n",
    "    # a la variable num_espacios.\n",
    "    for caracter in list(texto):\n",
    "        if caracter == \" \":\n",
    "            num_espacios += 1\n",
    "    \n",
    "    return num_palabras, num_espacios\n",
    "\n",
    "texto = \"Orbiting Earth in the spaceship, I saw how beautiful our planet is. \\\n",
    "            People, let us preserve and increase this beauty, not destroy it!\"\n",
    "\n",
    "num_palabras, num_espacios = contar_palabras_y_espacios(texto)\n",
    "print \"El número de palabras es %d.\" % num_palabras\n",
    "print \"El número de espacios es %d.\" % num_espacios"
   ]
  },
  {
   "cell_type": "markdown",
   "metadata": {},
   "source": [
    "### Ejercicio 2\n",
    "\n",
    "Dada una molécula representada por un _string_ del estilo C9-H8-O4 calculad su masa atómica. Por ejemplo, para una molécula C4-H3, la masa atómica sería de 4\\*12.01 + 3\\*1.007825.\n",
    "\n",
    "Haced una solución general accediendo al diccionario mediante la clave, que en este caso será el tipo de átomo. Por ejemplo, para la molécula C5-H3 deberíamos seguir estos pasos:\n",
    "* Separar la molecula por los guiones (podemos hacerlo con la función split, por ejemplo).\n",
    "* Para cada una de las partes, C5 y H3, encontrar el tipo de átomo: C y H (necesitaremos un bucle de algún tipo aquí).\n",
    "* Acceder al diccionario de masas y para la clave que se corresponde con el tipo de átomo, obtener la masa.\n",
    "* Una vez encontrada la masa, multiplicarla por el número de átomos encontrados.\n",
    "\n",
    "Pista: para un string del tipo a = 'C15', a[0] nos proporcionará el tipo de átomo, C. a[1:] nos proporciona el string restante: '15'. Tened en cuenta que ha de convertirse a número decimal para poder multiplicarse. **(1.5 puntos)**"
   ]
  },
  {
   "cell_type": "code",
   "execution_count": 119,
   "metadata": {
    "collapsed": false
   },
   "outputs": [
    {
     "name": "stdout",
     "output_type": "stream",
     "text": [
      "206.26965\n",
      "194.18385\n",
      "323.415125\n",
      "376.196645\n"
     ]
    }
   ],
   "source": [
    "# Masas atómicas\n",
    "masas = {'H': 1.007825, 'C': 12.01, 'O': 15.9994, 'N': 14.0067, 'S': 31.972071, 'P': 30.973762}\n",
    "\n",
    "def calcula_masa_atomica(molecula):\n",
    "    \"\"\"\n",
    "    Calcula la masa atómica de una molécula\n",
    "    \"\"\"\n",
    "    masa = 0.0\n",
    "    \n",
    "    # Código que hay que completar.\n",
    "    \n",
    "    # Se separa la molecula por los guiones y se obtienen las diferentes partes.\n",
    "    partes = molecula.split(\"-\")\n",
    "    \n",
    "    # Se genera un bucle para iterar sobre cada parte de la molécula.\n",
    "    for parte in partes:\n",
    "        \n",
    "        # Para cada una de las partes, se encuentra el tipo de átomo y su cantidad.\n",
    "        tipo_de_atomo = parte[0]\n",
    "        if len(parte[1:]) > 0:\n",
    "            # En el caso en que después del tipo de átomo tengamos un número, éste será el\n",
    "            # número de átomos.\n",
    "            cantidad_de_atomos = int(parte[1:])\n",
    "        else:\n",
    "            # En caso contrario, significa que no tenemos ningún número que especifique el número\n",
    "            # de átomos, lo cual significa que sólo hay un átomo.\n",
    "            cantidad_de_atomos = 1\n",
    "        \n",
    "        # Se accede al diccionario de masas y para la clave que se corresponde con el tipo de \n",
    "        # átomo se obtiene su masa.\n",
    "        masa_del_atomo = masas[tipo_de_atomo]\n",
    "        \n",
    "        # Se multiplica la masa por el número de átomos encontrado, y este valor se suma a masa.\n",
    "        masa += masa_del_atomo * cantidad_de_atomos\n",
    "     \n",
    "    return masa\n",
    "\n",
    "print calcula_masa_atomica('C13-H18-O2')\n",
    "print calcula_masa_atomica('C8-H10-N4-O2')\n",
    "print calcula_masa_atomica('C20-H25-N3-O')\n",
    "print calcula_masa_atomica('C20-H10-O2-P2-S')"
   ]
  },
  {
   "cell_type": "markdown",
   "metadata": {},
   "source": [
    "### Ejercicio 3\n",
    "\n",
    "Completad las siguientes funciones matemáticas y documentad el código también de cada función. Por último, escribid algún ejemplo de uso de cada una de las funciones. **(1.5 puntos)**"
   ]
  },
  {
   "cell_type": "code",
   "execution_count": 121,
   "metadata": {
    "collapsed": false
   },
   "outputs": [
    {
     "name": "stdout",
     "output_type": "stream",
     "text": [
      "El área de un círculo de radio 3.5 es 38.484510\n",
      "La longitud de la circunferencia de un círculo de radio 3.5 es 21.991149\n",
      "La hipotenusa de un triángulo recto con catetos 3 y 4 es 5.000000\n",
      "El área de un cuadrado de lado 5 es 25.000000\n",
      "El volumen de una esfera de radio 3.5 es 179.594380\n",
      "El volumen de un cubo de lado 3.5 es 42.875000\n"
     ]
    }
   ],
   "source": [
    "# Completad las siguientes funciones matemáticas\n",
    "import math\n",
    "\n",
    "def area_circulo(radio):\n",
    "    # Código que hay que completar.\n",
    "    '''\n",
    "    Devuelve el área de un círculo dado su radio.\n",
    "    '''\n",
    "    # Se utiliza la constante pi del módulo math.\n",
    "    # Se utiliza la función pow del módulo math, para calcular una potencia.\n",
    "    return math.pi * math.pow(radio, 2)\n",
    "\n",
    "\n",
    "def longitud_circulo(radio):\n",
    "    # Código que hay que completar.\n",
    "    '''\n",
    "    Devuelve el perímetro de un círculo dado su radio.\n",
    "    '''\n",
    "    # Se utiliza la constante pi del módulo math.\n",
    "    return 2 * math.pi * radio \n",
    "\n",
    "\n",
    "def hipotenusa(cateto1, cateto2):\n",
    "    # Código que hay que completar.\n",
    "    '''\n",
    "    Devuelve la hipotenusa de un triángulo equilátero dados sus dos catetos.\n",
    "    '''\n",
    "    # Se utiliza la función sqrt del módulo math, para calcular la raíz cuadrada.\n",
    "    # Se utiliza la función pow del módulo math, para calcular una potencia.\n",
    "    return math.sqrt(math.pow(cateto1, 2) + math.pow(cateto2, 2))\n",
    "\n",
    "\n",
    "def area_cuadrado(lado):\n",
    "    # Código que hay que completar.\n",
    "    '''\n",
    "    Devuelve el área de un cuadrado su ladoo.\n",
    "    '''\n",
    "    return lado * lado\n",
    "\n",
    "\n",
    "def volumen_esfera(radio):\n",
    "    # Código que hay que completar.\n",
    "    '''\n",
    "    Devuelve el volumen de una esfera dado su radio.\n",
    "    '''\n",
    "    # Se utiliza la constante pi del módulo math.\n",
    "    # Se utiliza la función pow del módulo math, para calcular una potencia.\n",
    "    return (4.0 / 3.0) * math.pi * math.pow(radio, 3)\n",
    "\n",
    "\n",
    "def volumen_cubo(lado):\n",
    "    # Código que hay que completar.\n",
    "    '''\n",
    "    Devuelve el volumen de un cubo dado su lado.\n",
    "    '''\n",
    "    # Se utiliza la función pow del módulo math, para calcular una potencia.\n",
    "    return math.pow(lado, 3)\n",
    "\n",
    "\n",
    "# Escribid aquí algunos ejemplos utilizando estas funciones, por ejemplo:\n",
    "print 'El área de un círculo de radio 3.5 es %f' % area_circulo(3.5)\n",
    "print 'La longitud de la circunferencia de un círculo de radio 3.5 es %f' % longitud_circulo(3.5)\n",
    "print 'La hipotenusa de un triángulo recto con catetos 3 y 4 es %f' % hipotenusa(3, 4)\n",
    "print 'El área de un cuadrado de lado 5 es %f' % area_cuadrado(5)\n",
    "print 'El volumen de una esfera de radio 3.5 es %f' % volumen_esfera(3.5)\n",
    "print 'El volumen de un cubo de lado 3.5 es %f' % volumen_cubo(3.5)"
   ]
  },
  {
   "cell_type": "markdown",
   "metadata": {},
   "source": [
    "### Ejercicio 4\n",
    "\n",
    "El siguiente ejercicio consiste en pasar un número en base 2 (binario, 0/1) a base 10 (decimal).\n",
    "\n",
    "Dado un _string_ que representa un número en binario, por ejemplo, 1011, devolved el número \n",
    "natural correspondiente, en este caso, 11. **(1.5 puntos)**"
   ]
  },
  {
   "cell_type": "code",
   "execution_count": 122,
   "metadata": {
    "collapsed": false
   },
   "outputs": [
    {
     "name": "stdout",
     "output_type": "stream",
     "text": [
      "Al binario 101 le corresponde el decimal 5\n",
      "Al binario 1111 le corresponde el decimal 7\n",
      "Al binario 00000 le corresponde el decimal 0\n",
      "Al binario 0110 le corresponde el decimal 6\n",
      "Al binario 10101010 le corresponde el decimal 170\n"
     ]
    }
   ],
   "source": [
    "# Código que hay que completar: DEFINID UNA FUNCIÓN y escribid algunos casos de uso de esa función.\n",
    "def binario_a_decimal(binario):\n",
    "    ''' \n",
    "    Pasa un número de binario a decimal.\n",
    "    '''\n",
    "    # Se define la variable decimal que contendrá el número en decimal.\n",
    "    decimal = 0\n",
    "    \n",
    "    # Se define la variable que contiene la longitud del número en binario.\n",
    "    longitud_del_binario = len(binario)\n",
    "    \n",
    "    # Se realiza un bucle para cada bit del número en binario.\n",
    "    # Como interesa tener el bit y el lugarque ocupa en el binario, se utiliza la función\n",
    "    #  enumerate(), que retorna un objeto enumerate iterable y que es útil para obtener\n",
    "    #  un serie indexada de items y sus posiciones.\n",
    "    for indice, bit in enumerate(binario):\n",
    "        \n",
    "        # Se calcula el exponente correspondiente a la posición que ocupa el bit.\n",
    "        exponente = longitud_del_binario - indice - 1\n",
    "        \n",
    "        # En caso deque el bit sea un 1 se calcula el peso correspondiente al bit y se suma\n",
    "        #  a la variable decimal.\n",
    "        if bit == '1':\n",
    "            peso = 2 ** exponente\n",
    "            decimal += peso\n",
    "    \n",
    "    # Se retorna el valor de la variable decimal.\n",
    "    return decimal\n",
    " \n",
    "    \n",
    "# Se plantean algunos ejemplos:\n",
    "print 'Al binario 101 le corresponde el decimal %d' % binario_a_decimal('101') \n",
    "print 'Al binario 1111 le corresponde el decimal %d' % binario_a_decimal('111')  \n",
    "print 'Al binario 00000 le corresponde el decimal %d' % binario_a_decimal('00000')  \n",
    "print 'Al binario 0110 le corresponde el decimal %d' % binario_a_decimal('0110')  \n",
    "print 'Al binario 10101010 le corresponde el decimal %d' % binario_a_decimal('10101010')  "
   ]
  },
  {
   "cell_type": "markdown",
   "metadata": {},
   "source": [
    "### Ejercicio 5\n",
    "\n",
    "Uno de los algoritmos más básicos en criptografía es el [cifrado César](https://es.wikipedia.org/wiki/Cifrado_C%C3%A9sar), que fue utilizado por Julio César para comunicarse con sus generales, y que consiste en dado un texto, por cada una de las letras del texto, añadirle un desplazamiento para conseguir una nueva letra diferente de la original. Comprenderemos rápidamente su mecanismo mediante un ejemplo:\n",
    "\n",
    "Si asignamos el número 1 a la primera letra del abecedario, A, 2 a la siguiente, B, etc., imaginad que tenemos el siguiente mensaje:\n",
    "<code>\n",
    "ABC\n",
    "123\n",
    "</code>\n",
    "\n",
    "Si aplicamos un desplazamiento de 3, buscaremos cuál es la letra en el abecedario que se corresponde:\n",
    "<code>\n",
    "DEF\n",
    "456\n",
    "</code>\n",
    "\n",
    "ABC se ha convertido en DEF porque hemos sumado un desplazamiento de 3. También podríamos aplicar otros tipos de desplazamiento como los negativos. Por ejemplo, para el desplazamiento -1 y el mensaje original ABC tendríamos un mensaje cifrado de: ZAB.\n",
    "\n",
    "Escribid una función que dado un mensaje original y un desplazamiento, calcule y devuelva el mensaje cifrado. **(1.5 puntos)**"
   ]
  },
  {
   "cell_type": "code",
   "execution_count": 123,
   "metadata": {
    "collapsed": false
   },
   "outputs": [
    {
     "name": "stdout",
     "output_type": "stream",
     "text": [
      "QSPHSBNBDJPO QBSB EBUB TDJFODF\n",
      "OQNFQZLZBHNM OZQZ CZSZ RBHDMBD\n",
      "klm, nop! qrs? tuv; wxy çñ ÇÑ zabcdefghij.\n",
      "qrs, tuv! wxy? zab; cde çñ ÇÑ fghijklmnop.\n"
     ]
    }
   ],
   "source": [
    "def cifrado_cesar(mensaje, desplazamiento=1):\n",
    "    \"\"\"\n",
    "    Cifra el mensaje utilizando el metodo de Cesar dado un desplazamiento\n",
    "    \"\"\"\n",
    "    mensaje_cifrado = \"\"\n",
    "    \n",
    "    # Código que hay que completar.\n",
    "    \n",
    "    # Se definen dos strings que contienen el alfabeto en minúsculas y mayúsculas.\n",
    "    alfabeto_minusculas = 'abcdefghijklmnopqrstuvwxyz'\n",
    "    alfabeto_mayusculas = 'ABCDEFGHIJKLMNOPQRSTUVWXYZ'\n",
    "    \n",
    "    # Se realiza un bucle en el que se itera para cada carácter en el mensaje.\n",
    "    for caracter in mensaje:\n",
    "        \n",
    "        # Por defecto se define que el carácter codificado sea igual al carácter sin codificar. Así nos\n",
    "        # aseguramos que se retornará el mismo carácter para los casos en los que el carácter no sea\n",
    "        # alfabético o no sea un carácter ASCII.\n",
    "        caracter_codificado = caracter\n",
    "        \n",
    "        # En el caso en que el carácter esté en minúsculas, se busca el índice que ocupa el carácter en \n",
    "        # el string que contiene el alfabeto en minúsculas, y luego se busca en este string el carácter \n",
    "        # correcpondiente a la posición del carácter inicial más el desplazamiento.\n",
    "        if caracter in alfabeto_minusculas: \n",
    "            indice_caracter = alfabeto_minusculas.index(caracter)\n",
    "            # Se evita el desbordamiento realizando la operación módulo al valor del índice que se obtiene\n",
    "            # para el carácter una vez codificado.\n",
    "            caracter_codificado = alfabeto_minusculas[(indice_caracter + desplazamiento) % len(alfabeto_minusculas)]\n",
    "            \n",
    "        # En el caso en que el carácter esté en mayúsculas, se busca el índice que ocupa el carácter en \n",
    "        # el string que contiene el alfabeto en mayúsculas, y luego se busca en este string el carácter \n",
    "        # correcpondiente a la posición del carácter inicial más el desplazamiento. \n",
    "        elif caracter in alfabeto_mayusculas: \n",
    "            indice_caracter = alfabeto_mayusculas.index(caracter)\n",
    "            caracter_codificado = alfabeto_mayusculas[(indice_caracter + desplazamiento) % len(alfabeto_mayusculas)]\n",
    "        \n",
    "        # Se añade el carácter codificado al mensaje cifrado.\n",
    "        mensaje_cifrado += caracter_codificado\n",
    "    \n",
    "    return mensaje_cifrado\n",
    "\n",
    "# Aquí podéis añadir mas ejemplos.\n",
    "print cifrado_cesar(\"PROGRAMACION PARA DATA SCIENCE\", 1)\n",
    "print cifrado_cesar(\"PROGRAMACION PARA DATA SCIENCE\", -1)\n",
    "print cifrado_cesar(\"abc, def! ghi? jkl; mno çñ ÇÑ pqrstuvwxyz.\", 10)\n",
    "print cifrado_cesar(\"abc, def! ghi? jkl; mno çñ ÇÑ pqrstuvwxyz.\", -10)\n"
   ]
  },
  {
   "cell_type": "markdown",
   "metadata": {},
   "source": [
    "### Pregunta 1\n",
    "\n",
    "Las funciones _range_ y _xrange_ pueden utilizarse con la misma finalidad, pero su funcionamiento es distinto. Explicad en qué se diferencian y comentad para qué sirve la palabra reservada *yield*. Poned un ejemplo de uso de *range*, *xrange* y otro de *yield*. **(1 punto)**\n",
    "\n",
    "**Respuesta:**"
   ]
  },
  {
   "cell_type": "markdown",
   "metadata": {},
   "source": [
    "La función *range* tiene tres posibles argumentos, *start*, *stop* y *step*, de los cuales solamente *stop* es obligatorio que se especifique. Esta función retorna una lista con los sucesivos enteros comprendidos entre *start* y *stop*. Si sólo se especifica el argumento *stop*, retorna los enteros comprendidos entre 0 i *stop*-1. Con dos argumentos, retorna los enteros entre *start* y *stop*-1. Con tres argumentos, retorna los enteros entre *start* y *stop*-1, añadiendo el valor dado por *step* a cada predecesor en el resultado. Si no se especifican, *start* por defecto es 0 y *step* es 1. *step* puede ser mayor que 1 para saltarse términos (por ejemplo, *range(0, 20, 2)* es una lista de enteros pares desde 0 hasta 18), o negativo, para contar hacia abajo desde el valor *start*, que debe ser mayor que *stop* (por ejemplo, *range(4, -4, -1)* devuelve los enteros entre 4 y -3). Veamos algunos ejemplos:"
   ]
  },
  {
   "cell_type": "code",
   "execution_count": 124,
   "metadata": {
    "collapsed": false
   },
   "outputs": [
    {
     "data": {
      "text/plain": [
       "[0, 1, 2, 3, 4]"
      ]
     },
     "execution_count": 124,
     "metadata": {},
     "output_type": "execute_result"
    }
   ],
   "source": [
    "x = [i for i in range(5)]\n",
    "x"
   ]
  },
  {
   "cell_type": "code",
   "execution_count": 125,
   "metadata": {
    "collapsed": false
   },
   "outputs": [
    {
     "data": {
      "text/plain": [
       "[5, 6, 7, 8, 9]"
      ]
     },
     "execution_count": 125,
     "metadata": {},
     "output_type": "execute_result"
    }
   ],
   "source": [
    "y = [i for i in range(5, 10)]\n",
    "y"
   ]
  },
  {
   "cell_type": "code",
   "execution_count": 126,
   "metadata": {
    "collapsed": false
   },
   "outputs": [
    {
     "data": {
      "text/plain": [
       "[0, 2, 4, 6, 8, 10, 12, 14, 16, 18]"
      ]
     },
     "execution_count": 126,
     "metadata": {},
     "output_type": "execute_result"
    }
   ],
   "source": [
    "z = [i for i in range(0, 20, 2)]\n",
    "z"
   ]
  },
  {
   "cell_type": "code",
   "execution_count": 127,
   "metadata": {
    "collapsed": false
   },
   "outputs": [
    {
     "data": {
      "text/plain": [
       "[5, 4, 3, 2, 1, 0, -1, -2, -3, -4]"
      ]
     },
     "execution_count": 127,
     "metadata": {},
     "output_type": "execute_result"
    }
   ],
   "source": [
    "a = [i for i in range(5, -5, -1)]\n",
    "a"
   ]
  },
  {
   "cell_type": "markdown",
   "metadata": {},
   "source": [
    "La función *xrange* es muy parecida a *range*, y tiene los mismos argumentos, pero presenta la diferencia de que no almacena o ofrece de una vez la lista completa que genera sino que genera un entero cada vez. Esto puede ser útil en bucles *for* cuando el rango es muy grande y hay poca memoria, optimizando espacio pero sin beneficios en la velocidad. Un ejemplo de uso sería, por ejemplo, el siguiente bucle *for*: *for x in xrange(10000000)*, donde en vez de generar una lista con 10.000.000 elementos y tenerla en memoria, se iría generando cada número en cada iteración del bucle."
   ]
  },
  {
   "cell_type": "code",
   "execution_count": 18,
   "metadata": {
    "collapsed": false
   },
   "outputs": [
    {
     "name": "stdout",
     "output_type": "stream",
     "text": [
      "0\n",
      "1\n",
      "2\n",
      "3\n",
      "4\n",
      "5\n",
      "6\n",
      "7\n",
      "8\n",
      "9\n"
     ]
    }
   ],
   "source": [
    "for x in xrange(10):\n",
    "    print x\n",
    "    "
   ]
  },
  {
   "cell_type": "markdown",
   "metadata": {},
   "source": [
    "La expresión *yield* define una función generadora, que produce resultados bajo demanda. Las funciones que contienen un *yield* se compilan de una manera especial: cuando son llamadas, crean y retornan un objeto generador, es decir, un iterable que automáticamente soporta el protocolo de iteración para ofrecer resultados en contextos iterativos. Generalmente se utiliza en una línea para esta expresión, y *yield* suspende el estado de la función y retorna un valor. En la siguiente iteración, la localización y estado anteriores de la función son restaurados y el control continúa inmediatamente después de la expresión *yield*. La principal diferencia entre funciones generadoras y funciones normales es que una función generadora entrega un valor, en vez de retornarlo, es decir, que la expresión *yield* suspende la función y envía un valor al solicitante, pero retiene el estado para permitir a la función continuar a partir del lugar en que quedó. Cuando continúa, la función sigue la ejecución inmediatamente después de la expresión *yield*. Desde el punto de vista de la función, esto le permite a su código producir una serie de valores uno por uno, en vez the producirlos todos a la vez y retornarlos en una lista, por ejemplo. En este aspecto, es un comportamiento muy parecido al mostrado por *xrange*.\n",
    "\n",
    "Veamos un ejemplo de utilización de *yield*. El siguiente código define una función generadora que puede ser usada para generar los cubos de una serie de números:\n",
    "\n",
    "    def generaCubos(n):\n",
    "        for i in range(n):\n",
    "            yield i ** 3\n",
    "            \n",
    "    x = generaCubos(3)\n",
    "    x\n",
    "            \n",
    "Esta función entrega un valor a quien realiza la llamada a la función, cada vez a través del bucle. Cuando continúa su ejecución, su estado previo es restaurado, incluido el último valor de sus variables *i* y *n*, y se retorna el control inmediatamente después de la expresión *yield*. En el ejemplo lo que se obtiene es un objeto generador que soporta el protocolo de iteración. Este objeto tiene un método *next()* que inicializa la función o la continúa desde donde quedó la última vez que entregó un valor, y lanza una excepción *StopIteration* cuando se alcanza el final de la serie de valores y la función retorna. Así pues, obtenemos lo siguiente en este ejemplo, donde se ve claramente como cada vez se entrega el siguiente valor de la serie:"
   ]
  },
  {
   "cell_type": "code",
   "execution_count": 21,
   "metadata": {
    "collapsed": false
   },
   "outputs": [
    {
     "data": {
      "text/plain": [
       "<generator object generaCubos at 0xb286689c>"
      ]
     },
     "execution_count": 21,
     "metadata": {},
     "output_type": "execute_result"
    }
   ],
   "source": [
    "def generaCubos(n):\n",
    "        for i in range(n):\n",
    "            yield i ** 3\n",
    "            \n",
    "x = generaCubos(3)\n",
    "x"
   ]
  },
  {
   "cell_type": "code",
   "execution_count": 22,
   "metadata": {
    "collapsed": false
   },
   "outputs": [
    {
     "data": {
      "text/plain": [
       "0"
      ]
     },
     "execution_count": 22,
     "metadata": {},
     "output_type": "execute_result"
    }
   ],
   "source": [
    "next(x)"
   ]
  },
  {
   "cell_type": "code",
   "execution_count": 10,
   "metadata": {
    "collapsed": false
   },
   "outputs": [
    {
     "data": {
      "text/plain": [
       "1"
      ]
     },
     "execution_count": 10,
     "metadata": {},
     "output_type": "execute_result"
    }
   ],
   "source": [
    "next(x)"
   ]
  },
  {
   "cell_type": "code",
   "execution_count": 11,
   "metadata": {
    "collapsed": false
   },
   "outputs": [
    {
     "data": {
      "text/plain": [
       "8"
      ]
     },
     "execution_count": 11,
     "metadata": {},
     "output_type": "execute_result"
    }
   ],
   "source": [
    "next(x)"
   ]
  },
  {
   "cell_type": "code",
   "execution_count": 12,
   "metadata": {
    "collapsed": false
   },
   "outputs": [
    {
     "ename": "StopIteration",
     "evalue": "",
     "output_type": "error",
     "traceback": [
      "\u001b[0;31m---------------------------------------------------------------------------\u001b[0m\n\u001b[0;31mStopIteration\u001b[0m                             Traceback (most recent call last)",
      "\u001b[0;32m<ipython-input-12-5e4e57af3a97>\u001b[0m in \u001b[0;36m<module>\u001b[0;34m()\u001b[0m\n\u001b[0;32m----> 1\u001b[0;31m \u001b[0mnext\u001b[0m\u001b[0;34m(\u001b[0m\u001b[0mx\u001b[0m\u001b[0;34m)\u001b[0m\u001b[0;34m\u001b[0m\u001b[0m\n\u001b[0m",
      "\u001b[0;31mStopIteration\u001b[0m: "
     ]
    }
   ],
   "source": [
    "next(x)"
   ]
  },
  {
   "cell_type": "markdown",
   "metadata": {},
   "source": [
    "### Pregunta 2\n",
    "\n",
    "El paradigma de programación orientada a objetos es ampliamente utilizado en gran parte de las librerías que se escriben en Python. Es una forma útil de encapsular información de la que se ocupará el propio objeto donde se ha definido esa información. Explicad qué es una clase, un objeto, un atributo, un método, un constructor, una superclase y una subclase. Poned un ejemplo de definición de una clase en código Python y un ejemplo de uso de esa misma clase. Podéis basaros en el material [Object Oriented Program Design](http://life.bsc.es/pid/brian/python/#/7). **(1 punto)**\n",
    "\n",
    "**Respuesta:**"
   ]
  },
  {
   "cell_type": "markdown",
   "metadata": {},
   "source": [
    "Una __clase__ es una estructura utilizada para implementar nuevos tipos de objetos en Python que soportan la herencia. Son la principal herramienta de la Programación Orientada a Objetos (OOP, por sus siglas en inglés). La OOP ofrece una manera de programar más efectiva, en la cual se factoriza el código para minimizar la redundancia y escribir nuevos programas mediante la *customización* del código en vez de tener que cambiarlo cada vez. En Python las clases se crean mediante la expresión *class*. Una clase se puede entender como un molde general a partir del cual se crean instancias particulares del mismo, creándose los __objetos__, que no son más que instancias particulares de la entidad general definida por la clase. Precisamente la creación de un objeto a partir del molde que representa una clase se llama __instanciación__, y el objeto creado también se conoce como instancia.\n",
    "\n",
    "Una clase define su estado y su comportamiento. El estado se define mediante los __atributos__, y el comportamiento mediante los __métodos__. Así, un atributo se considera un contenedor de un tipo de datos asociados a un objeto (o a la clase que lo define), que hace que los datos sean visibles desde fuera del objeto y esto se define como sus características predeterminadas, y cuyo valor puede ser alterado por la ejecución de algún método. Un método es un algoritmo asociado a un objeto cuya ejecución se desencadena tras la recepción de un *mensaje*. Es decir, desde el punto de vista del comportamiento, es lo que el objeto puede hacer. Un método puede producir un cambio en las propiedades del objeto, o la generación de un *evento* con un nuevo mensaje para otro objeto del sistema.\n",
    "\n",
    "Cuando instanciamos una clase para crear un objeto se crea un objeto vacío. Hay veces que lo que se desea es que cuando se instancia una clase ésta tenga un estado inicial dado, que no sea un objeto vacío, que nada más instanciarla haga alguna cosa. Precisamente de esto se encarga el método especial __init__. Este método se ejecuta automáticamente nada más instanciar la clase. Puede recibir argumentos y estos serán pasados al instanciar la clase. Este método se dice que es el __constructor__ de la clase.\n",
    "\n",
    "Una propiedad muy importante de las clases es la __herencia__. Las clases no son entes aislados, sino que se relacionan entre sí, formando una jerarquía en su clasificación. Los objetos que se definen a partir de las clases heredan las propiedades y el comportamiento de todas las clases a las que pertenecen, y también pueden definir atributos y métodos que serán propios a esta clase, o incluso modificar métodos heredados. En esta jerarquía, la clase que hereda de otra clase se dice que es una __subclase__ de esta clase con jerarquía superior, y esta clase de jerarquía superior es una __superclase__ en referencia a la subclase.\n",
    "\n",
    "Pasamos ahora a ver un ejemplo en el que se detallan todos estos conceptos:"
   ]
  },
  {
   "cell_type": "code",
   "execution_count": 131,
   "metadata": {
    "collapsed": false
   },
   "outputs": [
    {
     "name": "stdout",
     "output_type": "stream",
     "text": [
      "Mi gata Lluna Patuf pesa 2.8 kilos y tiene 21 años.\n",
      "El gato callejero sin nombre tiene un peso desconocido y una edad desconocida.\n",
      "El gato callejero cuando maulla dice miau, pero mi gata dice miau miau.\n"
     ]
    }
   ],
   "source": [
    "# Se define la clase Gato, con los atributos peso y edad y los métodos \n",
    "# maullar() y dormir().\n",
    "# Todas las clases heredan de object.\n",
    "class Gato(object):\n",
    "    \n",
    "    # Se define el constructor de la clase, en el que se inicializan los dos atributos.\n",
    "    def __init__(self, peso=\"desconocido\", edad=\"desconocida\"):\n",
    "        self.peso = peso\n",
    "        self.edad = edad\n",
    "    \n",
    "    # Se define el método maullar().\n",
    "    def maullar(self):\n",
    "        return \"miau\"\n",
    "    \n",
    "    # Se define el método dormir().\n",
    "    def dormir(self):\n",
    "        return \"zzzzzzz\"\n",
    "\n",
    "    \n",
    "# Se define la clase Gato_Domestico, que hereda de la clase Gato.    \n",
    "class Gato_Domestico(Gato):\n",
    "\n",
    "    # Se define el constructor, que hereda los dos atributos de la superclase Gato. \n",
    "    def __init__(self, nombre, peso, edad):\n",
    "        Gato.__init__(self, peso, edad)\n",
    "        # La subclase Gato_Domestico tiene un atributo más: nombre.\n",
    "        self.nombre = nombre\n",
    "    \n",
    "    # La subclase Gato_Domestico tiene su propia versión del método maullar().\n",
    "    def maullar(self):\n",
    "        return \"miau miau\"\n",
    "\n",
    "# Se instancia un objeto de la clase Gato_Domestico   \n",
    "mi_gata = Gato_Domestico(\"Lluna Patuf\", 2.8, 21)\n",
    "\n",
    "# Se instancia un objeto de la clase Gato.\n",
    "un_gato_salvaje = Gato()\n",
    "\n",
    "# Se imprimen tres mensajes que utilizan atributos y métodos de ambas clases.\n",
    "print \"Mi gata %s pesa %.1f kilos y tiene %d años.\" % (mi_gato.nombre, mi_gato.peso, mi_gato.edad)\n",
    "print \"El gato callejero sin nombre tiene un peso %s y una edad %s.\" % (un_gato_salvaje.peso, un_gato_salvaje.edad)\n",
    "print \"El gato callejero cuando maulla dice %s, pero mi gata dice %s.\" % (un_gato_salvaje.maullar(), mi_gata.maullar())\n"
   ]
  },
  {
   "cell_type": "markdown",
   "metadata": {},
   "source": [
    "### Pregunta 3\n",
    "\n",
    "Las excepciones son errores detectados en tiempo de ejecución. Pueden y deben ser manejadas por el programador para minimizar el riesgo de que un determinado programa falle de forma no controlada. Poned ejemplos de tipos de excepción en el lenguaje Python y de cómo se capturan. **(1 punto)**\n",
    "\n",
    "**Respuesta:**"
   ]
  },
  {
   "cell_type": "markdown",
   "metadata": {},
   "source": [
    "Desarrollaré un ejemplo sencillo. Vemos qué pasa cuando se intenta convertir un string con caracteres que no son numéricos a un entero:"
   ]
  },
  {
   "cell_type": "code",
   "execution_count": 132,
   "metadata": {
    "collapsed": false
   },
   "outputs": [
    {
     "ename": "ValueError",
     "evalue": "invalid literal for int() with base 10: 'Hola'",
     "output_type": "error",
     "traceback": [
      "\u001b[0;31m---------------------------------------------------------------------------\u001b[0m\n\u001b[0;31mValueError\u001b[0m                                Traceback (most recent call last)",
      "\u001b[0;32m<ipython-input-132-51ee5859c4c9>\u001b[0m in \u001b[0;36m<module>\u001b[0;34m()\u001b[0m\n\u001b[0;32m----> 1\u001b[0;31m \u001b[0;32mprint\u001b[0m \u001b[0mint\u001b[0m\u001b[0;34m(\u001b[0m\u001b[0;34m'Hola'\u001b[0m\u001b[0;34m)\u001b[0m\u001b[0;34m\u001b[0m\u001b[0m\n\u001b[0m",
      "\u001b[0;31mValueError\u001b[0m: invalid literal for int() with base 10: 'Hola'"
     ]
    }
   ],
   "source": [
    "print int('Hola')"
   ]
  },
  {
   "cell_type": "markdown",
   "metadata": {},
   "source": [
    "Vemos que salta una excepción del tipo *ValueError* y nos muestra un mensaje explicativo de este tipo de error. Paso ahora a definir una función para observar mejor el comportamiento de este error:"
   ]
  },
  {
   "cell_type": "code",
   "execution_count": 133,
   "metadata": {
    "collapsed": false
   },
   "outputs": [],
   "source": [
    "def demo_excepcion(valor):\n",
    "    try:\n",
    "        return int(valor)\n",
    "    except ValueError as e:\n",
    "        return e"
   ]
  },
  {
   "cell_type": "markdown",
   "metadata": {},
   "source": [
    "Veamos algunos ejemplos con esta función:"
   ]
  },
  {
   "cell_type": "code",
   "execution_count": 134,
   "metadata": {
    "collapsed": false
   },
   "outputs": [
    {
     "name": "stdout",
     "output_type": "stream",
     "text": [
      "4\n"
     ]
    }
   ],
   "source": [
    "print demo_excepcion(4)"
   ]
  },
  {
   "cell_type": "code",
   "execution_count": 135,
   "metadata": {
    "collapsed": false
   },
   "outputs": [
    {
     "name": "stdout",
     "output_type": "stream",
     "text": [
      "6\n"
     ]
    }
   ],
   "source": [
    "print demo_excepcion(6.9)"
   ]
  },
  {
   "cell_type": "code",
   "execution_count": 136,
   "metadata": {
    "collapsed": false
   },
   "outputs": [
    {
     "name": "stdout",
     "output_type": "stream",
     "text": [
      "45\n"
     ]
    }
   ],
   "source": [
    "print demo_excepcion('45')"
   ]
  },
  {
   "cell_type": "code",
   "execution_count": 137,
   "metadata": {
    "collapsed": false
   },
   "outputs": [
    {
     "name": "stdout",
     "output_type": "stream",
     "text": [
      "invalid literal for int() with base 10: 'Hola'\n"
     ]
    }
   ],
   "source": [
    "print demo_excepcion('Hola')"
   ]
  },
  {
   "cell_type": "markdown",
   "metadata": {},
   "source": [
    "¿Qué ha pasado aquí? Tenemos una función que recibe un valor y intenta retornar el mismo valor como número entero. Al pasarle a esta función el parámetro 4, número entero, nos retorna el mismo valor, el entero 4. Al pasarle un número real nos devuelve el número entero correspondiente a truncar el real. Al pasarle el string '45' la función nos devuelve el correspondiente entero, 45. Pero al pasarle un string que no se puede convertir a un extero salta una excepción ValueError y se nos muestra el mensaje asociado a esta excepción."
   ]
  },
  {
   "cell_type": "markdown",
   "metadata": {},
   "source": [
    "Veamos otro error, muy común al realizar cálculos aritméticos, la división por zero:"
   ]
  },
  {
   "cell_type": "code",
   "execution_count": 138,
   "metadata": {
    "collapsed": false
   },
   "outputs": [
    {
     "ename": "ZeroDivisionError",
     "evalue": "integer division or modulo by zero",
     "output_type": "error",
     "traceback": [
      "\u001b[0;31m---------------------------------------------------------------------------\u001b[0m\n\u001b[0;31mZeroDivisionError\u001b[0m                         Traceback (most recent call last)",
      "\u001b[0;32m<ipython-input-138-dade57fc53e1>\u001b[0m in \u001b[0;36m<module>\u001b[0;34m()\u001b[0m\n\u001b[0;32m----> 1\u001b[0;31m \u001b[0;32mprint\u001b[0m \u001b[0;36m5\u001b[0m \u001b[0;34m/\u001b[0m \u001b[0;36m0\u001b[0m\u001b[0;34m\u001b[0m\u001b[0m\n\u001b[0m\u001b[1;32m      2\u001b[0m \u001b[0;32mprint\u001b[0m \u001b[0;34m\"Instrucciones despues de intentar dividir por zero.\"\u001b[0m\u001b[0;34m\u001b[0m\u001b[0m\n",
      "\u001b[0;31mZeroDivisionError\u001b[0m: integer division or modulo by zero"
     ]
    }
   ],
   "source": [
    "print 5 / 0\n",
    "print \"Instrucciones despues de intentar dividir por zero.\""
   ]
  },
  {
   "cell_type": "markdown",
   "metadata": {},
   "source": [
    "Salta un error del tipo ZeroDivisionError y se sale de la ejecución del programa, sin ejecutarse las instrucciones posteriores. Veamos una manera de atrapar este error:"
   ]
  },
  {
   "cell_type": "code",
   "execution_count": 139,
   "metadata": {
    "collapsed": false
   },
   "outputs": [
    {
     "name": "stdout",
     "output_type": "stream",
     "text": [
      "integer division or modulo by zero\n",
      "Instrucciones despues de intentar dividir por zero.\n"
     ]
    }
   ],
   "source": [
    "try:\n",
    "    a = 5 / 0\n",
    "    print a\n",
    "except ZeroDivisionError as e:\n",
    "    print e\n",
    "    \n",
    "print \"Instrucciones despues de intentar dividir por zero.\""
   ]
  },
  {
   "cell_type": "markdown",
   "metadata": {},
   "source": [
    "Vemos que se ha conseguido atrapar el error y se continúa el flujo del programa. Veamos otro tipo de error:"
   ]
  },
  {
   "cell_type": "code",
   "execution_count": 140,
   "metadata": {
    "collapsed": false
   },
   "outputs": [
    {
     "ename": "NameError",
     "evalue": "name 'variable_1' is not defined",
     "output_type": "error",
     "traceback": [
      "\u001b[0;31m---------------------------------------------------------------------------\u001b[0m\n\u001b[0;31mNameError\u001b[0m                                 Traceback (most recent call last)",
      "\u001b[0;32m<ipython-input-140-c89f3f7ac376>\u001b[0m in \u001b[0;36m<module>\u001b[0;34m()\u001b[0m\n\u001b[0;32m----> 1\u001b[0;31m \u001b[0;32mprint\u001b[0m \u001b[0mvariable_1\u001b[0m\u001b[0;34m\u001b[0m\u001b[0m\n\u001b[0m",
      "\u001b[0;31mNameError\u001b[0m: name 'variable_1' is not defined"
     ]
    }
   ],
   "source": [
    "print variable_1"
   ]
  },
  {
   "cell_type": "markdown",
   "metadata": {},
   "source": [
    "El error NameError salta cuando no es posible encontrar una variable. Para atraparla, por ejemplo, podríamos hacer lo siguiente:"
   ]
  },
  {
   "cell_type": "code",
   "execution_count": 141,
   "metadata": {
    "collapsed": false
   },
   "outputs": [
    {
     "name": "stdout",
     "output_type": "stream",
     "text": [
      "name 'variable_1' is not defined\n",
      "Defina la variable variable_1...\n",
      "\n",
      "Instrucciones despues de intentar imprimir la variable variable_1.\n"
     ]
    }
   ],
   "source": [
    "try:\n",
    "    print variable_1\n",
    "except NameError as e:\n",
    "    print e\n",
    "    print \"Defina la variable variable_1...\"\n",
    "    print\n",
    "    \n",
    "print \"Instrucciones despues de intentar imprimir la variable variable_1.\""
   ]
  },
  {
   "cell_type": "markdown",
   "metadata": {},
   "source": [
    "Así pues, tenemos que la expresión *try* sirve para atrapar excepciones. Esta expresión puede ir acompañada de una o varias expresiones *except* que sirven para tratar una o varias excepciones que puedan aparecer durante la ejecución del código que está en el *try*. También puede haber una expresión *else* que se ejecutará si no ocurre ninguna excepción, y también tenemos la expresión *finally* que se ejecuta tanto si ocurre una excepción o no. Un *try* debe tener un *except* o un *finally*, o ambos. El orden de estas expresiones deberá ser: *try* -> *except* -> *else* -> *finally*, done el *else* y el *finally* son opcionales, y puede haber cero o varias expresiones *except*. Veamos un último ejemplo que utiliza estas expresiones."
   ]
  },
  {
   "cell_type": "code",
   "execution_count": 142,
   "metadata": {
    "collapsed": false
   },
   "outputs": [],
   "source": [
    "def demo_exception_2(valor):\n",
    "    try:\n",
    "        print int(4 / valor)\n",
    "        if valor == 1:\n",
    "            import Un_Modulo_Inexistente\n",
    "    except TypeError as e:\n",
    "        print \"Se ha producido un TypeError: %s.\" % e\n",
    "    except ZeroDivisionError as e:\n",
    "        print \"Se ha producido un ZeroDivisionError: %s\" % e\n",
    "    except:\n",
    "        print \"Se ha producido un error que no es de tipo TypeError ni ZeroDivisionError.\"\n",
    "    else:\n",
    "        print \"Else: No ha ocurrido ningún error.\"\n",
    "    finally:\n",
    "        print \"Finally: Este mensaje se mostrará siempre, ocurra o no algún error.\"\n",
    "    return None"
   ]
  },
  {
   "cell_type": "markdown",
   "metadata": {},
   "source": [
    "Probemos primero un valor válido:"
   ]
  },
  {
   "cell_type": "code",
   "execution_count": 143,
   "metadata": {
    "collapsed": false
   },
   "outputs": [
    {
     "name": "stdout",
     "output_type": "stream",
     "text": [
      "2\n",
      "Else: No ha ocurrido ningún error.\n",
      "Finally: Este mensaje se mostrará siempre, ocurra o no algún error.\n"
     ]
    }
   ],
   "source": [
    "demo_exception_2(2)"
   ]
  },
  {
   "cell_type": "markdown",
   "metadata": {},
   "source": [
    "Vemos que ocurre lo esperado: se ejecuta el *try*, el *else* y el *finally*. Probemos ahora un valor que haga saltar un TypeError:"
   ]
  },
  {
   "cell_type": "code",
   "execution_count": 144,
   "metadata": {
    "collapsed": false
   },
   "outputs": [
    {
     "name": "stdout",
     "output_type": "stream",
     "text": [
      "Se ha producido un TypeError: unsupported operand type(s) for /: 'int' and 'str'.\n",
      "Finally: Este mensaje se mostrará siempre, ocurra o no algún error.\n"
     ]
    }
   ],
   "source": [
    "demo_exception_2('hola')"
   ]
  },
  {
   "cell_type": "markdown",
   "metadata": {},
   "source": [
    "Vemos que otra vez ocurre lo esperado: se intenta ejecutar el *try*, pero salta un error TypeError, por lo que se ejecuta el *except* correspondiente y el *finally*. Probemos ahora un valor que haga saltar un ZeroDivisionError:"
   ]
  },
  {
   "cell_type": "code",
   "execution_count": 145,
   "metadata": {
    "collapsed": false
   },
   "outputs": [
    {
     "name": "stdout",
     "output_type": "stream",
     "text": [
      "Se ha producido un ZeroDivisionError: integer division or modulo by zero\n",
      "Finally: Este mensaje se mostrará siempre, ocurra o no algún error.\n"
     ]
    }
   ],
   "source": [
    "demo_exception_2(0)"
   ]
  },
  {
   "cell_type": "markdown",
   "metadata": {},
   "source": [
    "Otra vez ocurre lo esperado: se intenta ejecutar el *try*, pero salta un error ZeroDivisionError, por lo que se ejecuta el *except* correspondiente y el *finally*. Por último, probemos ahora un valor que haga saltar un error de otro tipo:"
   ]
  },
  {
   "cell_type": "code",
   "execution_count": 146,
   "metadata": {
    "collapsed": false
   },
   "outputs": [
    {
     "name": "stdout",
     "output_type": "stream",
     "text": [
      "4\n",
      "Se ha producido un error que no es de tipo TypeError ni ZeroDivisionError.\n",
      "Finally: Este mensaje se mostrará siempre, ocurra o no algún error.\n"
     ]
    }
   ],
   "source": [
    "demo_exception_2(1)"
   ]
  },
  {
   "cell_type": "markdown",
   "metadata": {},
   "source": [
    "Vemos que ocurre lo esperado: se ejecuta el *try*, el *except* correspondiente y el *finally*."
   ]
  }
 ],
 "metadata": {
  "kernelspec": {
   "display_name": "Python [conda root]",
   "language": "python",
   "name": "conda-root-py"
  },
  "language_info": {
   "codemirror_mode": {
    "name": "ipython",
    "version": 3
   },
   "file_extension": ".py",
   "mimetype": "text/x-python",
   "name": "python",
   "nbconvert_exporter": "python",
   "pygments_lexer": "ipython3",
   "version": "3.5.2"
  }
 },
 "nbformat": 4,
 "nbformat_minor": 0
}
