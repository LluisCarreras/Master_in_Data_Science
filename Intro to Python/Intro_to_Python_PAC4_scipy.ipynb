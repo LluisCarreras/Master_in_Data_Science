{
 "metadata": {
  "kernelspec": {
   "display_name": "Python 2",
   "language": "python",
   "name": "python2"
  },
  "language_info": {
   "codemirror_mode": {
    "name": "ipython",
    "version": 2
   },
   "file_extension": ".py",
   "mimetype": "text/x-python",
   "name": "python",
   "nbconvert_exporter": "python",
   "pygments_lexer": "ipython2",
   "version": "2.7.11"
  },
  "name": "",
  "signature": "sha256:c216bd8423e991780310829c4d334d7d3b6c6273929d5e0aebc8b6b8f3213d58"
 },
 "nbformat": 3,
 "nbformat_minor": 0,
 "worksheets": [
  {
   "cells": [
    {
     "cell_type": "heading",
     "level": 1,
     "metadata": {},
     "source": [
      "Programaci\u00f3n para *Data Science*"
     ]
    },
    {
     "cell_type": "markdown",
     "metadata": {},
     "source": [
      "Unidad 4: Librer\u00edas cient\u00edficas en Python - SciPy - Ejercicios\n",
      "-------------------------------------------------"
     ]
    },
    {
     "cell_type": "markdown",
     "metadata": {},
     "source": [
      "Ejercicios\n",
      "----------\n",
      "\n",
      "A continuaci\u00f3n ten\u00e9is el \u00fanico ejercicio que deb\u00e9is resolver en esta parte del m\u00f3dulo. Dada la especificidad de los algoritmos que se implementan en la librer\u00eda SciPy, hemos seleccionado un problema m\u00e1s simple que los mostrados como ejemplo.\n",
      "\n",
      "### Ejercicio 1: Ajustar una distribuci\u00f3n\n",
      "\n",
      "La variable data contiene 1000 muestras aleatorias de una [distribuci\u00f3n normal](https://en.wikipedia.org/wiki/Normal_distribution):"
     ]
    },
    {
     "cell_type": "code",
     "collapsed": false,
     "input": [
      "from scipy.stats import norm\n",
      "\n",
      "data = norm.rvs(5, 2, size=1000)"
     ],
     "language": "python",
     "metadata": {},
     "outputs": [],
     "prompt_number": 2
    },
    {
     "cell_type": "markdown",
     "metadata": {},
     "source": [
      "Mostrad un histograma con las muestras de data, ajustad una distribuci\u00f3n normal a las muestras y mostrad la funci\u00f3n de densidad de probabilidad de la distribuci\u00f3n ajustada. **(1 punto)**\n",
      "\n",
      "Pista: Pod\u00e9is utilizar la funci\u00f3n fit de [scipy.stats.norm](https://docs.scipy.org/doc/scipy/reference/generated/scipy.stats.norm.html)."
     ]
    },
    {
     "cell_type": "code",
     "collapsed": false,
     "input": [
      "# Respuesta\n",
      "\n",
      "%matplotlib inline\n",
      "\n",
      "import matplotlib.pyplot as plt\n",
      "import numpy as np\n",
      "\n",
      "# Se calculan la media y la desviaci\u00f3n est\u00e1ndard de los valores contenidos en el vector data.\n",
      "mean = np.mean(data)\n",
      "std = np.std(data)\n",
      "\n",
      "# Se muestran los valores obtenidos para la media y la desviaci\u00f3n est\u00e1ndard.\n",
      "print \"Mean: %f\" % mean\n",
      "print \"Std:  %f\" % std\n",
      "\n",
      "# Se define un vector con valores distribuidos en el rango en el que est\u00e1n los valores de data.\n",
      "x = np.linspace(norm.ppf(0.01, mean, std), norm.ppf(0.99, mean, std), 1000)\n",
      "\n",
      "# Se ajusta una distribuci\u00f3n normal a las muestras, a partir de los valores encontrados para\n",
      "# la media y la desviaci\u00f3n est\u00e1ndard.\n",
      "adjusted_data = [norm.pdf(value, mean, std) for value in x]\n",
      "\n",
      "# Se representa gr\u00e1ficamente la densidad de probabilidad \n",
      "plt.figure()\n",
      "plt.plot(x, adjusted_data, 'r-', lw=5, alpha=0.6, label='norm pdf')\n",
      "\n",
      "# Se representa gr\u00e1ficamente el histograma con las muestras del vector data.\n",
      "plt.hist(data, normed=True, histtype='stepfilled', alpha=0.2)\n",
      "\n",
      "# Se a\u00f1aden etiquetas a los dos ejes un t\u00edtulo y una leyenda a la gr\u00e1fica.\n",
      "plt.xlabel('x')\n",
      "plt.ylabel('data, pdf(data)')\n",
      "plt.title(u'Histograma y funci\u00f3n de densidad de probabilidad')\n",
      "plt.legend(loc='best', frameon=False)\n",
      "\n",
      "# Se muestra la gr\u00e1fica.\n",
      "plt.show()"
     ],
     "language": "python",
     "metadata": {},
     "outputs": [
      {
       "output_type": "stream",
       "stream": "stdout",
       "text": [
        "Mean: 5.034443\n",
        "Std:  1.994358\n"
       ]
      },
      {
       "metadata": {},
       "output_type": "display_data",
       "png": "[encoded data removed]",
       "text": [
        "<matplotlib.figure.Figure at 0xaf196f0c>"
       ]
      }
     ],
     "prompt_number": 37
    },
    {
     "cell_type": "code",
     "collapsed": false,
     "input": [],
     "language": "python",
     "metadata": {},
     "outputs": []
    }
   ],
   "metadata": {}
  }
 ]
}
