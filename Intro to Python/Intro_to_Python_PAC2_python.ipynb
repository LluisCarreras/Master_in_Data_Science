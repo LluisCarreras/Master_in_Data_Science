{
 "cells": [
  {
   "cell_type": "markdown",
   "metadata": {},
   "source": [
    "# Programación para *Data Science*"
   ]
  },
  {
   "cell_type": "markdown",
   "metadata": {},
   "source": [
    "## Unidad 2: Breve introducción a la programación en Python"
   ]
  },
  {
   "cell_type": "markdown",
   "metadata": {},
   "source": [
    "Ejercicios y preguntas teóricas\n",
    "-------------------------------\n",
    "\n",
    "A continuación, encontraréis la parte que tenéis que completar en este módulo y las preguntas teóricas que debéis contestar.\n",
    "\n",
    "Podéis encontrar en la documentación oficial de *string* funciones que os puedan ser de ayuda para completar los ejercicios: https://docs.python.org/2/library/string.html"
   ]
  },
  {
   "cell_type": "markdown",
   "metadata": {},
   "source": [
    "### Pregunta 1\n",
    "¿Cuál es la diferencia entre definir un _string_ con comillas simples (' '), comillas dobles (\" \") y tres comillas dobles (\"\"\" \"\"\")?\n",
    "\n",
    "#### Respuesta:\n"
   ]
  },
  {
   "cell_type": "markdown",
   "metadata": {},
   "source": [
    "A diferència d'altres llenguatges de programació, els strings en Python es poden definir indistintament amb cometes simples (' ') o dobles (\" \"), la única restricció que tindrem serà que no es poden barrejar ambdós tipos de cometes en un mateix string. Dos exemples vàlids de string podrien ser \"Hola, com va?\" o 'Hola, com va?', però no seria vàlid \"Hola, com va?'.\n",
    "Amb els dos tipos anteriors només podem definir strings d'una sola línia, si volem que en tengui més d'una haurem d'utilitzar les cometes triples (\"\"\" \"\"\"). Per exemple:\n",
    "\"\"\"Això és un string\n",
    "de més d'una\n",
    "línia, en té tres\"\"\""
   ]
  },
  {
   "cell_type": "markdown",
   "metadata": {},
   "source": [
    "### Pregunta 2\n",
    "¿Qué expresión en Python necesitamos para conseguir el string \"DATADATADATADATA\" utilizando solo la palabra \"DATA\"?\n",
    "\n",
    "#### Respuesta:"
   ]
  },
  {
   "cell_type": "code",
   "execution_count": 1,
   "metadata": {
    "collapsed": true
   },
   "outputs": [
    {
     "data": {
      "text/plain": [
       "'DATADATADATADATA'"
      ]
     },
     "execution_count": 1,
     "metadata": {},
     "output_type": "execute_result"
    }
   ],
   "source": [
    "# Si \"multipliquem\" un string per un número enter n, el string apareixerà repetit n vegades.\n",
    "\"DATA\" * 4"
   ]
  },
  {
   "cell_type": "markdown",
   "metadata": {},
   "source": [
    "### Pregunta 3\n",
    "\n",
    "**¿Cuál es el valor final de a, b y c (atención a los tipos de número decimal y entero)?**\n",
    "\n",
    "a = 3*2\n",
    "\n",
    "b = 9/2.\n",
    "\n",
    "c, a = a+1, b*2\n",
    "\n",
    "#### Respuesta:"
   ]
  },
  {
   "cell_type": "markdown",
   "metadata": {},
   "source": [
    "En la primera assignació, tenim un número enter, 3, multiplicat per un altre enter, 2, que dóna com a resultat l'enter 6 per la variable a.\n",
    "En la seguna assignació tenim l'enter 9 dividit per l'enter 2, que dóna un decimal, 4.5, per la variable b.\n",
    "En la darrera assignació tenim una assignació a una tupla de dos valors. En el primer, en la variable c tindrem la suma de dos enters, el valor de la variable a, que és 6, i 1, que dóna l'enter 7. En el segon tenim que la variable a pren el valor del decimal b, que hem vist que és 4.5, multiplicat per l'enter 2, que dóna com a resultat el decimal 9.0. Per tant, resumint, tenim:\n",
    "\n",
    "a = 9.0    \n",
    "b = 4.5\n",
    "c = 7"
   ]
  },
  {
   "cell_type": "markdown",
   "metadata": {},
   "source": [
    "### Pregunta 4\n",
    "\n",
    "**Marcad las expresiones incorrectas y explicad el porqué.**\n",
    "* planetas = ('Saturno', 'Jupiter' 'Tierra')\n",
    "* t = '123','abc'\n",
    "* dias = ['Lunes', 'Martes', \"Miercoles\", ''.join(['J','u','e','v','e','s'])]\n",
    "* matriz = [[],[],[]]\n",
    "\n",
    "**Respuesta:**"
   ]
  },
  {
   "cell_type": "markdown",
   "metadata": {},
   "source": [
    "L'expressió planetas = ('Saturno', 'Jupiter' 'Tierra') és correcta, i dóna com a resultat la tupla ('Saturno', 'JupiterTierra'). Això és així perquè en el segon valor de la tupla tenim dos strings adjacents, i els strings adjacents sempres es concatenen. En aquest cas, els strings adjacents 'Jupiter' i 'Tierra', en ser adjacents, donen com a resultat el string 'JupiterTierra'.\n",
    "\n",
    "L'expressió t = '123','abc' també és correcta, ja que assigna a la variable t una tupla de dos valors, que ambdós són strings. Recordem que les tuples s'escriuen com a sèries de valors separats amb comes i tancades per parèntesi, però en segons quins casos el parèntasi es pot ometre, com passa en el nostre cas.\n",
    "\n",
    "L'expressió dias = ['Lunes', 'Martes', \"Miercoles\", ''.join(['J','u','e','v','e','s'])] també és correcta i és equivalent a la llista ['Lunes', 'Martes', 'Miercoles', 'Jueves']. Es tracta d'una llista amb quatre valors string, on els dos primers s'especifiquen amb cometes simples, el tercer amb cometes dobles i el tercer utilitza la funció join() aplicada a una llista on llurs valors són els caracters que conformen la paraula \"Jueves\", i com que el caracter que fa el join és un string buit, '', aquests caracters s'uneixen sense cap caracter entre ells i així es conforma el string \"Jueves\".\n",
    "\n",
    "La darrera expressió, matriz = [[],[],[]], també és correcta, ja que es tracta d'una llista amb tres valors, on cadascun és una altra llista buida. No és extrany que la variable s'anomeni matriz ja que el resultat és assimilable a una matriu de tres files i una columna, on a cada fila hi ha una llista buida."
   ]
  },
  {
   "cell_type": "markdown",
   "metadata": {},
   "source": [
    "### Pregunta 5\n",
    "\n",
    "Explicad a qué se refieren con el término _batteries included_ en la comunidad Python. Poned algunos ejemplos de paquetes de la librería estándar y una breve explicación de cada uno de ellos.\n",
    "\n",
    "**Respuesta:**"
   ]
  },
  {
   "cell_type": "markdown",
   "metadata": {},
   "source": [
    "Python té el que s'anomena Llibreria Stàndard, que no és més que una col·lecció de mòduls o paquets que permeten fer les tasques més comuns dintre d'un domini particular o uns tipus de problemes particulars. Aquests mòduls formen part de la instal·lació Python stàndard, és a dir, no es tenen que afegir durant la instal·lació i per tant, des d'un bon principi, es poden realitzar tasques que d'altra manera no es podria, si no estiguessin instal·lades des d'un principi. A això es refereix amb el terme \"batteries included\". \n",
    "\n",
    "Alguns exemples de paquets de la llibreria estàndard són:\n",
    "· re: És un mòdul que permet treballar amb expressions regulars, unes eines molt útils per treballar en l'anàlisi de textos.\n",
    "· sys: És un mòdul que conté eines relacionades amb l'intèrprete. Permet l'accés a alguns components del sistema, tals com la línia de comandes.\n",
    "· timeit: Es tracta d'un mòdul que permet fer mesures dels temps d'execució d'una línia de codi o una crida a una funció.\n",
    "· datetime: És un mòdul pel procesat de dates, és a dir, permet sumar dies a una data, restar una data d'una altra, i molts altres exemples.\n",
    ". json: És un mòdul molt útil quan es fan tasques de web scrapping. Serveix per traduir llistes o diccionaris en Python a estructures de dades en JSON, i viceversa.\n",
    ". math: Mòdul que permet realitzar un conjunt de funcions matemàtiques, tals com funcions trigonomètriques (sinus, cosinus, tangent...), exponencials, logaritmes..."
   ]
  },
  {
   "cell_type": "markdown",
   "metadata": {},
   "source": [
    "### Pregunta 6\n",
    "\n",
    "Python dispone de un _idiom_ muy útil conocido como _list comprehensions_. ¿Podéis explicar en qué consiste? Indicad tres ejemplos de código que utilicen este _idiom_ y documentad cada parte de código relevante.\n",
    "\n",
    "**Respuesta:**"
   ]
  },
  {
   "cell_type": "markdown",
   "metadata": {},
   "source": [
    "Es tracta d'un idiom molt útil que serveix per a construir llistes d'una manera molt compacta. Per exemple, si volguessim construir una llista amb els quadrats dels primers 5 números naturals, la manera \"normal\" per fer-ho seria:\n",
    "\n",
    "quadrats = []\n",
    "for i in range(5):\n",
    "    quadrats.append(i * i)\n",
    "\n",
    "Amb això tindriem que la variable quadrats conté la llista [0, 1, 4, 9, 16].\n",
    "\n",
    "El mateix podria construir-se amb una sola línia amb una list comprehension:\n",
    "\n",
    "quadrats = [i * i for i in range(5)]\n",
    "    \n",
    "Veiem amb aquest exemple que realment el codi és més compacte i clar.\n",
    "\n",
    "També podem incloure condicionals. Per exemple, si volem els quadrats dels primers números parells podriem utilitzar la següent list comprehension:\n",
    "\n",
    "quadrats_de_parells = [i * i for i in range(10) if i % 2 == 0]\n",
    "\n",
    "que ve a ser el mateix que:\n",
    "\n",
    "quadrats_de_parells = [0, 4, 16, 36, 64]\n",
    "\n",
    "Encara es pot complicar més. Per exemple, podem tenir bucles annidats i condicionals. Vegem-ne un exemple:\n",
    "\n",
    "quadrats = [i * j for i in range(5) for j in range(5) if i  == j]\n",
    "\n",
    "Amb això tindriem el mateix resultat que al primer exemple, una llista amb els 5 primers quadrats, però fet d'una manera més complicada que en aquest exemple no aporta més funcionalitat però ens permet veure la potència de les list comprehensions.\n",
    "\n",
    "Finalment, veiem un exemple que utilitza strings en comptes de números:\n",
    "\n",
    "vocals = [i * 2 for i in \"Hello world!\" if i in \"aeiou\"]\n",
    "\n",
    "Amb això tindrem que a la variable vocals tenim una llista de strings on cada string és cadascuna de les vocals, repetides, que es troben al string \"Hello world!\"."
   ]
  },
  {
   "cell_type": "markdown",
   "metadata": {},
   "source": [
    "### Ejercicio 1\n",
    "\n",
    "Escribid un programa que asigne dos valores enteros cualesquiera (escoged un número entero aleatorio) a dos variables con nombre a y b, calcule el producto de a por b y finalmente muestre el valor del cuadrado del producto de a por b.\n",
    "\n",
    "#### Respuesta:"
   ]
  },
  {
   "cell_type": "code",
   "execution_count": 38,
   "metadata": {
    "collapsed": true
   },
   "outputs": [
    {
     "name": "stdout",
     "output_type": "stream",
     "text": [
      "729\n"
     ]
    }
   ],
   "source": [
    "# Respuesta\n",
    "import random                # Importem el mòdul random, per treballar amb números al·leatoris.\n",
    "a = random.randint(1, 10)    # Assignem al·leatòriament a la variable a un enter entre 1 i 10.\n",
    "b = random.randint(1, 5)     # Assignem al·leatòriament a la variable b un enter entre 1 i 5.\n",
    "prod = a * b                 # Assignem a la variable prod el producte de a per b.\n",
    "print prod ** 2              # Es mostra el valor del quadrat de la variable prod."
   ]
  },
  {
   "cell_type": "markdown",
   "metadata": {},
   "source": [
    "### Ejercicio 2\n",
    "\n",
    "Escribid un programa que defina una lista cuyos valores sean los nombres de los días de la semana. Haced que muestre el primer y el último día de la semana.\n",
    "\n",
    "#### Respuesta:"
   ]
  },
  {
   "cell_type": "code",
   "execution_count": 30,
   "metadata": {
    "collapsed": true
   },
   "outputs": [
    {
     "name": "stdout",
     "output_type": "stream",
     "text": [
      "dilluns\n",
      "diumenge\n"
     ]
    }
   ],
   "source": [
    "# Respuesta\n",
    "dies = ['dilluns', 'dimarts', 'dimecres', 'dijous', 'divendres', 'dissabte', 'diumenge']\n",
    "print dies[0]                # L'índex 0 correspon al primer el·lement d'una llista.\n",
    "print dies[-1]               # L'índex -1 correspon al darrer el·lement d'una llista."
   ]
  },
  {
   "cell_type": "markdown",
   "metadata": {},
   "source": [
    "### Ejercicio 3\n",
    "\n",
    "Escribid un programa que calcule el área de un círculo de radio 3.\n",
    "\n",
    "#### Respuesta:"
   ]
  },
  {
   "cell_type": "code",
   "execution_count": 39,
   "metadata": {
    "collapsed": true
   },
   "outputs": [
    {
     "name": "stdout",
     "output_type": "stream",
     "text": [
      "28.27431\n"
     ]
    }
   ],
   "source": [
    "# Respuesta\n",
    "radi = 3                     # Assignem el valor 3 a la variable radi.\n",
    "pi = 3.14159                 # Assignem a la variable pi el valor aproximat de pi.\n",
    "area = radi * radi * pi      # Calculem l'àrea i l'assignem a la variable area.\n",
    "print area                   # Imprimim el resultat del càlcul de l'àrea."
   ]
  },
  {
   "cell_type": "markdown",
   "metadata": {},
   "source": [
    "### Ejercicio 4\n",
    "\n",
    "Escribid un programa donde se defina un diccionario con algunos de los prefijos telefónicos de España. Por ejemplo: 93 para Barcelona, 91 para Madrid, etc.\n",
    "\n",
    "#### Respuesta:"
   ]
  },
  {
   "cell_type": "code",
   "execution_count": 35,
   "metadata": {
    "collapsed": true
   },
   "outputs": [],
   "source": [
    "# Respuesta\n",
    "# En aquest diccionari, la clau o \"key\" es el codi de la provincia i el valor, o \"value\", és el seu nom.\n",
    "prefixes_espanya = {93: 'Barcelona', 91: 'Madrid', 971: 'Balears', 972: 'Girona', 982: 'Lugo'}"
   ]
  },
  {
   "cell_type": "code",
   "execution_count": null,
   "metadata": {
    "collapsed": false
   },
   "outputs": [],
   "source": []
  }
 ],
 "metadata": {
  "anaconda-cloud": {},
  "kernelspec": {
   "display_name": "Python [default]",
   "language": "python",
   "name": "python3"
  },
  "language_info": {
   "codemirror_mode": {
    "name": "ipython",
    "version": 3
   },
   "file_extension": ".py",
   "mimetype": "text/x-python",
   "name": "python",
   "nbconvert_exporter": "python",
   "pygments_lexer": "ipython3",
   "version": "3.5.2"
  }
 },
 "nbformat": 4,
 "nbformat_minor": 0
}
