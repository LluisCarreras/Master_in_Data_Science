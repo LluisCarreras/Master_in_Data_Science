{
 "metadata": {
  "name": "",
  "signature": "sha256:2f35aa9c5a9b602e697866199902b8f4f95211498061c14666c325e445e57a63"
 },
 "nbformat": 3,
 "nbformat_minor": 0,
 "worksheets": [
  {
   "cells": [
    {
     "cell_type": "heading",
     "level": 1,
     "metadata": {},
     "source": [
      "Programaci\u00f3n para Data Science"
     ]
    },
    {
     "cell_type": "markdown",
     "metadata": {},
     "source": [
      "Unidad 4: Librer\u00edas cient\u00edficas en Python - pandas - Ejercicios\n",
      "-------------------------------------------------"
     ]
    },
    {
     "cell_type": "markdown",
     "metadata": {},
     "source": [
      "## Ejercicio 1\n",
      "\n",
      "Cargad los datos del fichero `historical_projections.csv` en un _dataframe_. Este conjunto de datos recoge resultados hist\u00f3ricos (hasta 2015) sobre el [_draft_ de la NBA](https://en.wikipedia.org/wiki/NBA_draft) junto con valores probabil\u00edsticos extra\u00eddos de un modelo para predecir el \u00e9xito de los jugadores.\n",
      "\n",
      "Mostrad el n\u00famero de filas del _dataframe_ y las etiquetas de los ejes. **(0.5 puntos)**\n",
      "\n",
      "\n",
      "\n",
      "\n",
      "\n",
      "\n"
     ]
    },
    {
     "cell_type": "code",
     "collapsed": false,
     "input": [
      "# Respuesta\n",
      "\n",
      "import pandas as pd\n",
      "import numpy as np\n",
      "\n",
      "# Se cargan los datos del fichero historical_projections.csv en el dataframe data.\n",
      "data = pd.read_csv(\"data/historical_projections.csv\")\n",
      "\n",
      "# Se muestran las 5 primeras filas del dataframe.\n",
      "print data.head(n=5)\n",
      "\n",
      "print\n",
      "print 'N\u00famero de filas: %d' % len(data)\n",
      "\n",
      "print\n",
      "print 'Etiquetas de las filas:'\n",
      "print data.index\n",
      "\n",
      "print\n",
      "print 'Etiquetas de las columnas:'\n",
      "print list(data)"
     ],
     "language": "python",
     "metadata": {},
     "outputs": [
      {
       "output_type": "stream",
       "stream": "stdout",
       "text": [
        "               Player Position                  ID  Draft Year  Projected SPM  \\\n",
        "0  Karl-Anthony Towns        C  karl-anthony-towns        2015       1.030606   \n",
        "1     Justise Winslow       SF     justise-winslow        2015       0.875329   \n",
        "2     Stanley Johnson       SF     stanley-johnson        2015       0.679493   \n",
        "3       Jahlil Okafor        C       jahlil-okafor        2015       0.521661   \n",
        "4    D`Angelo Russell       PG    d-angelo-russell        2015       0.511967   \n",
        "\n",
        "   Superstar   Starter  Role Player      Bust  \n",
        "0   0.134767  0.427183     0.163083  0.274967  \n",
        "1   0.083529  0.510905     0.176767  0.228800  \n",
        "2   0.067800  0.423733     0.278500  0.229967  \n",
        "3   0.058717  0.409900     0.235533  0.295850  \n",
        "4   0.152033  0.342283     0.096583  0.409100  \n",
        "\n",
        "N\u00famero de filas: 1090\n",
        "\n",
        "Etiquetas de las filas:\n",
        "RangeIndex(start=0, stop=1090, step=1)\n",
        "\n",
        "Etiquetas de las columnas:\n",
        "['Player', 'Position', 'ID', 'Draft Year', 'Projected SPM', 'Superstar', 'Starter', 'Role Player', 'Bust']\n"
       ]
      }
     ],
     "prompt_number": 13
    },
    {
     "cell_type": "markdown",
     "metadata": {},
     "source": [
      "## Ejercicio 2\n",
      "\n",
      "Agrupad los datos cargados en el ejercicio 1 por a\u00f1os. Para cada a\u00f1o, mostrad el n\u00famero de jugadores que hay en el _draft_ y la media de la probabilidad de que un jugador sea una superestrella (la probabilidad se encuentra en la columna _Superstar_). **(0.5 puntos)**"
     ]
    },
    {
     "cell_type": "code",
     "collapsed": false,
     "input": [
      "# Respuesta\n",
      "\n",
      "# Agrupamos por a\u00f1os\n",
      "grouped_by_years = data.groupby('Draft Year')\n",
      "\n",
      "# Para cada a\u00f1o, mostramos el a\u00f1o, el n\u00famero de jugadores que hay en el draft y la media de la \n",
      "# probabilidad de que un jugador sea una superestrella.\n",
      "for name, group in grouped_by_years:\n",
      "    print name, len(group), np.mean(group['Superstar'])                                "
     ],
     "language": "python",
     "metadata": {},
     "outputs": [
      {
       "output_type": "stream",
       "stream": "stdout",
       "text": [
        "2001 59 0.014663946\n",
        "2002 55 0.00794531241818\n",
        "2003 78 0.00556327921026\n",
        "2004 51 0.0095565570451\n",
        "2005 57 0.0122524713509\n",
        "2006 77 0.0112902001948\n",
        "2007 71 0.0134185371113\n",
        "2008 74 0.0146655646892\n",
        "2009 80 0.0104260544862\n",
        "2010 84 0.0115274674857\n",
        "2011"
       ]
      },
      {
       "output_type": "stream",
       "stream": "stdout",
       "text": [
        " 80 0.00954836475\n",
        "2012 85 0.0118894523247\n",
        "2013 81 0.0108960569704\n",
        "2014 81 0.0150127920111\n",
        "2015 77 0.0121417367545\n"
       ]
      }
     ],
     "prompt_number": 35
    },
    {
     "cell_type": "markdown",
     "metadata": {},
     "source": [
      "## Ejercicio 3\n",
      "\n",
      "Mostrad los datos de los jugadores que aparecen en el _draft_ de 2015 con un valor \u00abProjected SPM\u00bb superior a 0.2 y juegan o bien en la posici\u00f3n escolta (en ingl\u00e9s, _shooting guard_ o _SG_) o bien en la posici\u00f3n ala-p\u00edvot (en ingl\u00e9s, _power forward_ o _PF_). **(1 punto)**"
     ]
    },
    {
     "cell_type": "code",
     "collapsed": false,
     "input": [
      "# Respuestadata\n",
      "\n",
      "# Usamos la funci\u00f3n where() para elegir filas que cumplan ciertas condiciones:\n",
      "#     - Que la columna 'Draft Year' sea igual a 2015\n",
      "#     - Que la columna 'Projected SPM' sea mayor que 0.2\n",
      "#     - Que la columna 'Position? sea o bien igual a 'SG' o igual a 'PF'.\n",
      "# Eliminamos todas las filas que tengan valores NaN.\n",
      "exercise3_data = data.where((data['Draft Year'] == 2015) & \n",
      "                            (data['Projected SPM'] > 0.2) & \n",
      "                            ((data['Position'] == 'SG') | (data['Position'] == 'PF'))).dropna(how='all')\n",
      "print exercise3_data"
     ],
     "language": "python",
     "metadata": {},
     "outputs": [
      {
       "output_type": "stream",
       "stream": "stdout",
       "text": [
        "          Player Position              ID  Draft Year  Projected SPM  \\\n",
        "6   Devin Booker       SG  3-devin-booker      2015.0       0.472577   \n",
        "9     Trey Lyles       PF      trey-lyles      2015.0       0.267509   \n",
        "13  Kevon Looney       PF    kevon-looney      2015.0       0.204173   \n",
        "\n",
        "    Superstar   Starter  Role Player      Bust  \n",
        "6    0.073367  0.324467     0.390167  0.212000  \n",
        "9    0.022386  0.351329     0.403052  0.223233  \n",
        "13   0.008300  0.355567     0.374917  0.261217  \n"
       ]
      }
     ],
     "prompt_number": 59
    },
    {
     "cell_type": "markdown",
     "metadata": {},
     "source": [
      "## Ejercicio 4\n",
      "\n",
      "Contad el n\u00famero de jugadores (diferentes) que aparecen en el _dataframe_ utilizando las funciones de la librer\u00eda pandas. \u00bfExisten jugadores que aparecen m\u00faltiples veces en el _dataframe_? **(0.5 puntos)**\n"
     ]
    },
    {
     "cell_type": "code",
     "collapsed": false,
     "input": [
      "# Respuesta\n",
      "print len(data['Player'].unique())\n",
      "print len(data['Player'])"
     ],
     "language": "python",
     "metadata": {},
     "outputs": [
      {
       "output_type": "stream",
       "stream": "stdout",
       "text": [
        "1085\n",
        "1090\n"
       ]
      }
     ],
     "prompt_number": 62
    },
    {
     "cell_type": "markdown",
     "metadata": {},
     "source": [
      "Vemos que hay 1090 jugadores registrados en el dataframe, y que de estos, 1085 son jugadores diferentes. Por lo tanto, podemos afirmar que hay jugadores que aparecen varias veces en el dataframe. Tambi\u00e9n pod\u00edamos haberlo calculado de la siguiente manera:"
     ]
    },
    {
     "cell_type": "code",
     "collapsed": false,
     "input": [
      "grouped_by_name = data.groupby('Player')\n",
      "print len(data.groupby('Player'))"
     ],
     "language": "python",
     "metadata": {},
     "outputs": [
      {
       "output_type": "stream",
       "stream": "stdout",
       "text": [
        "1085\n"
       ]
      }
     ],
     "prompt_number": 65
    },
    {
     "cell_type": "markdown",
     "metadata": {},
     "source": [
      "Incluso podemos ver quienes son estos jugadores que aparecen m\u00e1s de una vez:"
     ]
    },
    {
     "cell_type": "code",
     "collapsed": false,
     "input": [
      "for name, group in grouped_by_name:\n",
      "    if len(group) > 1:\n",
      "        print name   "
     ],
     "language": "python",
     "metadata": {},
     "outputs": [
      {
       "output_type": "stream",
       "stream": "stdout",
       "text": [
        "Chris Johnson\n",
        "Justin Hamilton"
       ]
      },
      {
       "output_type": "stream",
       "stream": "stdout",
       "text": [
        "\n",
        "Marcus Thornton"
       ]
      },
      {
       "output_type": "stream",
       "stream": "stdout",
       "text": [
        "\n",
        "Marcus Williams\n",
        "Tony Mitchell"
       ]
      },
      {
       "output_type": "stream",
       "stream": "stdout",
       "text": [
        "\n"
       ]
      }
     ],
     "prompt_number": 66
    },
    {
     "cell_type": "markdown",
     "metadata": {},
     "source": [
      "## Ejercicio 5\n",
      "\n",
      "A\u00f1adid una nueva columna al _dataframe_ con un valor booleano indicando si el jugador ser\u00e1 o no una superestrella. Considerad que un jugador ser\u00e1 una superestrella si la probabilidad de que lo sea es superior a 0.1. **(1 punto)**"
     ]
    },
    {
     "cell_type": "code",
     "collapsed": false,
     "input": [
      "# Respuesta\n",
      "\n",
      "# Asignando una columna que no existe crea una nueva columna. En cada fila asignamos un valor booleano, True o False, dependiendo\n",
      "# de si el valor en la columna 'Superstar' es mayor que 0.1 o no.\n",
      "data['Future superstar'] = data['Superstar'] > 0.1"
     ],
     "language": "python",
     "metadata": {},
     "outputs": [],
     "prompt_number": 88
    },
    {
     "cell_type": "code",
     "collapsed": false,
     "input": [
      "# Visualizamos las 10 primeras filas y comprobamos que, efectivamente, se ha insertado una nueva columna con los\n",
      "# valores esperados.\n",
      "data.head(n=10)"
     ],
     "language": "python",
     "metadata": {},
     "outputs": [
      {
       "html": [
        "<div style=\"max-width:1500px;overflow:auto;\">\n",
        "<style>\n",
        "    .dataframe thead tr:only-child th {\n",
        "        text-align: right;\n",
        "    }\n",
        "\n",
        "    .dataframe thead th {\n",
        "        text-align: left;\n",
        "    }\n",
        "\n",
        "    .dataframe tbody tr th {\n",
        "        vertical-align: top;\n",
        "    }\n",
        "</style>\n",
        "<table border=\"1\" class=\"dataframe\">\n",
        "  <thead>\n",
        "    <tr style=\"text-align: right;\">\n",
        "      <th></th>\n",
        "      <th>Player</th>\n",
        "      <th>Position</th>\n",
        "      <th>ID</th>\n",
        "      <th>Draft Year</th>\n",
        "      <th>Projected SPM</th>\n",
        "      <th>Superstar</th>\n",
        "      <th>Starter</th>\n",
        "      <th>Role Player</th>\n",
        "      <th>Bust</th>\n",
        "      <th>Future superstar</th>\n",
        "    </tr>\n",
        "  </thead>\n",
        "  <tbody>\n",
        "    <tr>\n",
        "      <th>0</th>\n",
        "      <td>Karl-Anthony Towns</td>\n",
        "      <td>C</td>\n",
        "      <td>karl-anthony-towns</td>\n",
        "      <td>2015</td>\n",
        "      <td>1.030606</td>\n",
        "      <td>1.0</td>\n",
        "      <td>0.427183</td>\n",
        "      <td>0.163083</td>\n",
        "      <td>0.274967</td>\n",
        "      <td>True</td>\n",
        "    </tr>\n",
        "    <tr>\n",
        "      <th>1</th>\n",
        "      <td>Justise Winslow</td>\n",
        "      <td>SF</td>\n",
        "      <td>justise-winslow</td>\n",
        "      <td>2015</td>\n",
        "      <td>0.875329</td>\n",
        "      <td>0.0</td>\n",
        "      <td>0.510905</td>\n",
        "      <td>0.176767</td>\n",
        "      <td>0.228800</td>\n",
        "      <td>False</td>\n",
        "    </tr>\n",
        "    <tr>\n",
        "      <th>2</th>\n",
        "      <td>Stanley Johnson</td>\n",
        "      <td>SF</td>\n",
        "      <td>stanley-johnson</td>\n",
        "      <td>2015</td>\n",
        "      <td>0.679493</td>\n",
        "      <td>0.0</td>\n",
        "      <td>0.423733</td>\n",
        "      <td>0.278500</td>\n",
        "      <td>0.229967</td>\n",
        "      <td>False</td>\n",
        "    </tr>\n",
        "    <tr>\n",
        "      <th>3</th>\n",
        "      <td>Jahlil Okafor</td>\n",
        "      <td>C</td>\n",
        "      <td>jahlil-okafor</td>\n",
        "      <td>2015</td>\n",
        "      <td>0.521661</td>\n",
        "      <td>0.0</td>\n",
        "      <td>0.409900</td>\n",
        "      <td>0.235533</td>\n",
        "      <td>0.295850</td>\n",
        "      <td>False</td>\n",
        "    </tr>\n",
        "    <tr>\n",
        "      <th>4</th>\n",
        "      <td>D`Angelo Russell</td>\n",
        "      <td>PG</td>\n",
        "      <td>d-angelo-russell</td>\n",
        "      <td>2015</td>\n",
        "      <td>0.511967</td>\n",
        "      <td>1.0</td>\n",
        "      <td>0.342283</td>\n",
        "      <td>0.096583</td>\n",
        "      <td>0.409100</td>\n",
        "      <td>True</td>\n",
        "    </tr>\n",
        "    <tr>\n",
        "      <th>5</th>\n",
        "      <td>Dakari Johnson</td>\n",
        "      <td>C</td>\n",
        "      <td>dakari-johnson</td>\n",
        "      <td>2015</td>\n",
        "      <td>0.491787</td>\n",
        "      <td>0.0</td>\n",
        "      <td>0.367544</td>\n",
        "      <td>0.417572</td>\n",
        "      <td>0.193544</td>\n",
        "      <td>False</td>\n",
        "    </tr>\n",
        "    <tr>\n",
        "      <th>6</th>\n",
        "      <td>Devin Booker</td>\n",
        "      <td>SG</td>\n",
        "      <td>3-devin-booker</td>\n",
        "      <td>2015</td>\n",
        "      <td>0.472577</td>\n",
        "      <td>0.0</td>\n",
        "      <td>0.324467</td>\n",
        "      <td>0.390167</td>\n",
        "      <td>0.212000</td>\n",
        "      <td>False</td>\n",
        "    </tr>\n",
        "    <tr>\n",
        "      <th>7</th>\n",
        "      <td>Willie Cauley-Stein</td>\n",
        "      <td>C</td>\n",
        "      <td>willie-cauley-stein</td>\n",
        "      <td>2015</td>\n",
        "      <td>0.351171</td>\n",
        "      <td>0.0</td>\n",
        "      <td>0.405990</td>\n",
        "      <td>0.243186</td>\n",
        "      <td>0.303710</td>\n",
        "      <td>False</td>\n",
        "    </tr>\n",
        "    <tr>\n",
        "      <th>8</th>\n",
        "      <td>Rondae Hollis-Jefferson</td>\n",
        "      <td>SF</td>\n",
        "      <td>rondae-hollis-jefferson</td>\n",
        "      <td>2015</td>\n",
        "      <td>0.311909</td>\n",
        "      <td>0.0</td>\n",
        "      <td>0.368533</td>\n",
        "      <td>0.392481</td>\n",
        "      <td>0.224396</td>\n",
        "      <td>False</td>\n",
        "    </tr>\n",
        "    <tr>\n",
        "      <th>9</th>\n",
        "      <td>Trey Lyles</td>\n",
        "      <td>PF</td>\n",
        "      <td>trey-lyles</td>\n",
        "      <td>2015</td>\n",
        "      <td>0.267509</td>\n",
        "      <td>0.0</td>\n",
        "      <td>0.351329</td>\n",
        "      <td>0.403052</td>\n",
        "      <td>0.223233</td>\n",
        "      <td>False</td>\n",
        "    </tr>\n",
        "  </tbody>\n",
        "</table>\n",
        "</div>"
       ],
       "metadata": {},
       "output_type": "pyout",
       "prompt_number": 91,
       "text": [
        "                    Player Position                       ID  Draft Year  \\\n",
        "0       Karl-Anthony Towns        C       karl-anthony-towns        2015   \n",
        "1          Justise Winslow       SF          justise-winslow        2015   \n",
        "2          Stanley Johnson       SF          stanley-johnson        2015   \n",
        "3            Jahlil Okafor        C            jahlil-okafor        2015   \n",
        "4         D`Angelo Russell       PG         d-angelo-russell        2015   \n",
        "5           Dakari Johnson        C           dakari-johnson        2015   \n",
        "6             Devin Booker       SG           3-devin-booker        2015   \n",
        "7      Willie Cauley-Stein        C      willie-cauley-stein        2015   \n",
        "8  Rondae Hollis-Jefferson       SF  rondae-hollis-jefferson        2015   \n",
        "9               Trey Lyles       PF               trey-lyles        2015   \n",
        "\n",
        "   Projected SPM  Superstar   Starter  Role Player      Bust  Future superstar  \n",
        "0       1.030606        1.0  0.427183     0.163083  0.274967              True  \n",
        "1       0.875329        0.0  0.510905     0.176767  0.228800             False  \n",
        "2       0.679493        0.0  0.423733     0.278500  0.229967             False  \n",
        "3       0.521661        0.0  0.409900     0.235533  0.295850             False  \n",
        "4       0.511967        1.0  0.342283     0.096583  0.409100              True  \n",
        "5       0.491787        0.0  0.367544     0.417572  0.193544             False  \n",
        "6       0.472577        0.0  0.324467     0.390167  0.212000             False  \n",
        "7       0.351171        0.0  0.405990     0.243186  0.303710             False  \n",
        "8       0.311909        0.0  0.368533     0.392481  0.224396             False  \n",
        "9       0.267509        0.0  0.351329     0.403052  0.223233             False  "
       ]
      }
     ],
     "prompt_number": 91
    },
    {
     "cell_type": "markdown",
     "metadata": {},
     "source": [
      "Agrupamos el dataframe seg\u00fan la columna 'Future superstar' para ver cu\u00e1ntos jugadores ser\u00e1n futuras estrellas y cu\u00e1ntas no lo ser\u00e1n."
     ]
    },
    {
     "cell_type": "code",
     "collapsed": false,
     "input": [
      "grouped_by_future_superstar = data.groupby('Future superstar')\n",
      "\n",
      "# Para cada posible valor, True o False, veamos cu\u00e1ntos valores tenemos.\n",
      "for name, group in grouped_by_future_superstar:\n",
      "    print name, len(group)  "
     ],
     "language": "python",
     "metadata": {},
     "outputs": [
      {
       "output_type": "stream",
       "stream": "stdout",
       "text": [
        "False 1054\n",
        "True 36\n"
       ]
      }
     ],
     "prompt_number": 94
    },
    {
     "cell_type": "code",
     "collapsed": false,
     "input": [],
     "language": "python",
     "metadata": {},
     "outputs": []
    }
   ],
   "metadata": {}
  }
 ]
}